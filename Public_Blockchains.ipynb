{
  "cells": [
    {
      "cell_type": "markdown",
      "metadata": {
        "colab_type": "text",
        "id": "view-in-github"
      },
      "source": [
        "<a href=\"https://colab.research.google.com/github/swissecon-cryptecon/public_blockchains/blob/main/Public_Blockchains.ipynb\" target=\"_parent\"><img src=\"https://colab.research.google.com/assets/colab-badge.svg\" alt=\"Open In Colab\"/></a>"
      ]
    },
    {
      "cell_type": "code",
      "execution_count": null,
      "metadata": {},
      "outputs": [],
      "source": [
        "#!pip install messari"
      ]
    },
    {
      "cell_type": "code",
      "execution_count": 2,
      "metadata": {
        "id": "5OnO8euF6HTI"
      },
      "outputs": [],
      "source": [
        "from messari.messari import Messari\n",
        "import pandas as pd"
      ]
    },
    {
      "cell_type": "code",
      "execution_count": 3,
      "metadata": {
        "id": "EkWJLxCD6MOu"
      },
      "outputs": [],
      "source": [
        "# Messari API Key\n",
        "messari = Messari('OwwZ+mQ92hTCnYuzB-Gx9+927B2h-PNBIiyihjsVMmnF3to4')"
      ]
    },
    {
      "cell_type": "code",
      "execution_count": null,
      "metadata": {
        "id": "XlglEpdC6O4_"
      },
      "outputs": [],
      "source": [
        "#list of variables, see also documentation: https://messari.io/api/docs#tag/News/operation/Get%20News%20for%20Asset\n",
        "#print(dir(messari)) \n",
        "list_messari_metrics = messari.list_asset_timeseries_metric_ids()\n",
        "data = list_messari_metrics[\"data\"][\"metrics\"]  \n",
        "df = pd.DataFrame(data)\n",
        "df.to_csv(\"messari_metrics.csv\", index=False)"
      ]
    },
    {
      "cell_type": "code",
      "execution_count": 126,
      "metadata": {},
      "outputs": [
        {
          "data": {
            "text/plain": [
              "{'status': {'elapsed': 17,\n",
              "  'timestamp': '2023-04-16T13:55:23.442314905Z',\n",
              "  'error_code': 404,\n",
              "  'error_message': 'Not Found'}}"
            ]
          },
          "execution_count": 126,
          "metadata": {},
          "output_type": "execute_result"
        }
      ],
      "source": [
        "asset = \"solana\"\n",
        "metric = \"act.addr.cnt\"\n",
        "start = '2017-01-01'\n",
        "end = '2023-04-15'\n",
        "interval = '1w'\n",
        "\n",
        "query_params = {\n",
        "    'start': start,\n",
        "    'end': end,\n",
        "    'interval': interval,\n",
        "    'order': 'ascending',\n",
        "    'format': 'json',\n",
        "    'timestamp-format': 'rfc3339'\n",
        "}\n",
        "response = messari.get_asset_timeseries(asset_key=asset, metric_id=metric, **query_params)\n",
        "response"
      ]
    },
    {
      "cell_type": "code",
      "execution_count": 164,
      "metadata": {
        "id": "cFI_trrC6WxT"
      },
      "outputs": [],
      "source": [
        "# Retrieve historical timeseries data for an asset.\n",
        "def messari_query(asset, metric, start = '2017-01-01', end = '2023-04-15', interval = '1w'):\n",
        "\n",
        "    query_params = {\n",
        "        'start': start,\n",
        "        'end': end,\n",
        "        'interval': interval,\n",
        "        'order': 'ascending',\n",
        "        'format': 'json',\n",
        "        'timestamp-format': 'rfc3339'\n",
        "    }\n",
        "    response = messari.get_asset_timeseries(asset_key=asset, metric_id=metric, **query_params)\n",
        "    error_code = response[\"status\"].get(\"error_code\", None)\n",
        "    error_msg = response['status'].get(\"error_message\", None)\n",
        "\n",
        "    if error_code is not None:\n",
        "        error_msg = asset + \", \" + metric + \": Error \" +  error_msg\n",
        "        print(error_msg)\n",
        "        print(\"Metric '\" + metric + \"' for \" + asset + \" is ignored!\")\n",
        "        df = pd.DataFrame()\n",
        "        df['timestamp'] = None\n",
        "        df['asset'] = None\n",
        "    else:\n",
        "        # Assume the output dictionary is stored in a variable called 'output'\n",
        "        data = response['data']\n",
        "        values = data['values']\n",
        "\n",
        "        # Convert the values list to a Pandas DataFrame\n",
        "        df = pd.DataFrame(values, columns=data['schema']['values_schema'].keys())\n",
        "\n",
        "        # Add a column for the asset name\n",
        "        df['asset'] = asset\n",
        "\n",
        "        # Convert the timestamp column to a datetime data type\n",
        "        df['timestamp'] = pd.to_datetime(df['timestamp'])\n",
        "\n",
        "    # Print the resulting DataFrame\n",
        "    return df"
      ]
    },
    {
      "cell_type": "code",
      "execution_count": 165,
      "metadata": {},
      "outputs": [],
      "source": [
        "def multi_messari_query(assets, metrics, start = '2020-01-01', end = '2023-04-15', interval = '1w'):\n",
        "    #initialize empty dataframe\n",
        "    df_merged = pd.DataFrame()\n",
        "    df_merged['timestamp'] = None\n",
        "    df_merged['asset'] = None\n",
        "\n",
        "    #loop through assets and metrics\n",
        "    for asset in assets:\n",
        "        df_merged_metric = pd.DataFrame()\n",
        "        df_merged_metric['timestamp'] = None\n",
        "        df_merged_metric['asset'] = None\n",
        "        for metric in metrics:\n",
        "            df = messari_query(asset, metric, start = start, end = end, interval = interval)\n",
        "            df_merged_metric = pd.merge(df_merged_metric, df, how='outer', on=['timestamp', 'asset'])  ### do we loose obs with this merge?\n",
        "        \n",
        "        df_merged = pd.concat([df_merged, df_merged_metric], axis=0)\n",
        "\n",
        "    return df_merged"
      ]
    },
    {
      "cell_type": "code",
      "execution_count": 163,
      "metadata": {},
      "outputs": [
        {
          "name": "stdout",
          "output_type": "stream",
          "text": [
            "solana, act.addr.cnt: Error Not Found\n",
            "Metric 'act.addr.cnt' for solana is ignored.\n",
            "asset\n"
          ]
        }
      ],
      "source": [
        "# example singe messari query\n",
        "asset = 'solana'\n",
        "metric = 'act.addr.cnt'  ##  'mcap.circ', mcap.dom  ## circulating market supply\n",
        "df1, error_msg = messari_query(asset, metric)\n",
        "print(error_msg)\n"
      ]
    },
    {
      "cell_type": "code",
      "execution_count": 202,
      "metadata": {},
      "outputs": [
        {
          "name": "stdout",
          "output_type": "stream",
          "text": [
            "solana, act.addr.cnt: Error Not Found\n",
            "Metric 'act.addr.cnt' for solana is ignored!\n",
            "solana, addr.bal.10.cnt: Error Not Found\n",
            "Metric 'addr.bal.10.cnt' for solana is ignored!\n"
          ]
        },
        {
          "data": {
            "text/html": [
              "<div>\n",
              "<style scoped>\n",
              "    .dataframe tbody tr th:only-of-type {\n",
              "        vertical-align: middle;\n",
              "    }\n",
              "\n",
              "    .dataframe tbody tr th {\n",
              "        vertical-align: top;\n",
              "    }\n",
              "\n",
              "    .dataframe thead th {\n",
              "        text-align: right;\n",
              "    }\n",
              "</style>\n",
              "<table border=\"1\" class=\"dataframe\">\n",
              "  <thead>\n",
              "    <tr style=\"text-align: right;\">\n",
              "      <th></th>\n",
              "      <th>timestamp</th>\n",
              "      <th>asset</th>\n",
              "      <th>circulating_marketcap</th>\n",
              "      <th>active_addresses</th>\n",
              "      <th>marketcap_dominance</th>\n",
              "      <th>addresses</th>\n",
              "    </tr>\n",
              "  </thead>\n",
              "  <tbody>\n",
              "    <tr>\n",
              "      <th>0</th>\n",
              "      <td>2020-01-06 00:00:00+00:00</td>\n",
              "      <td>bitcoin</td>\n",
              "      <td>1.472557e+11</td>\n",
              "      <td>581504.0</td>\n",
              "      <td>69.994370</td>\n",
              "      <td>13943907.0</td>\n",
              "    </tr>\n",
              "    <tr>\n",
              "      <th>1</th>\n",
              "      <td>2020-01-13 00:00:00+00:00</td>\n",
              "      <td>bitcoin</td>\n",
              "      <td>1.606576e+11</td>\n",
              "      <td>622774.0</td>\n",
              "      <td>68.389125</td>\n",
              "      <td>14185190.0</td>\n",
              "    </tr>\n",
              "    <tr>\n",
              "      <th>2</th>\n",
              "      <td>2020-01-20 00:00:00+00:00</td>\n",
              "      <td>bitcoin</td>\n",
              "      <td>1.538085e+11</td>\n",
              "      <td>544915.0</td>\n",
              "      <td>67.975179</td>\n",
              "      <td>14131080.0</td>\n",
              "    </tr>\n",
              "    <tr>\n",
              "      <th>3</th>\n",
              "      <td>2020-01-27 00:00:00+00:00</td>\n",
              "      <td>bitcoin</td>\n",
              "      <td>1.703184e+11</td>\n",
              "      <td>706042.0</td>\n",
              "      <td>67.367427</td>\n",
              "      <td>14341719.0</td>\n",
              "    </tr>\n",
              "    <tr>\n",
              "      <th>4</th>\n",
              "      <td>2020-02-03 00:00:00+00:00</td>\n",
              "      <td>bitcoin</td>\n",
              "      <td>1.835028e+11</td>\n",
              "      <td>695691.0</td>\n",
              "      <td>65.624116</td>\n",
              "      <td>14954464.0</td>\n",
              "    </tr>\n",
              "    <tr>\n",
              "      <th>...</th>\n",
              "      <td>...</td>\n",
              "      <td>...</td>\n",
              "      <td>...</td>\n",
              "      <td>...</td>\n",
              "      <td>...</td>\n",
              "      <td>...</td>\n",
              "    </tr>\n",
              "    <tr>\n",
              "      <th>153</th>\n",
              "      <td>2023-03-13 00:00:00+00:00</td>\n",
              "      <td>solana</td>\n",
              "      <td>8.151069e+09</td>\n",
              "      <td>NaN</td>\n",
              "      <td>0.703298</td>\n",
              "      <td>NaN</td>\n",
              "    </tr>\n",
              "    <tr>\n",
              "      <th>154</th>\n",
              "      <td>2023-03-20 00:00:00+00:00</td>\n",
              "      <td>solana</td>\n",
              "      <td>7.841841e+09</td>\n",
              "      <td>NaN</td>\n",
              "      <td>0.674893</td>\n",
              "      <td>NaN</td>\n",
              "    </tr>\n",
              "    <tr>\n",
              "      <th>155</th>\n",
              "      <td>2023-03-27 00:00:00+00:00</td>\n",
              "      <td>solana</td>\n",
              "      <td>8.131239e+09</td>\n",
              "      <td>NaN</td>\n",
              "      <td>0.675096</td>\n",
              "      <td>NaN</td>\n",
              "    </tr>\n",
              "    <tr>\n",
              "      <th>156</th>\n",
              "      <td>2023-04-03 00:00:00+00:00</td>\n",
              "      <td>solana</td>\n",
              "      <td>7.780007e+09</td>\n",
              "      <td>NaN</td>\n",
              "      <td>0.651450</td>\n",
              "      <td>NaN</td>\n",
              "    </tr>\n",
              "    <tr>\n",
              "      <th>157</th>\n",
              "      <td>2023-04-10 00:00:00+00:00</td>\n",
              "      <td>solana</td>\n",
              "      <td>7.881990e+09</td>\n",
              "      <td>NaN</td>\n",
              "      <td>0.654361</td>\n",
              "      <td>NaN</td>\n",
              "    </tr>\n",
              "  </tbody>\n",
              "</table>\n",
              "<p>822 rows × 6 columns</p>\n",
              "</div>"
            ],
            "text/plain": [
              "                    timestamp    asset  circulating_marketcap  \\\n",
              "0   2020-01-06 00:00:00+00:00  bitcoin           1.472557e+11   \n",
              "1   2020-01-13 00:00:00+00:00  bitcoin           1.606576e+11   \n",
              "2   2020-01-20 00:00:00+00:00  bitcoin           1.538085e+11   \n",
              "3   2020-01-27 00:00:00+00:00  bitcoin           1.703184e+11   \n",
              "4   2020-02-03 00:00:00+00:00  bitcoin           1.835028e+11   \n",
              "..                        ...      ...                    ...   \n",
              "153 2023-03-13 00:00:00+00:00   solana           8.151069e+09   \n",
              "154 2023-03-20 00:00:00+00:00   solana           7.841841e+09   \n",
              "155 2023-03-27 00:00:00+00:00   solana           8.131239e+09   \n",
              "156 2023-04-03 00:00:00+00:00   solana           7.780007e+09   \n",
              "157 2023-04-10 00:00:00+00:00   solana           7.881990e+09   \n",
              "\n",
              "     active_addresses  marketcap_dominance   addresses  \n",
              "0            581504.0            69.994370  13943907.0  \n",
              "1            622774.0            68.389125  14185190.0  \n",
              "2            544915.0            67.975179  14131080.0  \n",
              "3            706042.0            67.367427  14341719.0  \n",
              "4            695691.0            65.624116  14954464.0  \n",
              "..                ...                  ...         ...  \n",
              "153               NaN             0.703298         NaN  \n",
              "154               NaN             0.674893         NaN  \n",
              "155               NaN             0.675096         NaN  \n",
              "156               NaN             0.651450         NaN  \n",
              "157               NaN             0.654361         NaN  \n",
              "\n",
              "[822 rows x 6 columns]"
            ]
          },
          "execution_count": 202,
          "metadata": {},
          "output_type": "execute_result"
        }
      ],
      "source": [
        "#exampe multi messari query\n",
        "assets = [\"bitcoin\", \"ethereum\", \"cardano\", \"polkadot\", \"solana\"] # no data on addresses solona --> error\n",
        "metrics = [\"mcap.circ\", \"act.addr.cnt\", \"mcap.dom\", \"addr.bal.10.cnt\"] # circulating_mar\n",
        "df = multi_messari_query(assets=assets,metrics=metrics)\n",
        "df"
      ]
    },
    {
      "cell_type": "code",
      "execution_count": 203,
      "metadata": {},
      "outputs": [],
      "source": [
        "df[\"day\"] = pd.to_datetime(df.timestamp).dt.date\n",
        "df[\"year\"] = pd.to_datetime(df.timestamp).dt.year\n",
        "# keep first observation per asset per year\n",
        "df_year = df.groupby([\"asset\", \"year\"]).last().reset_index()"
      ]
    },
    {
      "cell_type": "code",
      "execution_count": 204,
      "metadata": {},
      "outputs": [
        {
          "data": {
            "text/html": [
              "<div>\n",
              "<style scoped>\n",
              "    .dataframe tbody tr th:only-of-type {\n",
              "        vertical-align: middle;\n",
              "    }\n",
              "\n",
              "    .dataframe tbody tr th {\n",
              "        vertical-align: top;\n",
              "    }\n",
              "\n",
              "    .dataframe thead th {\n",
              "        text-align: right;\n",
              "    }\n",
              "</style>\n",
              "<table border=\"1\" class=\"dataframe\">\n",
              "  <thead>\n",
              "    <tr style=\"text-align: right;\">\n",
              "      <th></th>\n",
              "      <th>asset</th>\n",
              "      <th>year</th>\n",
              "      <th>timestamp</th>\n",
              "      <th>circulating_marketcap</th>\n",
              "      <th>active_addresses</th>\n",
              "      <th>marketcap_dominance</th>\n",
              "      <th>addresses</th>\n",
              "      <th>day</th>\n",
              "    </tr>\n",
              "  </thead>\n",
              "  <tbody>\n",
              "    <tr>\n",
              "      <th>0</th>\n",
              "      <td>bitcoin</td>\n",
              "      <td>2020</td>\n",
              "      <td>2020-12-28 00:00:00+00:00</td>\n",
              "      <td>6.240005e+11</td>\n",
              "      <td>1184688.0</td>\n",
              "      <td>71.262554</td>\n",
              "      <td>20699759.0</td>\n",
              "      <td>2020-12-28</td>\n",
              "    </tr>\n",
              "    <tr>\n",
              "      <th>1</th>\n",
              "      <td>bitcoin</td>\n",
              "      <td>2021</td>\n",
              "      <td>2021-12-27 00:00:00+00:00</td>\n",
              "      <td>9.029891e+11</td>\n",
              "      <td>734444.0</td>\n",
              "      <td>39.181441</td>\n",
              "      <td>25836091.0</td>\n",
              "      <td>2021-12-27</td>\n",
              "    </tr>\n",
              "    <tr>\n",
              "      <th>2</th>\n",
              "      <td>bitcoin</td>\n",
              "      <td>2022</td>\n",
              "      <td>2022-12-26 00:00:00+00:00</td>\n",
              "      <td>3.182539e+11</td>\n",
              "      <td>719716.0</td>\n",
              "      <td>39.443360</td>\n",
              "      <td>24085339.0</td>\n",
              "      <td>2022-12-26</td>\n",
              "    </tr>\n",
              "    <tr>\n",
              "      <th>3</th>\n",
              "      <td>bitcoin</td>\n",
              "      <td>2023</td>\n",
              "      <td>2023-04-10 00:00:00+00:00</td>\n",
              "      <td>5.483222e+11</td>\n",
              "      <td>947327.0</td>\n",
              "      <td>45.521603</td>\n",
              "      <td>27750451.0</td>\n",
              "      <td>2023-04-10</td>\n",
              "    </tr>\n",
              "    <tr>\n",
              "      <th>4</th>\n",
              "      <td>cardano</td>\n",
              "      <td>2020</td>\n",
              "      <td>2020-12-28 00:00:00+00:00</td>\n",
              "      <td>5.988532e+09</td>\n",
              "      <td>30733.0</td>\n",
              "      <td>0.683907</td>\n",
              "      <td>446609.0</td>\n",
              "      <td>2020-12-28</td>\n",
              "    </tr>\n",
              "    <tr>\n",
              "      <th>5</th>\n",
              "      <td>cardano</td>\n",
              "      <td>2021</td>\n",
              "      <td>2021-12-27 00:00:00+00:00</td>\n",
              "      <td>4.618536e+10</td>\n",
              "      <td>131365.0</td>\n",
              "      <td>2.004021</td>\n",
              "      <td>2299905.0</td>\n",
              "      <td>2021-12-27</td>\n",
              "    </tr>\n",
              "    <tr>\n",
              "      <th>6</th>\n",
              "      <td>cardano</td>\n",
              "      <td>2022</td>\n",
              "      <td>2022-12-26 00:00:00+00:00</td>\n",
              "      <td>8.475789e+09</td>\n",
              "      <td>64820.0</td>\n",
              "      <td>1.050462</td>\n",
              "      <td>2473810.0</td>\n",
              "      <td>2022-12-26</td>\n",
              "    </tr>\n",
              "    <tr>\n",
              "      <th>7</th>\n",
              "      <td>cardano</td>\n",
              "      <td>2023</td>\n",
              "      <td>2023-04-10 00:00:00+00:00</td>\n",
              "      <td>1.354891e+10</td>\n",
              "      <td>51215.0</td>\n",
              "      <td>1.124828</td>\n",
              "      <td>2731254.0</td>\n",
              "      <td>2023-04-10</td>\n",
              "    </tr>\n",
              "    <tr>\n",
              "      <th>8</th>\n",
              "      <td>ethereum</td>\n",
              "      <td>2020</td>\n",
              "      <td>2020-12-28 00:00:00+00:00</td>\n",
              "      <td>1.023436e+11</td>\n",
              "      <td>584367.0</td>\n",
              "      <td>11.687923</td>\n",
              "      <td>10661396.0</td>\n",
              "      <td>2020-12-28</td>\n",
              "    </tr>\n",
              "    <tr>\n",
              "      <th>9</th>\n",
              "      <td>ethereum</td>\n",
              "      <td>2021</td>\n",
              "      <td>2021-12-27 00:00:00+00:00</td>\n",
              "      <td>4.481076e+11</td>\n",
              "      <td>551999.0</td>\n",
              "      <td>19.443758</td>\n",
              "      <td>34287615.0</td>\n",
              "      <td>2021-12-27</td>\n",
              "    </tr>\n",
              "    <tr>\n",
              "      <th>10</th>\n",
              "      <td>ethereum</td>\n",
              "      <td>2022</td>\n",
              "      <td>2022-12-26 00:00:00+00:00</td>\n",
              "      <td>1.440803e+11</td>\n",
              "      <td>522461.0</td>\n",
              "      <td>17.856850</td>\n",
              "      <td>24824483.0</td>\n",
              "      <td>2022-12-26</td>\n",
              "    </tr>\n",
              "    <tr>\n",
              "      <th>11</th>\n",
              "      <td>ethereum</td>\n",
              "      <td>2023</td>\n",
              "      <td>2023-04-10 00:00:00+00:00</td>\n",
              "      <td>2.240408e+11</td>\n",
              "      <td>548021.0</td>\n",
              "      <td>18.599825</td>\n",
              "      <td>31623918.0</td>\n",
              "      <td>2023-04-10</td>\n",
              "    </tr>\n",
              "    <tr>\n",
              "      <th>12</th>\n",
              "      <td>polkadot</td>\n",
              "      <td>2020</td>\n",
              "      <td>2020-08-10 00:00:00+00:00</td>\n",
              "      <td>9.029414e+09</td>\n",
              "      <td>1303.0</td>\n",
              "      <td>1.031184</td>\n",
              "      <td>0.0</td>\n",
              "      <td>2020-08-10</td>\n",
              "    </tr>\n",
              "    <tr>\n",
              "      <th>13</th>\n",
              "      <td>polkadot</td>\n",
              "      <td>2021</td>\n",
              "      <td>2021-12-27 00:00:00+00:00</td>\n",
              "      <td>3.061296e+10</td>\n",
              "      <td>25776.0</td>\n",
              "      <td>1.328321</td>\n",
              "      <td>833716.0</td>\n",
              "      <td>2021-12-27</td>\n",
              "    </tr>\n",
              "    <tr>\n",
              "      <th>14</th>\n",
              "      <td>polkadot</td>\n",
              "      <td>2022</td>\n",
              "      <td>2022-12-26 00:00:00+00:00</td>\n",
              "      <td>5.113384e+09</td>\n",
              "      <td>22113.0</td>\n",
              "      <td>0.633736</td>\n",
              "      <td>972979.0</td>\n",
              "      <td>2022-12-26</td>\n",
              "    </tr>\n",
              "    <tr>\n",
              "      <th>15</th>\n",
              "      <td>polkadot</td>\n",
              "      <td>2023</td>\n",
              "      <td>2023-04-10 00:00:00+00:00</td>\n",
              "      <td>7.587513e+09</td>\n",
              "      <td>NaN</td>\n",
              "      <td>0.629914</td>\n",
              "      <td>NaN</td>\n",
              "      <td>2023-04-10</td>\n",
              "    </tr>\n",
              "    <tr>\n",
              "      <th>16</th>\n",
              "      <td>solana</td>\n",
              "      <td>2020</td>\n",
              "      <td>2020-12-28 00:00:00+00:00</td>\n",
              "      <td>9.821267e+07</td>\n",
              "      <td>NaN</td>\n",
              "      <td>0.011216</td>\n",
              "      <td>NaN</td>\n",
              "      <td>2020-12-28</td>\n",
              "    </tr>\n",
              "    <tr>\n",
              "      <th>17</th>\n",
              "      <td>solana</td>\n",
              "      <td>2021</td>\n",
              "      <td>2021-12-27 00:00:00+00:00</td>\n",
              "      <td>5.539838e+10</td>\n",
              "      <td>NaN</td>\n",
              "      <td>2.403781</td>\n",
              "      <td>NaN</td>\n",
              "      <td>2021-12-27</td>\n",
              "    </tr>\n",
              "    <tr>\n",
              "      <th>18</th>\n",
              "      <td>solana</td>\n",
              "      <td>2022</td>\n",
              "      <td>2022-12-26 00:00:00+00:00</td>\n",
              "      <td>3.665140e+09</td>\n",
              "      <td>NaN</td>\n",
              "      <td>0.454246</td>\n",
              "      <td>NaN</td>\n",
              "      <td>2022-12-26</td>\n",
              "    </tr>\n",
              "    <tr>\n",
              "      <th>19</th>\n",
              "      <td>solana</td>\n",
              "      <td>2023</td>\n",
              "      <td>2023-04-10 00:00:00+00:00</td>\n",
              "      <td>7.881990e+09</td>\n",
              "      <td>NaN</td>\n",
              "      <td>0.654361</td>\n",
              "      <td>NaN</td>\n",
              "      <td>2023-04-10</td>\n",
              "    </tr>\n",
              "  </tbody>\n",
              "</table>\n",
              "</div>"
            ],
            "text/plain": [
              "       asset  year                 timestamp  circulating_marketcap  \\\n",
              "0    bitcoin  2020 2020-12-28 00:00:00+00:00           6.240005e+11   \n",
              "1    bitcoin  2021 2021-12-27 00:00:00+00:00           9.029891e+11   \n",
              "2    bitcoin  2022 2022-12-26 00:00:00+00:00           3.182539e+11   \n",
              "3    bitcoin  2023 2023-04-10 00:00:00+00:00           5.483222e+11   \n",
              "4    cardano  2020 2020-12-28 00:00:00+00:00           5.988532e+09   \n",
              "5    cardano  2021 2021-12-27 00:00:00+00:00           4.618536e+10   \n",
              "6    cardano  2022 2022-12-26 00:00:00+00:00           8.475789e+09   \n",
              "7    cardano  2023 2023-04-10 00:00:00+00:00           1.354891e+10   \n",
              "8   ethereum  2020 2020-12-28 00:00:00+00:00           1.023436e+11   \n",
              "9   ethereum  2021 2021-12-27 00:00:00+00:00           4.481076e+11   \n",
              "10  ethereum  2022 2022-12-26 00:00:00+00:00           1.440803e+11   \n",
              "11  ethereum  2023 2023-04-10 00:00:00+00:00           2.240408e+11   \n",
              "12  polkadot  2020 2020-08-10 00:00:00+00:00           9.029414e+09   \n",
              "13  polkadot  2021 2021-12-27 00:00:00+00:00           3.061296e+10   \n",
              "14  polkadot  2022 2022-12-26 00:00:00+00:00           5.113384e+09   \n",
              "15  polkadot  2023 2023-04-10 00:00:00+00:00           7.587513e+09   \n",
              "16    solana  2020 2020-12-28 00:00:00+00:00           9.821267e+07   \n",
              "17    solana  2021 2021-12-27 00:00:00+00:00           5.539838e+10   \n",
              "18    solana  2022 2022-12-26 00:00:00+00:00           3.665140e+09   \n",
              "19    solana  2023 2023-04-10 00:00:00+00:00           7.881990e+09   \n",
              "\n",
              "    active_addresses  marketcap_dominance   addresses         day  \n",
              "0          1184688.0            71.262554  20699759.0  2020-12-28  \n",
              "1           734444.0            39.181441  25836091.0  2021-12-27  \n",
              "2           719716.0            39.443360  24085339.0  2022-12-26  \n",
              "3           947327.0            45.521603  27750451.0  2023-04-10  \n",
              "4            30733.0             0.683907    446609.0  2020-12-28  \n",
              "5           131365.0             2.004021   2299905.0  2021-12-27  \n",
              "6            64820.0             1.050462   2473810.0  2022-12-26  \n",
              "7            51215.0             1.124828   2731254.0  2023-04-10  \n",
              "8           584367.0            11.687923  10661396.0  2020-12-28  \n",
              "9           551999.0            19.443758  34287615.0  2021-12-27  \n",
              "10          522461.0            17.856850  24824483.0  2022-12-26  \n",
              "11          548021.0            18.599825  31623918.0  2023-04-10  \n",
              "12            1303.0             1.031184         0.0  2020-08-10  \n",
              "13           25776.0             1.328321    833716.0  2021-12-27  \n",
              "14           22113.0             0.633736    972979.0  2022-12-26  \n",
              "15               NaN             0.629914         NaN  2023-04-10  \n",
              "16               NaN             0.011216         NaN  2020-12-28  \n",
              "17               NaN             2.403781         NaN  2021-12-27  \n",
              "18               NaN             0.454246         NaN  2022-12-26  \n",
              "19               NaN             0.654361         NaN  2023-04-10  "
            ]
          },
          "execution_count": 204,
          "metadata": {},
          "output_type": "execute_result"
        }
      ],
      "source": [
        "df_year"
      ]
    },
    {
      "cell_type": "code",
      "execution_count": 205,
      "metadata": {},
      "outputs": [
        {
          "data": {
            "application/vnd.plotly.v1+json": {
              "config": {
                "plotlyServerURL": "https://plot.ly"
              },
              "data": [
                {
                  "hovertemplate": "asset=bitcoin<br>variable=active_addresses<br>timestamp=%{x}<br>value=%{y}<extra></extra>",
                  "legendgroup": "bitcoin",
                  "line": {
                    "color": "#636efa",
                    "dash": "solid"
                  },
                  "marker": {
                    "symbol": "circle"
                  },
                  "mode": "lines",
                  "name": "bitcoin",
                  "orientation": "v",
                  "showlegend": true,
                  "type": "scatter",
                  "x": [
                    "2020-01-06T00:00:00+00:00",
                    "2020-01-13T00:00:00+00:00",
                    "2020-01-20T00:00:00+00:00",
                    "2020-01-27T00:00:00+00:00",
                    "2020-02-03T00:00:00+00:00",
                    "2020-02-10T00:00:00+00:00",
                    "2020-02-17T00:00:00+00:00",
                    "2020-02-24T00:00:00+00:00",
                    "2020-03-02T00:00:00+00:00",
                    "2020-03-09T00:00:00+00:00",
                    "2020-03-16T00:00:00+00:00",
                    "2020-03-23T00:00:00+00:00",
                    "2020-03-30T00:00:00+00:00",
                    "2020-04-06T00:00:00+00:00",
                    "2020-04-13T00:00:00+00:00",
                    "2020-04-20T00:00:00+00:00",
                    "2020-04-27T00:00:00+00:00",
                    "2020-05-04T00:00:00+00:00",
                    "2020-05-11T00:00:00+00:00",
                    "2020-05-18T00:00:00+00:00",
                    "2020-05-25T00:00:00+00:00",
                    "2020-06-01T00:00:00+00:00",
                    "2020-06-08T00:00:00+00:00",
                    "2020-06-15T00:00:00+00:00",
                    "2020-06-22T00:00:00+00:00",
                    "2020-06-29T00:00:00+00:00",
                    "2020-07-06T00:00:00+00:00",
                    "2020-07-13T00:00:00+00:00",
                    "2020-07-20T00:00:00+00:00",
                    "2020-07-27T00:00:00+00:00",
                    "2020-08-03T00:00:00+00:00",
                    "2020-08-10T00:00:00+00:00",
                    "2020-08-17T00:00:00+00:00",
                    "2020-08-24T00:00:00+00:00",
                    "2020-08-31T00:00:00+00:00",
                    "2020-09-07T00:00:00+00:00",
                    "2020-09-14T00:00:00+00:00",
                    "2020-09-21T00:00:00+00:00",
                    "2020-09-28T00:00:00+00:00",
                    "2020-10-05T00:00:00+00:00",
                    "2020-10-12T00:00:00+00:00",
                    "2020-10-19T00:00:00+00:00",
                    "2020-10-26T00:00:00+00:00",
                    "2020-11-02T00:00:00+00:00",
                    "2020-11-09T00:00:00+00:00",
                    "2020-11-16T00:00:00+00:00",
                    "2020-11-23T00:00:00+00:00",
                    "2020-11-30T00:00:00+00:00",
                    "2020-12-07T00:00:00+00:00",
                    "2020-12-14T00:00:00+00:00",
                    "2020-12-21T00:00:00+00:00",
                    "2020-12-28T00:00:00+00:00",
                    "2021-01-04T00:00:00+00:00",
                    "2021-01-11T00:00:00+00:00",
                    "2021-01-18T00:00:00+00:00",
                    "2021-01-25T00:00:00+00:00",
                    "2021-02-01T00:00:00+00:00",
                    "2021-02-08T00:00:00+00:00",
                    "2021-02-15T00:00:00+00:00",
                    "2021-02-22T00:00:00+00:00",
                    "2021-03-01T00:00:00+00:00",
                    "2021-03-08T00:00:00+00:00",
                    "2021-03-15T00:00:00+00:00",
                    "2021-03-22T00:00:00+00:00",
                    "2021-03-29T00:00:00+00:00",
                    "2021-04-05T00:00:00+00:00",
                    "2021-04-12T00:00:00+00:00",
                    "2021-04-19T00:00:00+00:00",
                    "2021-04-26T00:00:00+00:00",
                    "2021-05-03T00:00:00+00:00",
                    "2021-05-10T00:00:00+00:00",
                    "2021-05-17T00:00:00+00:00",
                    "2021-05-24T00:00:00+00:00",
                    "2021-05-31T00:00:00+00:00",
                    "2021-06-07T00:00:00+00:00",
                    "2021-06-14T00:00:00+00:00",
                    "2021-06-21T00:00:00+00:00",
                    "2021-06-28T00:00:00+00:00",
                    "2021-07-05T00:00:00+00:00",
                    "2021-07-12T00:00:00+00:00",
                    "2021-07-19T00:00:00+00:00",
                    "2021-07-26T00:00:00+00:00",
                    "2021-08-02T00:00:00+00:00",
                    "2021-08-09T00:00:00+00:00",
                    "2021-08-16T00:00:00+00:00",
                    "2021-08-23T00:00:00+00:00",
                    "2021-08-30T00:00:00+00:00",
                    "2021-09-06T00:00:00+00:00",
                    "2021-09-13T00:00:00+00:00",
                    "2021-09-20T00:00:00+00:00",
                    "2021-09-27T00:00:00+00:00",
                    "2021-10-04T00:00:00+00:00",
                    "2021-10-11T00:00:00+00:00",
                    "2021-10-18T00:00:00+00:00",
                    "2021-10-25T00:00:00+00:00",
                    "2021-11-01T00:00:00+00:00",
                    "2021-11-08T00:00:00+00:00",
                    "2021-11-15T00:00:00+00:00",
                    "2021-11-22T00:00:00+00:00",
                    "2021-11-29T00:00:00+00:00",
                    "2021-12-06T00:00:00+00:00",
                    "2021-12-13T00:00:00+00:00",
                    "2021-12-20T00:00:00+00:00",
                    "2021-12-27T00:00:00+00:00",
                    "2022-01-03T00:00:00+00:00",
                    "2022-01-10T00:00:00+00:00",
                    "2022-01-17T00:00:00+00:00",
                    "2022-01-24T00:00:00+00:00",
                    "2022-01-31T00:00:00+00:00",
                    "2022-02-07T00:00:00+00:00",
                    "2022-02-14T00:00:00+00:00",
                    "2022-02-21T00:00:00+00:00",
                    "2022-02-28T00:00:00+00:00",
                    "2022-03-07T00:00:00+00:00",
                    "2022-03-14T00:00:00+00:00",
                    "2022-03-21T00:00:00+00:00",
                    "2022-03-28T00:00:00+00:00",
                    "2022-04-04T00:00:00+00:00",
                    "2022-04-11T00:00:00+00:00",
                    "2022-04-18T00:00:00+00:00",
                    "2022-04-25T00:00:00+00:00",
                    "2022-05-02T00:00:00+00:00",
                    "2022-05-09T00:00:00+00:00",
                    "2022-05-16T00:00:00+00:00",
                    "2022-05-23T00:00:00+00:00",
                    "2022-05-30T00:00:00+00:00",
                    "2022-06-06T00:00:00+00:00",
                    "2022-06-13T00:00:00+00:00",
                    "2022-06-20T00:00:00+00:00",
                    "2022-06-27T00:00:00+00:00",
                    "2022-07-04T00:00:00+00:00",
                    "2022-07-11T00:00:00+00:00",
                    "2022-07-18T00:00:00+00:00",
                    "2022-07-25T00:00:00+00:00",
                    "2022-08-01T00:00:00+00:00",
                    "2022-08-08T00:00:00+00:00",
                    "2022-08-15T00:00:00+00:00",
                    "2022-08-22T00:00:00+00:00",
                    "2022-08-29T00:00:00+00:00",
                    "2022-09-05T00:00:00+00:00",
                    "2022-09-12T00:00:00+00:00",
                    "2022-09-19T00:00:00+00:00",
                    "2022-09-26T00:00:00+00:00",
                    "2022-10-03T00:00:00+00:00",
                    "2022-10-10T00:00:00+00:00",
                    "2022-10-17T00:00:00+00:00",
                    "2022-10-24T00:00:00+00:00",
                    "2022-10-31T00:00:00+00:00",
                    "2022-11-07T00:00:00+00:00",
                    "2022-11-14T00:00:00+00:00",
                    "2022-11-21T00:00:00+00:00",
                    "2022-11-28T00:00:00+00:00",
                    "2022-12-05T00:00:00+00:00",
                    "2022-12-12T00:00:00+00:00",
                    "2022-12-19T00:00:00+00:00",
                    "2022-12-26T00:00:00+00:00",
                    "2023-01-02T00:00:00+00:00",
                    "2023-01-09T00:00:00+00:00",
                    "2023-01-16T00:00:00+00:00",
                    "2023-01-23T00:00:00+00:00",
                    "2023-01-30T00:00:00+00:00",
                    "2023-02-06T00:00:00+00:00",
                    "2023-02-13T00:00:00+00:00",
                    "2023-02-20T00:00:00+00:00",
                    "2023-02-27T00:00:00+00:00",
                    "2023-03-06T00:00:00+00:00",
                    "2023-03-13T00:00:00+00:00",
                    "2023-03-20T00:00:00+00:00",
                    "2023-03-27T00:00:00+00:00",
                    "2023-04-03T00:00:00+00:00",
                    "2023-04-10T00:00:00+00:00"
                  ],
                  "xaxis": "x",
                  "y": [
                    581504,
                    622774,
                    544915,
                    706042,
                    695691,
                    655188,
                    622397,
                    674209,
                    654911,
                    629326,
                    579901,
                    591287,
                    596364,
                    618062,
                    718815,
                    724250,
                    909805,
                    869262,
                    763444,
                    807939,
                    801889,
                    690992,
                    698545,
                    710176,
                    686270,
                    771473,
                    745665,
                    872974,
                    999311,
                    950873,
                    911571,
                    892624,
                    906460,
                    821271,
                    988383,
                    803998,
                    820833,
                    784428,
                    923546,
                    791020,
                    744786,
                    851199,
                    897445,
                    920529,
                    845204,
                    875364,
                    875712,
                    906549,
                    938739,
                    1075417,
                    1049825,
                    1184688,
                    1177151,
                    1002014,
                    1004162,
                    1063553,
                    1159518,
                    1122976,
                    1047141,
                    1033508,
                    1043256,
                    1155175,
                    1112554,
                    1063472,
                    1032167,
                    1043812,
                    1057891,
                    1026103,
                    1248724,
                    1234486,
                    971649,
                    957018,
                    990443,
                    737174,
                    799859,
                    652470,
                    518219,
                    843475,
                    690684,
                    651828,
                    641796,
                    695892,
                    740945,
                    750378,
                    715639,
                    685753,
                    735688,
                    705573,
                    714326,
                    699993,
                    808347,
                    803826,
                    823877,
                    737951,
                    893617,
                    826432,
                    806451,
                    842004,
                    816560,
                    978899,
                    725043,
                    755797,
                    774902,
                    734444,
                    734904,
                    768912,
                    764279,
                    780477,
                    891700,
                    829229,
                    741534,
                    768705,
                    771254,
                    751546,
                    780069,
                    812882,
                    794992,
                    754197,
                    760823,
                    796298,
                    834397,
                    813799,
                    1016251,
                    749577,
                    751185,
                    721815,
                    762985,
                    733337,
                    734812,
                    701943,
                    705622,
                    723539,
                    736224,
                    787873,
                    716918,
                    811197,
                    753797,
                    776186,
                    774639,
                    871675,
                    775872,
                    781165,
                    852250,
                    787417,
                    769067,
                    803523,
                    830676,
                    811578,
                    895185,
                    1013890,
                    855437,
                    842351,
                    781176,
                    783263,
                    731599,
                    719716,
                    755503,
                    807742,
                    863236,
                    829895,
                    802171,
                    861493,
                    928713,
                    905055,
                    995537,
                    886609,
                    845573,
                    851151,
                    1012005,
                    936112,
                    947327
                  ],
                  "yaxis": "y"
                },
                {
                  "hovertemplate": "asset=ethereum<br>variable=active_addresses<br>timestamp=%{x}<br>value=%{y}<extra></extra>",
                  "legendgroup": "ethereum",
                  "line": {
                    "color": "#EF553B",
                    "dash": "solid"
                  },
                  "marker": {
                    "symbol": "circle"
                  },
                  "mode": "lines",
                  "name": "ethereum",
                  "orientation": "v",
                  "showlegend": true,
                  "type": "scatter",
                  "x": [
                    "2020-01-06T00:00:00+00:00",
                    "2020-01-13T00:00:00+00:00",
                    "2020-01-20T00:00:00+00:00",
                    "2020-01-27T00:00:00+00:00",
                    "2020-02-03T00:00:00+00:00",
                    "2020-02-10T00:00:00+00:00",
                    "2020-02-17T00:00:00+00:00",
                    "2020-02-24T00:00:00+00:00",
                    "2020-03-02T00:00:00+00:00",
                    "2020-03-09T00:00:00+00:00",
                    "2020-03-16T00:00:00+00:00",
                    "2020-03-23T00:00:00+00:00",
                    "2020-03-30T00:00:00+00:00",
                    "2020-04-06T00:00:00+00:00",
                    "2020-04-13T00:00:00+00:00",
                    "2020-04-20T00:00:00+00:00",
                    "2020-04-27T00:00:00+00:00",
                    "2020-05-04T00:00:00+00:00",
                    "2020-05-11T00:00:00+00:00",
                    "2020-05-18T00:00:00+00:00",
                    "2020-05-25T00:00:00+00:00",
                    "2020-06-01T00:00:00+00:00",
                    "2020-06-08T00:00:00+00:00",
                    "2020-06-15T00:00:00+00:00",
                    "2020-06-22T00:00:00+00:00",
                    "2020-06-29T00:00:00+00:00",
                    "2020-07-06T00:00:00+00:00",
                    "2020-07-13T00:00:00+00:00",
                    "2020-07-20T00:00:00+00:00",
                    "2020-07-27T00:00:00+00:00",
                    "2020-08-03T00:00:00+00:00",
                    "2020-08-10T00:00:00+00:00",
                    "2020-08-17T00:00:00+00:00",
                    "2020-08-24T00:00:00+00:00",
                    "2020-08-31T00:00:00+00:00",
                    "2020-09-07T00:00:00+00:00",
                    "2020-09-14T00:00:00+00:00",
                    "2020-09-21T00:00:00+00:00",
                    "2020-09-28T00:00:00+00:00",
                    "2020-10-05T00:00:00+00:00",
                    "2020-10-12T00:00:00+00:00",
                    "2020-10-19T00:00:00+00:00",
                    "2020-10-26T00:00:00+00:00",
                    "2020-11-02T00:00:00+00:00",
                    "2020-11-09T00:00:00+00:00",
                    "2020-11-16T00:00:00+00:00",
                    "2020-11-23T00:00:00+00:00",
                    "2020-11-30T00:00:00+00:00",
                    "2020-12-07T00:00:00+00:00",
                    "2020-12-14T00:00:00+00:00",
                    "2020-12-21T00:00:00+00:00",
                    "2020-12-28T00:00:00+00:00",
                    "2021-01-04T00:00:00+00:00",
                    "2021-01-11T00:00:00+00:00",
                    "2021-01-18T00:00:00+00:00",
                    "2021-01-25T00:00:00+00:00",
                    "2021-02-01T00:00:00+00:00",
                    "2021-02-08T00:00:00+00:00",
                    "2021-02-15T00:00:00+00:00",
                    "2021-02-22T00:00:00+00:00",
                    "2021-03-01T00:00:00+00:00",
                    "2021-03-08T00:00:00+00:00",
                    "2021-03-15T00:00:00+00:00",
                    "2021-03-22T00:00:00+00:00",
                    "2021-03-29T00:00:00+00:00",
                    "2021-04-05T00:00:00+00:00",
                    "2021-04-12T00:00:00+00:00",
                    "2021-04-19T00:00:00+00:00",
                    "2021-04-26T00:00:00+00:00",
                    "2021-05-03T00:00:00+00:00",
                    "2021-05-10T00:00:00+00:00",
                    "2021-05-17T00:00:00+00:00",
                    "2021-05-24T00:00:00+00:00",
                    "2021-05-31T00:00:00+00:00",
                    "2021-06-07T00:00:00+00:00",
                    "2021-06-14T00:00:00+00:00",
                    "2021-06-21T00:00:00+00:00",
                    "2021-06-28T00:00:00+00:00",
                    "2021-07-05T00:00:00+00:00",
                    "2021-07-12T00:00:00+00:00",
                    "2021-07-19T00:00:00+00:00",
                    "2021-07-26T00:00:00+00:00",
                    "2021-08-02T00:00:00+00:00",
                    "2021-08-09T00:00:00+00:00",
                    "2021-08-16T00:00:00+00:00",
                    "2021-08-23T00:00:00+00:00",
                    "2021-08-30T00:00:00+00:00",
                    "2021-09-06T00:00:00+00:00",
                    "2021-09-13T00:00:00+00:00",
                    "2021-09-20T00:00:00+00:00",
                    "2021-09-27T00:00:00+00:00",
                    "2021-10-04T00:00:00+00:00",
                    "2021-10-11T00:00:00+00:00",
                    "2021-10-18T00:00:00+00:00",
                    "2021-10-25T00:00:00+00:00",
                    "2021-11-01T00:00:00+00:00",
                    "2021-11-08T00:00:00+00:00",
                    "2021-11-15T00:00:00+00:00",
                    "2021-11-22T00:00:00+00:00",
                    "2021-11-29T00:00:00+00:00",
                    "2021-12-06T00:00:00+00:00",
                    "2021-12-13T00:00:00+00:00",
                    "2021-12-20T00:00:00+00:00",
                    "2021-12-27T00:00:00+00:00",
                    "2022-01-03T00:00:00+00:00",
                    "2022-01-10T00:00:00+00:00",
                    "2022-01-17T00:00:00+00:00",
                    "2022-01-24T00:00:00+00:00",
                    "2022-01-31T00:00:00+00:00",
                    "2022-02-07T00:00:00+00:00",
                    "2022-02-14T00:00:00+00:00",
                    "2022-02-21T00:00:00+00:00",
                    "2022-02-28T00:00:00+00:00",
                    "2022-03-07T00:00:00+00:00",
                    "2022-03-14T00:00:00+00:00",
                    "2022-03-21T00:00:00+00:00",
                    "2022-03-28T00:00:00+00:00",
                    "2022-04-04T00:00:00+00:00",
                    "2022-04-11T00:00:00+00:00",
                    "2022-04-18T00:00:00+00:00",
                    "2022-04-25T00:00:00+00:00",
                    "2022-05-02T00:00:00+00:00",
                    "2022-05-09T00:00:00+00:00",
                    "2022-05-16T00:00:00+00:00",
                    "2022-05-23T00:00:00+00:00",
                    "2022-05-30T00:00:00+00:00",
                    "2022-06-06T00:00:00+00:00",
                    "2022-06-13T00:00:00+00:00",
                    "2022-06-20T00:00:00+00:00",
                    "2022-06-27T00:00:00+00:00",
                    "2022-07-04T00:00:00+00:00",
                    "2022-07-11T00:00:00+00:00",
                    "2022-07-18T00:00:00+00:00",
                    "2022-07-25T00:00:00+00:00",
                    "2022-08-01T00:00:00+00:00",
                    "2022-08-08T00:00:00+00:00",
                    "2022-08-15T00:00:00+00:00",
                    "2022-08-22T00:00:00+00:00",
                    "2022-08-29T00:00:00+00:00",
                    "2022-09-05T00:00:00+00:00",
                    "2022-09-12T00:00:00+00:00",
                    "2022-09-19T00:00:00+00:00",
                    "2022-09-26T00:00:00+00:00",
                    "2022-10-03T00:00:00+00:00",
                    "2022-10-10T00:00:00+00:00",
                    "2022-10-17T00:00:00+00:00",
                    "2022-10-24T00:00:00+00:00",
                    "2022-10-31T00:00:00+00:00",
                    "2022-11-07T00:00:00+00:00",
                    "2022-11-14T00:00:00+00:00",
                    "2022-11-21T00:00:00+00:00",
                    "2022-11-28T00:00:00+00:00",
                    "2022-12-05T00:00:00+00:00",
                    "2022-12-12T00:00:00+00:00",
                    "2022-12-19T00:00:00+00:00",
                    "2022-12-26T00:00:00+00:00",
                    "2023-01-02T00:00:00+00:00",
                    "2023-01-09T00:00:00+00:00",
                    "2023-01-16T00:00:00+00:00",
                    "2023-01-23T00:00:00+00:00",
                    "2023-01-30T00:00:00+00:00",
                    "2023-02-06T00:00:00+00:00",
                    "2023-02-13T00:00:00+00:00",
                    "2023-02-20T00:00:00+00:00",
                    "2023-02-27T00:00:00+00:00",
                    "2023-03-06T00:00:00+00:00",
                    "2023-03-13T00:00:00+00:00",
                    "2023-03-20T00:00:00+00:00",
                    "2023-03-27T00:00:00+00:00",
                    "2023-04-03T00:00:00+00:00",
                    "2023-04-10T00:00:00+00:00"
                  ],
                  "xaxis": "x",
                  "y": [
                    231191,
                    269233,
                    195000,
                    235359,
                    305845,
                    337792,
                    311622,
                    321679,
                    327289,
                    438224,
                    379207,
                    318335,
                    309777,
                    365811,
                    377254,
                    397842,
                    401201,
                    415159,
                    375674,
                    366826,
                    411586,
                    395673,
                    411985,
                    470005,
                    513042,
                    564010,
                    567829,
                    462835,
                    519206,
                    626146,
                    493476,
                    549697,
                    582203,
                    390040,
                    544008,
                    418818,
                    465984,
                    488227,
                    472428,
                    567079,
                    622632,
                    586099,
                    524955,
                    607371,
                    504327,
                    557067,
                    739327,
                    505086,
                    569270,
                    487968,
                    508702,
                    584367,
                    617780,
                    549860,
                    516253,
                    572249,
                    619186,
                    556676,
                    605781,
                    582699,
                    501185,
                    588107,
                    588077,
                    574675,
                    600579,
                    649887,
                    673448,
                    905234,
                    772483,
                    894748,
                    749768,
                    753755,
                    736524,
                    809211,
                    673559,
                    641786,
                    709963,
                    655655,
                    579907,
                    535035,
                    568298,
                    611381,
                    528092,
                    490026,
                    512239,
                    492973,
                    497386,
                    571553,
                    516798,
                    473720,
                    522883,
                    537498,
                    551919,
                    597173,
                    627758,
                    635935,
                    643454,
                    607664,
                    527847,
                    827717,
                    597667,
                    565356,
                    592617,
                    551999,
                    534490,
                    591291,
                    541675,
                    581902,
                    631737,
                    609735,
                    573520,
                    582204,
                    588893,
                    554863,
                    589914,
                    589699,
                    533295,
                    564605,
                    528864,
                    559201,
                    516315,
                    560545,
                    549378,
                    512641,
                    525080,
                    449160,
                    479436,
                    471525,
                    392527,
                    501279,
                    530271,
                    581177,
                    524672,
                    559165,
                    582021,
                    512569,
                    528551,
                    482672,
                    592328,
                    491234,
                    512040,
                    479299,
                    490310,
                    585312,
                    495691,
                    481225,
                    483186,
                    482455,
                    535955,
                    511795,
                    582751,
                    631537,
                    723883,
                    517631,
                    570854,
                    522461,
                    784960,
                    534998,
                    538686,
                    511732,
                    537666,
                    494506,
                    451884,
                    566025,
                    432042,
                    481017,
                    491965,
                    484572,
                    508194,
                    518857,
                    548021
                  ],
                  "yaxis": "y"
                },
                {
                  "hovertemplate": "asset=cardano<br>variable=active_addresses<br>timestamp=%{x}<br>value=%{y}<extra></extra>",
                  "legendgroup": "cardano",
                  "line": {
                    "color": "#00cc96",
                    "dash": "solid"
                  },
                  "marker": {
                    "symbol": "circle"
                  },
                  "mode": "lines",
                  "name": "cardano",
                  "orientation": "v",
                  "showlegend": true,
                  "type": "scatter",
                  "x": [
                    "2020-01-06T00:00:00+00:00",
                    "2020-01-13T00:00:00+00:00",
                    "2020-01-20T00:00:00+00:00",
                    "2020-01-27T00:00:00+00:00",
                    "2020-02-03T00:00:00+00:00",
                    "2020-02-10T00:00:00+00:00",
                    "2020-02-17T00:00:00+00:00",
                    "2020-02-24T00:00:00+00:00",
                    "2020-03-02T00:00:00+00:00",
                    "2020-03-09T00:00:00+00:00",
                    "2020-03-16T00:00:00+00:00",
                    "2020-03-23T00:00:00+00:00",
                    "2020-03-30T00:00:00+00:00",
                    "2020-04-06T00:00:00+00:00",
                    "2020-04-13T00:00:00+00:00",
                    "2020-04-20T00:00:00+00:00",
                    "2020-04-27T00:00:00+00:00",
                    "2020-05-04T00:00:00+00:00",
                    "2020-05-11T00:00:00+00:00",
                    "2020-05-18T00:00:00+00:00",
                    "2020-05-25T00:00:00+00:00",
                    "2020-06-01T00:00:00+00:00",
                    "2020-06-08T00:00:00+00:00",
                    "2020-06-15T00:00:00+00:00",
                    "2020-06-22T00:00:00+00:00",
                    "2020-06-29T00:00:00+00:00",
                    "2020-07-06T00:00:00+00:00",
                    "2020-07-13T00:00:00+00:00",
                    "2020-07-20T00:00:00+00:00",
                    "2020-07-27T00:00:00+00:00",
                    "2020-08-03T00:00:00+00:00",
                    "2020-08-10T00:00:00+00:00",
                    "2020-08-17T00:00:00+00:00",
                    "2020-08-24T00:00:00+00:00",
                    "2020-08-31T00:00:00+00:00",
                    "2020-09-07T00:00:00+00:00",
                    "2020-09-14T00:00:00+00:00",
                    "2020-09-21T00:00:00+00:00",
                    "2020-09-28T00:00:00+00:00",
                    "2020-10-05T00:00:00+00:00",
                    "2020-10-12T00:00:00+00:00",
                    "2020-10-19T00:00:00+00:00",
                    "2020-10-26T00:00:00+00:00",
                    "2020-11-02T00:00:00+00:00",
                    "2020-11-09T00:00:00+00:00",
                    "2020-11-16T00:00:00+00:00",
                    "2020-11-23T00:00:00+00:00",
                    "2020-11-30T00:00:00+00:00",
                    "2020-12-07T00:00:00+00:00",
                    "2020-12-14T00:00:00+00:00",
                    "2020-12-21T00:00:00+00:00",
                    "2020-12-28T00:00:00+00:00",
                    "2021-01-04T00:00:00+00:00",
                    "2021-01-11T00:00:00+00:00",
                    "2021-01-18T00:00:00+00:00",
                    "2021-01-25T00:00:00+00:00",
                    "2021-02-01T00:00:00+00:00",
                    "2021-02-08T00:00:00+00:00",
                    "2021-02-15T00:00:00+00:00",
                    "2021-02-22T00:00:00+00:00",
                    "2021-03-01T00:00:00+00:00",
                    "2021-03-08T00:00:00+00:00",
                    "2021-03-15T00:00:00+00:00",
                    "2021-03-22T00:00:00+00:00",
                    "2021-03-29T00:00:00+00:00",
                    "2021-04-05T00:00:00+00:00",
                    "2021-04-12T00:00:00+00:00",
                    "2021-04-19T00:00:00+00:00",
                    "2021-04-26T00:00:00+00:00",
                    "2021-05-03T00:00:00+00:00",
                    "2021-05-10T00:00:00+00:00",
                    "2021-05-17T00:00:00+00:00",
                    "2021-05-24T00:00:00+00:00",
                    "2021-05-31T00:00:00+00:00",
                    "2021-06-07T00:00:00+00:00",
                    "2021-06-14T00:00:00+00:00",
                    "2021-06-21T00:00:00+00:00",
                    "2021-06-28T00:00:00+00:00",
                    "2021-07-05T00:00:00+00:00",
                    "2021-07-12T00:00:00+00:00",
                    "2021-07-19T00:00:00+00:00",
                    "2021-07-26T00:00:00+00:00",
                    "2021-08-02T00:00:00+00:00",
                    "2021-08-09T00:00:00+00:00",
                    "2021-08-16T00:00:00+00:00",
                    "2021-08-23T00:00:00+00:00",
                    "2021-08-30T00:00:00+00:00",
                    "2021-09-06T00:00:00+00:00",
                    "2021-09-13T00:00:00+00:00",
                    "2021-09-20T00:00:00+00:00",
                    "2021-09-27T00:00:00+00:00",
                    "2021-10-04T00:00:00+00:00",
                    "2021-10-11T00:00:00+00:00",
                    "2021-10-18T00:00:00+00:00",
                    "2021-10-25T00:00:00+00:00",
                    "2021-11-01T00:00:00+00:00",
                    "2021-11-08T00:00:00+00:00",
                    "2021-11-15T00:00:00+00:00",
                    "2021-11-22T00:00:00+00:00",
                    "2021-11-29T00:00:00+00:00",
                    "2021-12-06T00:00:00+00:00",
                    "2021-12-13T00:00:00+00:00",
                    "2021-12-20T00:00:00+00:00",
                    "2021-12-27T00:00:00+00:00",
                    "2022-01-03T00:00:00+00:00",
                    "2022-01-10T00:00:00+00:00",
                    "2022-01-17T00:00:00+00:00",
                    "2022-01-24T00:00:00+00:00",
                    "2022-01-31T00:00:00+00:00",
                    "2022-02-07T00:00:00+00:00",
                    "2022-02-14T00:00:00+00:00",
                    "2022-02-21T00:00:00+00:00",
                    "2022-02-28T00:00:00+00:00",
                    "2022-03-07T00:00:00+00:00",
                    "2022-03-14T00:00:00+00:00",
                    "2022-03-21T00:00:00+00:00",
                    "2022-03-28T00:00:00+00:00",
                    "2022-04-04T00:00:00+00:00",
                    "2022-04-11T00:00:00+00:00",
                    "2022-04-18T00:00:00+00:00",
                    "2022-04-25T00:00:00+00:00",
                    "2022-05-02T00:00:00+00:00",
                    "2022-05-09T00:00:00+00:00",
                    "2022-05-16T00:00:00+00:00",
                    "2022-05-23T00:00:00+00:00",
                    "2022-05-30T00:00:00+00:00",
                    "2022-06-06T00:00:00+00:00",
                    "2022-06-13T00:00:00+00:00",
                    "2022-06-20T00:00:00+00:00",
                    "2022-06-27T00:00:00+00:00",
                    "2022-07-04T00:00:00+00:00",
                    "2022-07-11T00:00:00+00:00",
                    "2022-07-18T00:00:00+00:00",
                    "2022-07-25T00:00:00+00:00",
                    "2022-08-01T00:00:00+00:00",
                    "2022-08-08T00:00:00+00:00",
                    "2022-08-15T00:00:00+00:00",
                    "2022-08-22T00:00:00+00:00",
                    "2022-08-29T00:00:00+00:00",
                    "2022-09-05T00:00:00+00:00",
                    "2022-09-12T00:00:00+00:00",
                    "2022-09-19T00:00:00+00:00",
                    "2022-09-26T00:00:00+00:00",
                    "2022-10-03T00:00:00+00:00",
                    "2022-10-10T00:00:00+00:00",
                    "2022-10-17T00:00:00+00:00",
                    "2022-10-24T00:00:00+00:00",
                    "2022-10-31T00:00:00+00:00",
                    "2022-11-07T00:00:00+00:00",
                    "2022-11-14T00:00:00+00:00",
                    "2022-11-21T00:00:00+00:00",
                    "2022-11-28T00:00:00+00:00",
                    "2022-12-05T00:00:00+00:00",
                    "2022-12-12T00:00:00+00:00",
                    "2022-12-19T00:00:00+00:00",
                    "2022-12-26T00:00:00+00:00",
                    "2023-01-02T00:00:00+00:00",
                    "2023-01-09T00:00:00+00:00",
                    "2023-01-16T00:00:00+00:00",
                    "2023-01-23T00:00:00+00:00",
                    "2023-01-30T00:00:00+00:00",
                    "2023-02-06T00:00:00+00:00",
                    "2023-02-13T00:00:00+00:00",
                    "2023-02-20T00:00:00+00:00",
                    "2023-02-27T00:00:00+00:00",
                    "2023-03-06T00:00:00+00:00",
                    "2023-03-13T00:00:00+00:00",
                    "2023-03-20T00:00:00+00:00",
                    "2023-03-27T00:00:00+00:00",
                    "2023-04-03T00:00:00+00:00",
                    "2023-04-10T00:00:00+00:00"
                  ],
                  "xaxis": "x",
                  "y": [
                    3019,
                    4798,
                    2979,
                    7771,
                    6980,
                    7971,
                    5851,
                    5305,
                    5897,
                    6246,
                    5482,
                    4876,
                    4516,
                    4922,
                    5972,
                    8178,
                    8214,
                    10048,
                    6971,
                    7689,
                    19579,
                    11333,
                    7256,
                    6927,
                    8214,
                    11889,
                    11098,
                    8993,
                    15920,
                    19560,
                    19110,
                    13513,
                    13102,
                    11438,
                    12368,
                    10167,
                    7466,
                    11546,
                    6824,
                    7814,
                    7434,
                    6861,
                    8481,
                    10823,
                    9343,
                    23441,
                    18628,
                    15169,
                    15703,
                    12443,
                    21230,
                    30733,
                    37076,
                    43319,
                    24498,
                    35654,
                    73529,
                    54818,
                    91002,
                    91361,
                    78035,
                    67394,
                    70793,
                    62820,
                    82967,
                    89558,
                    101749,
                    68370,
                    86265,
                    117249,
                    133972,
                    120754,
                    81998,
                    67699,
                    53255,
                    62610,
                    56148,
                    55080,
                    50117,
                    46483,
                    49137,
                    60131,
                    62772,
                    101214,
                    115650,
                    150072,
                    136930,
                    167372,
                    145763,
                    135672,
                    165863,
                    121916,
                    96733,
                    141688,
                    175696,
                    152187,
                    220100,
                    228239,
                    191590,
                    150476,
                    118582,
                    129495,
                    119897,
                    131365,
                    151067,
                    221675,
                    190135,
                    216281,
                    148365,
                    130461,
                    230015,
                    140310,
                    123158,
                    126343,
                    103716,
                    124696,
                    93235,
                    104807,
                    95063,
                    83318,
                    103251,
                    null,
                    107185,
                    72961,
                    86211,
                    95590,
                    62721,
                    61936,
                    67645,
                    61671,
                    67008,
                    101458,
                    56590,
                    65573,
                    51579,
                    79269,
                    59576,
                    59923,
                    58375,
                    49255,
                    67843,
                    50782,
                    65137,
                    54036,
                    52190,
                    77447,
                    60687,
                    65684,
                    82940,
                    76568,
                    72479,
                    53300,
                    59136,
                    59475,
                    40100,
                    64820,
                    63872,
                    64911,
                    57885,
                    52782,
                    73767,
                    56042,
                    52170,
                    45627,
                    42482,
                    61735,
                    54322,
                    46136,
                    48056,
                    36373,
                    51215
                  ],
                  "yaxis": "y"
                },
                {
                  "hovertemplate": "asset=polkadot<br>variable=active_addresses<br>timestamp=%{x}<br>value=%{y}<extra></extra>",
                  "legendgroup": "polkadot",
                  "line": {
                    "color": "#ab63fa",
                    "dash": "solid"
                  },
                  "marker": {
                    "symbol": "circle"
                  },
                  "mode": "lines",
                  "name": "polkadot",
                  "orientation": "v",
                  "showlegend": true,
                  "type": "scatter",
                  "x": [
                    "2020-08-17T00:00:00+00:00",
                    "2020-08-24T00:00:00+00:00",
                    "2020-08-31T00:00:00+00:00",
                    "2020-09-07T00:00:00+00:00",
                    "2020-09-14T00:00:00+00:00",
                    "2020-09-21T00:00:00+00:00",
                    "2020-09-28T00:00:00+00:00",
                    "2020-10-05T00:00:00+00:00",
                    "2020-10-12T00:00:00+00:00",
                    "2020-10-19T00:00:00+00:00",
                    "2020-10-26T00:00:00+00:00",
                    "2020-11-02T00:00:00+00:00",
                    "2020-11-09T00:00:00+00:00",
                    "2020-11-16T00:00:00+00:00",
                    "2020-11-23T00:00:00+00:00",
                    "2020-11-30T00:00:00+00:00",
                    "2020-12-07T00:00:00+00:00",
                    "2020-12-14T00:00:00+00:00",
                    "2020-12-21T00:00:00+00:00",
                    "2020-12-28T00:00:00+00:00",
                    "2021-01-04T00:00:00+00:00",
                    "2021-01-11T00:00:00+00:00",
                    "2021-01-18T00:00:00+00:00",
                    "2021-01-25T00:00:00+00:00",
                    "2021-02-01T00:00:00+00:00",
                    "2021-02-08T00:00:00+00:00",
                    "2021-02-15T00:00:00+00:00",
                    "2021-02-22T00:00:00+00:00",
                    "2021-03-01T00:00:00+00:00",
                    "2021-03-08T00:00:00+00:00",
                    "2021-03-15T00:00:00+00:00",
                    "2021-03-22T00:00:00+00:00",
                    "2021-03-29T00:00:00+00:00",
                    "2021-04-05T00:00:00+00:00",
                    "2021-04-12T00:00:00+00:00",
                    "2021-04-19T00:00:00+00:00",
                    "2021-04-26T00:00:00+00:00",
                    "2021-05-03T00:00:00+00:00",
                    "2021-05-10T00:00:00+00:00",
                    "2021-05-17T00:00:00+00:00",
                    "2021-05-24T00:00:00+00:00",
                    "2021-05-31T00:00:00+00:00",
                    "2021-06-07T00:00:00+00:00",
                    "2021-06-14T00:00:00+00:00",
                    "2021-06-21T00:00:00+00:00",
                    "2021-06-28T00:00:00+00:00",
                    "2021-07-05T00:00:00+00:00",
                    "2021-07-12T00:00:00+00:00",
                    "2021-07-19T00:00:00+00:00",
                    "2021-07-26T00:00:00+00:00",
                    "2021-08-02T00:00:00+00:00",
                    "2021-08-09T00:00:00+00:00",
                    "2021-08-16T00:00:00+00:00",
                    "2021-08-23T00:00:00+00:00",
                    "2021-08-30T00:00:00+00:00",
                    "2021-09-06T00:00:00+00:00",
                    "2021-09-13T00:00:00+00:00",
                    "2021-09-20T00:00:00+00:00",
                    "2021-09-27T00:00:00+00:00",
                    "2021-10-04T00:00:00+00:00",
                    "2021-10-11T00:00:00+00:00",
                    "2021-10-18T00:00:00+00:00",
                    "2021-10-25T00:00:00+00:00",
                    "2021-11-01T00:00:00+00:00",
                    "2021-11-08T00:00:00+00:00",
                    "2021-11-15T00:00:00+00:00",
                    "2021-11-22T00:00:00+00:00",
                    "2021-11-29T00:00:00+00:00",
                    "2021-12-06T00:00:00+00:00",
                    "2021-12-13T00:00:00+00:00",
                    "2021-12-20T00:00:00+00:00",
                    "2021-12-27T00:00:00+00:00",
                    "2022-01-03T00:00:00+00:00",
                    "2022-01-10T00:00:00+00:00",
                    "2022-01-17T00:00:00+00:00",
                    "2022-01-24T00:00:00+00:00",
                    "2022-01-31T00:00:00+00:00",
                    "2022-02-07T00:00:00+00:00",
                    "2022-02-14T00:00:00+00:00",
                    "2022-02-21T00:00:00+00:00",
                    "2022-02-28T00:00:00+00:00",
                    "2022-03-07T00:00:00+00:00",
                    "2022-03-14T00:00:00+00:00",
                    "2022-03-21T00:00:00+00:00",
                    "2022-03-28T00:00:00+00:00",
                    "2022-04-04T00:00:00+00:00",
                    "2022-04-11T00:00:00+00:00",
                    "2022-04-18T00:00:00+00:00",
                    "2022-04-25T00:00:00+00:00",
                    "2022-05-02T00:00:00+00:00",
                    "2022-05-09T00:00:00+00:00",
                    "2022-05-16T00:00:00+00:00",
                    "2022-05-23T00:00:00+00:00",
                    "2022-05-30T00:00:00+00:00",
                    "2022-06-06T00:00:00+00:00",
                    "2022-06-13T00:00:00+00:00",
                    "2022-06-20T00:00:00+00:00",
                    "2022-06-27T00:00:00+00:00",
                    "2022-07-04T00:00:00+00:00",
                    "2022-07-11T00:00:00+00:00",
                    "2022-07-18T00:00:00+00:00",
                    "2022-07-25T00:00:00+00:00",
                    "2022-08-01T00:00:00+00:00",
                    "2022-08-08T00:00:00+00:00",
                    "2022-08-15T00:00:00+00:00",
                    "2022-08-22T00:00:00+00:00",
                    "2022-08-29T00:00:00+00:00",
                    "2022-09-05T00:00:00+00:00",
                    "2022-09-12T00:00:00+00:00",
                    "2022-09-19T00:00:00+00:00",
                    "2022-09-26T00:00:00+00:00",
                    "2022-10-03T00:00:00+00:00",
                    "2022-10-10T00:00:00+00:00",
                    "2022-10-17T00:00:00+00:00",
                    "2022-10-24T00:00:00+00:00",
                    "2022-10-31T00:00:00+00:00",
                    "2022-11-07T00:00:00+00:00",
                    "2022-11-14T00:00:00+00:00",
                    "2022-11-21T00:00:00+00:00",
                    "2022-11-28T00:00:00+00:00",
                    "2022-12-05T00:00:00+00:00",
                    "2022-12-12T00:00:00+00:00",
                    "2022-12-19T00:00:00+00:00",
                    "2022-12-26T00:00:00+00:00",
                    "2023-01-02T00:00:00+00:00",
                    "2023-01-09T00:00:00+00:00",
                    "2023-01-16T00:00:00+00:00",
                    "2023-01-23T00:00:00+00:00",
                    "2023-01-30T00:00:00+00:00",
                    "2023-02-06T00:00:00+00:00",
                    "2023-02-13T00:00:00+00:00",
                    "2023-02-20T00:00:00+00:00",
                    "2023-02-27T00:00:00+00:00",
                    "2023-03-06T00:00:00+00:00",
                    "2023-03-13T00:00:00+00:00",
                    "2023-03-20T00:00:00+00:00",
                    "2023-03-27T00:00:00+00:00",
                    "2023-04-03T00:00:00+00:00",
                    "2023-04-10T00:00:00+00:00",
                    "2020-05-25T00:00:00+00:00",
                    "2020-06-01T00:00:00+00:00",
                    "2020-06-08T00:00:00+00:00",
                    "2020-06-15T00:00:00+00:00",
                    "2020-06-22T00:00:00+00:00",
                    "2020-06-29T00:00:00+00:00",
                    "2020-07-06T00:00:00+00:00",
                    "2020-07-13T00:00:00+00:00",
                    "2020-07-20T00:00:00+00:00",
                    "2020-07-27T00:00:00+00:00",
                    "2020-08-03T00:00:00+00:00",
                    "2020-08-10T00:00:00+00:00"
                  ],
                  "xaxis": "x",
                  "y": [
                    4127,
                    4970,
                    5275,
                    5058,
                    5412,
                    6010,
                    4779,
                    5929,
                    6001,
                    5727,
                    5286,
                    5739,
                    6945,
                    6930,
                    6936,
                    6760,
                    7094,
                    7284,
                    8080,
                    10688,
                    9658,
                    12810,
                    10896,
                    12129,
                    13148,
                    14014,
                    16285,
                    14317,
                    14779,
                    14383,
                    14080,
                    12741,
                    13823,
                    15542,
                    17361,
                    13437,
                    11425,
                    22477,
                    23875,
                    27865,
                    20367,
                    23247,
                    22193,
                    24152,
                    22618,
                    19982,
                    18677,
                    21170,
                    21516,
                    26964,
                    25302,
                    26340,
                    26456,
                    26831,
                    26854,
                    28527,
                    25448,
                    30004,
                    25728,
                    22285,
                    32136,
                    25705,
                    25648,
                    38282,
                    null,
                    27134,
                    26974,
                    27250,
                    25106,
                    24180,
                    25457,
                    25776,
                    24889,
                    25036,
                    26802,
                    24210,
                    24138,
                    24992,
                    24041,
                    25145,
                    22761,
                    23615,
                    22010,
                    23509,
                    22288,
                    20977,
                    22026,
                    23173,
                    23051,
                    22288,
                    33931,
                    22265,
                    22047,
                    22113,
                    null,
                    null,
                    null,
                    null,
                    null,
                    null,
                    null,
                    null,
                    null,
                    null,
                    null,
                    null,
                    null,
                    null,
                    null,
                    null,
                    null,
                    null,
                    null,
                    null,
                    null,
                    null,
                    null,
                    null,
                    null,
                    null,
                    null,
                    null,
                    null,
                    null,
                    null,
                    null,
                    null,
                    null,
                    null,
                    null,
                    null,
                    null,
                    null,
                    null,
                    null,
                    null,
                    null,
                    null,
                    null,
                    25,
                    23,
                    29,
                    617,
                    645,
                    675,
                    672,
                    814,
                    1105,
                    1147,
                    1144,
                    1303
                  ],
                  "yaxis": "y"
                },
                {
                  "hovertemplate": "asset=solana<br>variable=active_addresses<br>timestamp=%{x}<br>value=%{y}<extra></extra>",
                  "legendgroup": "solana",
                  "line": {
                    "color": "#FFA15A",
                    "dash": "solid"
                  },
                  "marker": {
                    "symbol": "circle"
                  },
                  "mode": "lines",
                  "name": "solana",
                  "orientation": "v",
                  "showlegend": true,
                  "type": "scatter",
                  "x": [
                    "2020-04-06T00:00:00+00:00",
                    "2020-04-13T00:00:00+00:00",
                    "2020-04-20T00:00:00+00:00",
                    "2020-04-27T00:00:00+00:00",
                    "2020-05-04T00:00:00+00:00",
                    "2020-05-11T00:00:00+00:00",
                    "2020-05-18T00:00:00+00:00",
                    "2020-05-25T00:00:00+00:00",
                    "2020-06-01T00:00:00+00:00",
                    "2020-06-08T00:00:00+00:00",
                    "2020-06-15T00:00:00+00:00",
                    "2020-06-22T00:00:00+00:00",
                    "2020-06-29T00:00:00+00:00",
                    "2020-07-06T00:00:00+00:00",
                    "2020-07-13T00:00:00+00:00",
                    "2020-07-20T00:00:00+00:00",
                    "2020-07-27T00:00:00+00:00",
                    "2020-08-03T00:00:00+00:00",
                    "2020-08-10T00:00:00+00:00",
                    "2020-08-17T00:00:00+00:00",
                    "2020-08-24T00:00:00+00:00",
                    "2020-08-31T00:00:00+00:00",
                    "2020-09-07T00:00:00+00:00",
                    "2020-09-14T00:00:00+00:00",
                    "2020-09-21T00:00:00+00:00",
                    "2020-09-28T00:00:00+00:00",
                    "2020-10-05T00:00:00+00:00",
                    "2020-10-12T00:00:00+00:00",
                    "2020-10-19T00:00:00+00:00",
                    "2020-10-26T00:00:00+00:00",
                    "2020-11-02T00:00:00+00:00",
                    "2020-11-09T00:00:00+00:00",
                    "2020-11-16T00:00:00+00:00",
                    "2020-11-23T00:00:00+00:00",
                    "2020-11-30T00:00:00+00:00",
                    "2020-12-07T00:00:00+00:00",
                    "2020-12-14T00:00:00+00:00",
                    "2020-12-21T00:00:00+00:00",
                    "2020-12-28T00:00:00+00:00",
                    "2021-01-04T00:00:00+00:00",
                    "2021-01-11T00:00:00+00:00",
                    "2021-01-18T00:00:00+00:00",
                    "2021-01-25T00:00:00+00:00",
                    "2021-02-01T00:00:00+00:00",
                    "2021-02-08T00:00:00+00:00",
                    "2021-02-15T00:00:00+00:00",
                    "2021-02-22T00:00:00+00:00",
                    "2021-03-01T00:00:00+00:00",
                    "2021-03-08T00:00:00+00:00",
                    "2021-03-15T00:00:00+00:00",
                    "2021-03-22T00:00:00+00:00",
                    "2021-03-29T00:00:00+00:00",
                    "2021-04-05T00:00:00+00:00",
                    "2021-04-12T00:00:00+00:00",
                    "2021-04-19T00:00:00+00:00",
                    "2021-04-26T00:00:00+00:00",
                    "2021-05-03T00:00:00+00:00",
                    "2021-05-10T00:00:00+00:00",
                    "2021-05-17T00:00:00+00:00",
                    "2021-05-24T00:00:00+00:00",
                    "2021-05-31T00:00:00+00:00",
                    "2021-06-07T00:00:00+00:00",
                    "2021-06-14T00:00:00+00:00",
                    "2021-06-21T00:00:00+00:00",
                    "2021-06-28T00:00:00+00:00",
                    "2021-07-05T00:00:00+00:00",
                    "2021-07-12T00:00:00+00:00",
                    "2021-07-19T00:00:00+00:00",
                    "2021-07-26T00:00:00+00:00",
                    "2021-08-02T00:00:00+00:00",
                    "2021-08-09T00:00:00+00:00",
                    "2021-08-16T00:00:00+00:00",
                    "2021-08-23T00:00:00+00:00",
                    "2021-08-30T00:00:00+00:00",
                    "2021-09-06T00:00:00+00:00",
                    "2021-09-13T00:00:00+00:00",
                    "2021-09-20T00:00:00+00:00",
                    "2021-09-27T00:00:00+00:00",
                    "2021-10-04T00:00:00+00:00",
                    "2021-10-11T00:00:00+00:00",
                    "2021-10-18T00:00:00+00:00",
                    "2021-10-25T00:00:00+00:00",
                    "2021-11-01T00:00:00+00:00",
                    "2021-11-08T00:00:00+00:00",
                    "2021-11-15T00:00:00+00:00",
                    "2021-11-22T00:00:00+00:00",
                    "2021-11-29T00:00:00+00:00",
                    "2021-12-06T00:00:00+00:00",
                    "2021-12-13T00:00:00+00:00",
                    "2021-12-20T00:00:00+00:00",
                    "2021-12-27T00:00:00+00:00",
                    "2022-01-03T00:00:00+00:00",
                    "2022-01-10T00:00:00+00:00",
                    "2022-01-17T00:00:00+00:00",
                    "2022-01-24T00:00:00+00:00",
                    "2022-01-31T00:00:00+00:00",
                    "2022-02-07T00:00:00+00:00",
                    "2022-02-14T00:00:00+00:00",
                    "2022-02-21T00:00:00+00:00",
                    "2022-02-28T00:00:00+00:00",
                    "2022-03-07T00:00:00+00:00",
                    "2022-03-14T00:00:00+00:00",
                    "2022-03-21T00:00:00+00:00",
                    "2022-03-28T00:00:00+00:00",
                    "2022-04-04T00:00:00+00:00",
                    "2022-04-11T00:00:00+00:00",
                    "2022-04-18T00:00:00+00:00",
                    "2022-04-25T00:00:00+00:00",
                    "2022-05-02T00:00:00+00:00",
                    "2022-05-09T00:00:00+00:00",
                    "2022-05-16T00:00:00+00:00",
                    "2022-05-23T00:00:00+00:00",
                    "2022-05-30T00:00:00+00:00",
                    "2022-06-06T00:00:00+00:00",
                    "2022-06-13T00:00:00+00:00",
                    "2022-06-20T00:00:00+00:00",
                    "2022-06-27T00:00:00+00:00",
                    "2022-07-04T00:00:00+00:00",
                    "2022-07-11T00:00:00+00:00",
                    "2022-07-18T00:00:00+00:00",
                    "2022-07-25T00:00:00+00:00",
                    "2022-08-01T00:00:00+00:00",
                    "2022-08-08T00:00:00+00:00",
                    "2022-08-15T00:00:00+00:00",
                    "2022-08-22T00:00:00+00:00",
                    "2022-08-29T00:00:00+00:00",
                    "2022-09-05T00:00:00+00:00",
                    "2022-09-12T00:00:00+00:00",
                    "2022-09-19T00:00:00+00:00",
                    "2022-09-26T00:00:00+00:00",
                    "2022-10-03T00:00:00+00:00",
                    "2022-10-10T00:00:00+00:00",
                    "2022-10-17T00:00:00+00:00",
                    "2022-10-24T00:00:00+00:00",
                    "2022-10-31T00:00:00+00:00",
                    "2022-11-07T00:00:00+00:00",
                    "2022-11-14T00:00:00+00:00",
                    "2022-11-21T00:00:00+00:00",
                    "2022-11-28T00:00:00+00:00",
                    "2022-12-05T00:00:00+00:00",
                    "2022-12-12T00:00:00+00:00",
                    "2022-12-19T00:00:00+00:00",
                    "2022-12-26T00:00:00+00:00",
                    "2023-01-02T00:00:00+00:00",
                    "2023-01-09T00:00:00+00:00",
                    "2023-01-16T00:00:00+00:00",
                    "2023-01-23T00:00:00+00:00",
                    "2023-01-30T00:00:00+00:00",
                    "2023-02-06T00:00:00+00:00",
                    "2023-02-13T00:00:00+00:00",
                    "2023-02-20T00:00:00+00:00",
                    "2023-02-27T00:00:00+00:00",
                    "2023-03-06T00:00:00+00:00",
                    "2023-03-13T00:00:00+00:00",
                    "2023-03-20T00:00:00+00:00",
                    "2023-03-27T00:00:00+00:00",
                    "2023-04-03T00:00:00+00:00",
                    "2023-04-10T00:00:00+00:00"
                  ],
                  "xaxis": "x",
                  "y": [
                    null,
                    null,
                    null,
                    null,
                    null,
                    null,
                    null,
                    null,
                    null,
                    null,
                    null,
                    null,
                    null,
                    null,
                    null,
                    null,
                    null,
                    null,
                    null,
                    null,
                    null,
                    null,
                    null,
                    null,
                    null,
                    null,
                    null,
                    null,
                    null,
                    null,
                    null,
                    null,
                    null,
                    null,
                    null,
                    null,
                    null,
                    null,
                    null,
                    null,
                    null,
                    null,
                    null,
                    null,
                    null,
                    null,
                    null,
                    null,
                    null,
                    null,
                    null,
                    null,
                    null,
                    null,
                    null,
                    null,
                    null,
                    null,
                    null,
                    null,
                    null,
                    null,
                    null,
                    null,
                    null,
                    null,
                    null,
                    null,
                    null,
                    null,
                    null,
                    null,
                    null,
                    null,
                    null,
                    null,
                    null,
                    null,
                    null,
                    null,
                    null,
                    null,
                    null,
                    null,
                    null,
                    null,
                    null,
                    null,
                    null,
                    null,
                    null,
                    null,
                    null,
                    null,
                    null,
                    null,
                    null,
                    null,
                    null,
                    null,
                    null,
                    null,
                    null,
                    null,
                    null,
                    null,
                    null,
                    null,
                    null,
                    null,
                    null,
                    null,
                    null,
                    null,
                    null,
                    null,
                    null,
                    null,
                    null,
                    null,
                    null,
                    null,
                    null,
                    null,
                    null,
                    null,
                    null,
                    null,
                    null,
                    null,
                    null,
                    null,
                    null,
                    null,
                    null,
                    null,
                    null,
                    null,
                    null,
                    null,
                    null,
                    null,
                    null,
                    null,
                    null,
                    null,
                    null,
                    null,
                    null,
                    null,
                    null,
                    null,
                    null,
                    null,
                    null,
                    null,
                    null,
                    null
                  ],
                  "yaxis": "y"
                }
              ],
              "layout": {
                "height": 500,
                "legend": {
                  "title": {
                    "text": "asset"
                  },
                  "tracegroupgap": 0
                },
                "margin": {
                  "t": 60
                },
                "template": {
                  "data": {
                    "bar": [
                      {
                        "error_x": {
                          "color": "#2a3f5f"
                        },
                        "error_y": {
                          "color": "#2a3f5f"
                        },
                        "marker": {
                          "line": {
                            "color": "#E5ECF6",
                            "width": 0.5
                          },
                          "pattern": {
                            "fillmode": "overlay",
                            "size": 10,
                            "solidity": 0.2
                          }
                        },
                        "type": "bar"
                      }
                    ],
                    "barpolar": [
                      {
                        "marker": {
                          "line": {
                            "color": "#E5ECF6",
                            "width": 0.5
                          },
                          "pattern": {
                            "fillmode": "overlay",
                            "size": 10,
                            "solidity": 0.2
                          }
                        },
                        "type": "barpolar"
                      }
                    ],
                    "carpet": [
                      {
                        "aaxis": {
                          "endlinecolor": "#2a3f5f",
                          "gridcolor": "white",
                          "linecolor": "white",
                          "minorgridcolor": "white",
                          "startlinecolor": "#2a3f5f"
                        },
                        "baxis": {
                          "endlinecolor": "#2a3f5f",
                          "gridcolor": "white",
                          "linecolor": "white",
                          "minorgridcolor": "white",
                          "startlinecolor": "#2a3f5f"
                        },
                        "type": "carpet"
                      }
                    ],
                    "choropleth": [
                      {
                        "colorbar": {
                          "outlinewidth": 0,
                          "ticks": ""
                        },
                        "type": "choropleth"
                      }
                    ],
                    "contour": [
                      {
                        "colorbar": {
                          "outlinewidth": 0,
                          "ticks": ""
                        },
                        "colorscale": [
                          [
                            0,
                            "#0d0887"
                          ],
                          [
                            0.1111111111111111,
                            "#46039f"
                          ],
                          [
                            0.2222222222222222,
                            "#7201a8"
                          ],
                          [
                            0.3333333333333333,
                            "#9c179e"
                          ],
                          [
                            0.4444444444444444,
                            "#bd3786"
                          ],
                          [
                            0.5555555555555556,
                            "#d8576b"
                          ],
                          [
                            0.6666666666666666,
                            "#ed7953"
                          ],
                          [
                            0.7777777777777778,
                            "#fb9f3a"
                          ],
                          [
                            0.8888888888888888,
                            "#fdca26"
                          ],
                          [
                            1,
                            "#f0f921"
                          ]
                        ],
                        "type": "contour"
                      }
                    ],
                    "contourcarpet": [
                      {
                        "colorbar": {
                          "outlinewidth": 0,
                          "ticks": ""
                        },
                        "type": "contourcarpet"
                      }
                    ],
                    "heatmap": [
                      {
                        "colorbar": {
                          "outlinewidth": 0,
                          "ticks": ""
                        },
                        "colorscale": [
                          [
                            0,
                            "#0d0887"
                          ],
                          [
                            0.1111111111111111,
                            "#46039f"
                          ],
                          [
                            0.2222222222222222,
                            "#7201a8"
                          ],
                          [
                            0.3333333333333333,
                            "#9c179e"
                          ],
                          [
                            0.4444444444444444,
                            "#bd3786"
                          ],
                          [
                            0.5555555555555556,
                            "#d8576b"
                          ],
                          [
                            0.6666666666666666,
                            "#ed7953"
                          ],
                          [
                            0.7777777777777778,
                            "#fb9f3a"
                          ],
                          [
                            0.8888888888888888,
                            "#fdca26"
                          ],
                          [
                            1,
                            "#f0f921"
                          ]
                        ],
                        "type": "heatmap"
                      }
                    ],
                    "heatmapgl": [
                      {
                        "colorbar": {
                          "outlinewidth": 0,
                          "ticks": ""
                        },
                        "colorscale": [
                          [
                            0,
                            "#0d0887"
                          ],
                          [
                            0.1111111111111111,
                            "#46039f"
                          ],
                          [
                            0.2222222222222222,
                            "#7201a8"
                          ],
                          [
                            0.3333333333333333,
                            "#9c179e"
                          ],
                          [
                            0.4444444444444444,
                            "#bd3786"
                          ],
                          [
                            0.5555555555555556,
                            "#d8576b"
                          ],
                          [
                            0.6666666666666666,
                            "#ed7953"
                          ],
                          [
                            0.7777777777777778,
                            "#fb9f3a"
                          ],
                          [
                            0.8888888888888888,
                            "#fdca26"
                          ],
                          [
                            1,
                            "#f0f921"
                          ]
                        ],
                        "type": "heatmapgl"
                      }
                    ],
                    "histogram": [
                      {
                        "marker": {
                          "pattern": {
                            "fillmode": "overlay",
                            "size": 10,
                            "solidity": 0.2
                          }
                        },
                        "type": "histogram"
                      }
                    ],
                    "histogram2d": [
                      {
                        "colorbar": {
                          "outlinewidth": 0,
                          "ticks": ""
                        },
                        "colorscale": [
                          [
                            0,
                            "#0d0887"
                          ],
                          [
                            0.1111111111111111,
                            "#46039f"
                          ],
                          [
                            0.2222222222222222,
                            "#7201a8"
                          ],
                          [
                            0.3333333333333333,
                            "#9c179e"
                          ],
                          [
                            0.4444444444444444,
                            "#bd3786"
                          ],
                          [
                            0.5555555555555556,
                            "#d8576b"
                          ],
                          [
                            0.6666666666666666,
                            "#ed7953"
                          ],
                          [
                            0.7777777777777778,
                            "#fb9f3a"
                          ],
                          [
                            0.8888888888888888,
                            "#fdca26"
                          ],
                          [
                            1,
                            "#f0f921"
                          ]
                        ],
                        "type": "histogram2d"
                      }
                    ],
                    "histogram2dcontour": [
                      {
                        "colorbar": {
                          "outlinewidth": 0,
                          "ticks": ""
                        },
                        "colorscale": [
                          [
                            0,
                            "#0d0887"
                          ],
                          [
                            0.1111111111111111,
                            "#46039f"
                          ],
                          [
                            0.2222222222222222,
                            "#7201a8"
                          ],
                          [
                            0.3333333333333333,
                            "#9c179e"
                          ],
                          [
                            0.4444444444444444,
                            "#bd3786"
                          ],
                          [
                            0.5555555555555556,
                            "#d8576b"
                          ],
                          [
                            0.6666666666666666,
                            "#ed7953"
                          ],
                          [
                            0.7777777777777778,
                            "#fb9f3a"
                          ],
                          [
                            0.8888888888888888,
                            "#fdca26"
                          ],
                          [
                            1,
                            "#f0f921"
                          ]
                        ],
                        "type": "histogram2dcontour"
                      }
                    ],
                    "mesh3d": [
                      {
                        "colorbar": {
                          "outlinewidth": 0,
                          "ticks": ""
                        },
                        "type": "mesh3d"
                      }
                    ],
                    "parcoords": [
                      {
                        "line": {
                          "colorbar": {
                            "outlinewidth": 0,
                            "ticks": ""
                          }
                        },
                        "type": "parcoords"
                      }
                    ],
                    "pie": [
                      {
                        "automargin": true,
                        "type": "pie"
                      }
                    ],
                    "scatter": [
                      {
                        "fillpattern": {
                          "fillmode": "overlay",
                          "size": 10,
                          "solidity": 0.2
                        },
                        "type": "scatter"
                      }
                    ],
                    "scatter3d": [
                      {
                        "line": {
                          "colorbar": {
                            "outlinewidth": 0,
                            "ticks": ""
                          }
                        },
                        "marker": {
                          "colorbar": {
                            "outlinewidth": 0,
                            "ticks": ""
                          }
                        },
                        "type": "scatter3d"
                      }
                    ],
                    "scattercarpet": [
                      {
                        "marker": {
                          "colorbar": {
                            "outlinewidth": 0,
                            "ticks": ""
                          }
                        },
                        "type": "scattercarpet"
                      }
                    ],
                    "scattergeo": [
                      {
                        "marker": {
                          "colorbar": {
                            "outlinewidth": 0,
                            "ticks": ""
                          }
                        },
                        "type": "scattergeo"
                      }
                    ],
                    "scattergl": [
                      {
                        "marker": {
                          "colorbar": {
                            "outlinewidth": 0,
                            "ticks": ""
                          }
                        },
                        "type": "scattergl"
                      }
                    ],
                    "scattermapbox": [
                      {
                        "marker": {
                          "colorbar": {
                            "outlinewidth": 0,
                            "ticks": ""
                          }
                        },
                        "type": "scattermapbox"
                      }
                    ],
                    "scatterpolar": [
                      {
                        "marker": {
                          "colorbar": {
                            "outlinewidth": 0,
                            "ticks": ""
                          }
                        },
                        "type": "scatterpolar"
                      }
                    ],
                    "scatterpolargl": [
                      {
                        "marker": {
                          "colorbar": {
                            "outlinewidth": 0,
                            "ticks": ""
                          }
                        },
                        "type": "scatterpolargl"
                      }
                    ],
                    "scatterternary": [
                      {
                        "marker": {
                          "colorbar": {
                            "outlinewidth": 0,
                            "ticks": ""
                          }
                        },
                        "type": "scatterternary"
                      }
                    ],
                    "surface": [
                      {
                        "colorbar": {
                          "outlinewidth": 0,
                          "ticks": ""
                        },
                        "colorscale": [
                          [
                            0,
                            "#0d0887"
                          ],
                          [
                            0.1111111111111111,
                            "#46039f"
                          ],
                          [
                            0.2222222222222222,
                            "#7201a8"
                          ],
                          [
                            0.3333333333333333,
                            "#9c179e"
                          ],
                          [
                            0.4444444444444444,
                            "#bd3786"
                          ],
                          [
                            0.5555555555555556,
                            "#d8576b"
                          ],
                          [
                            0.6666666666666666,
                            "#ed7953"
                          ],
                          [
                            0.7777777777777778,
                            "#fb9f3a"
                          ],
                          [
                            0.8888888888888888,
                            "#fdca26"
                          ],
                          [
                            1,
                            "#f0f921"
                          ]
                        ],
                        "type": "surface"
                      }
                    ],
                    "table": [
                      {
                        "cells": {
                          "fill": {
                            "color": "#EBF0F8"
                          },
                          "line": {
                            "color": "white"
                          }
                        },
                        "header": {
                          "fill": {
                            "color": "#C8D4E3"
                          },
                          "line": {
                            "color": "white"
                          }
                        },
                        "type": "table"
                      }
                    ]
                  },
                  "layout": {
                    "annotationdefaults": {
                      "arrowcolor": "#2a3f5f",
                      "arrowhead": 0,
                      "arrowwidth": 1
                    },
                    "autotypenumbers": "strict",
                    "coloraxis": {
                      "colorbar": {
                        "outlinewidth": 0,
                        "ticks": ""
                      }
                    },
                    "colorscale": {
                      "diverging": [
                        [
                          0,
                          "#8e0152"
                        ],
                        [
                          0.1,
                          "#c51b7d"
                        ],
                        [
                          0.2,
                          "#de77ae"
                        ],
                        [
                          0.3,
                          "#f1b6da"
                        ],
                        [
                          0.4,
                          "#fde0ef"
                        ],
                        [
                          0.5,
                          "#f7f7f7"
                        ],
                        [
                          0.6,
                          "#e6f5d0"
                        ],
                        [
                          0.7,
                          "#b8e186"
                        ],
                        [
                          0.8,
                          "#7fbc41"
                        ],
                        [
                          0.9,
                          "#4d9221"
                        ],
                        [
                          1,
                          "#276419"
                        ]
                      ],
                      "sequential": [
                        [
                          0,
                          "#0d0887"
                        ],
                        [
                          0.1111111111111111,
                          "#46039f"
                        ],
                        [
                          0.2222222222222222,
                          "#7201a8"
                        ],
                        [
                          0.3333333333333333,
                          "#9c179e"
                        ],
                        [
                          0.4444444444444444,
                          "#bd3786"
                        ],
                        [
                          0.5555555555555556,
                          "#d8576b"
                        ],
                        [
                          0.6666666666666666,
                          "#ed7953"
                        ],
                        [
                          0.7777777777777778,
                          "#fb9f3a"
                        ],
                        [
                          0.8888888888888888,
                          "#fdca26"
                        ],
                        [
                          1,
                          "#f0f921"
                        ]
                      ],
                      "sequentialminus": [
                        [
                          0,
                          "#0d0887"
                        ],
                        [
                          0.1111111111111111,
                          "#46039f"
                        ],
                        [
                          0.2222222222222222,
                          "#7201a8"
                        ],
                        [
                          0.3333333333333333,
                          "#9c179e"
                        ],
                        [
                          0.4444444444444444,
                          "#bd3786"
                        ],
                        [
                          0.5555555555555556,
                          "#d8576b"
                        ],
                        [
                          0.6666666666666666,
                          "#ed7953"
                        ],
                        [
                          0.7777777777777778,
                          "#fb9f3a"
                        ],
                        [
                          0.8888888888888888,
                          "#fdca26"
                        ],
                        [
                          1,
                          "#f0f921"
                        ]
                      ]
                    },
                    "colorway": [
                      "#636efa",
                      "#EF553B",
                      "#00cc96",
                      "#ab63fa",
                      "#FFA15A",
                      "#19d3f3",
                      "#FF6692",
                      "#B6E880",
                      "#FF97FF",
                      "#FECB52"
                    ],
                    "font": {
                      "color": "#2a3f5f"
                    },
                    "geo": {
                      "bgcolor": "white",
                      "lakecolor": "white",
                      "landcolor": "#E5ECF6",
                      "showlakes": true,
                      "showland": true,
                      "subunitcolor": "white"
                    },
                    "hoverlabel": {
                      "align": "left"
                    },
                    "hovermode": "closest",
                    "mapbox": {
                      "style": "light"
                    },
                    "paper_bgcolor": "white",
                    "plot_bgcolor": "#E5ECF6",
                    "polar": {
                      "angularaxis": {
                        "gridcolor": "white",
                        "linecolor": "white",
                        "ticks": ""
                      },
                      "bgcolor": "#E5ECF6",
                      "radialaxis": {
                        "gridcolor": "white",
                        "linecolor": "white",
                        "ticks": ""
                      }
                    },
                    "scene": {
                      "xaxis": {
                        "backgroundcolor": "#E5ECF6",
                        "gridcolor": "white",
                        "gridwidth": 2,
                        "linecolor": "white",
                        "showbackground": true,
                        "ticks": "",
                        "zerolinecolor": "white"
                      },
                      "yaxis": {
                        "backgroundcolor": "#E5ECF6",
                        "gridcolor": "white",
                        "gridwidth": 2,
                        "linecolor": "white",
                        "showbackground": true,
                        "ticks": "",
                        "zerolinecolor": "white"
                      },
                      "zaxis": {
                        "backgroundcolor": "#E5ECF6",
                        "gridcolor": "white",
                        "gridwidth": 2,
                        "linecolor": "white",
                        "showbackground": true,
                        "ticks": "",
                        "zerolinecolor": "white"
                      }
                    },
                    "shapedefaults": {
                      "line": {
                        "color": "#2a3f5f"
                      }
                    },
                    "ternary": {
                      "aaxis": {
                        "gridcolor": "white",
                        "linecolor": "white",
                        "ticks": ""
                      },
                      "baxis": {
                        "gridcolor": "white",
                        "linecolor": "white",
                        "ticks": ""
                      },
                      "bgcolor": "#E5ECF6",
                      "caxis": {
                        "gridcolor": "white",
                        "linecolor": "white",
                        "ticks": ""
                      }
                    },
                    "title": {
                      "x": 0.05
                    },
                    "xaxis": {
                      "automargin": true,
                      "gridcolor": "white",
                      "linecolor": "white",
                      "ticks": "",
                      "title": {
                        "standoff": 15
                      },
                      "zerolinecolor": "white",
                      "zerolinewidth": 2
                    },
                    "yaxis": {
                      "automargin": true,
                      "gridcolor": "white",
                      "linecolor": "white",
                      "ticks": "",
                      "title": {
                        "standoff": 15
                      },
                      "zerolinecolor": "white",
                      "zerolinewidth": 2
                    }
                  }
                },
                "xaxis": {
                  "anchor": "y",
                  "domain": [
                    0,
                    1
                  ],
                  "title": {
                    "text": "timestamp"
                  }
                },
                "yaxis": {
                  "anchor": "x",
                  "domain": [
                    0,
                    1
                  ],
                  "title": {
                    "text": "value"
                  }
                }
              }
            }
          },
          "metadata": {},
          "output_type": "display_data"
        }
      ],
      "source": [
        "fig = px.line(df, x=\"timestamp\", y=[\"active_addresses\"], color=\"asset\").update_layout(height=500)   #, facet_row=\"subset\"\n",
        "fig.show()"
      ]
    },
    {
      "cell_type": "code",
      "execution_count": 206,
      "metadata": {},
      "outputs": [
        {
          "data": {
            "application/vnd.plotly.v1+json": {
              "config": {
                "plotlyServerURL": "https://plot.ly"
              },
              "data": [
                {
                  "hovertemplate": "asset=bitcoin<br>variable=addresses<br>timestamp=%{x}<br>value=%{y}<extra></extra>",
                  "legendgroup": "bitcoin",
                  "line": {
                    "color": "#636efa",
                    "dash": "solid"
                  },
                  "marker": {
                    "symbol": "circle"
                  },
                  "mode": "lines",
                  "name": "bitcoin",
                  "orientation": "v",
                  "showlegend": true,
                  "type": "scatter",
                  "x": [
                    "2020-01-06T00:00:00+00:00",
                    "2020-01-13T00:00:00+00:00",
                    "2020-01-20T00:00:00+00:00",
                    "2020-01-27T00:00:00+00:00",
                    "2020-02-03T00:00:00+00:00",
                    "2020-02-10T00:00:00+00:00",
                    "2020-02-17T00:00:00+00:00",
                    "2020-02-24T00:00:00+00:00",
                    "2020-03-02T00:00:00+00:00",
                    "2020-03-09T00:00:00+00:00",
                    "2020-03-16T00:00:00+00:00",
                    "2020-03-23T00:00:00+00:00",
                    "2020-03-30T00:00:00+00:00",
                    "2020-04-06T00:00:00+00:00",
                    "2020-04-13T00:00:00+00:00",
                    "2020-04-20T00:00:00+00:00",
                    "2020-04-27T00:00:00+00:00",
                    "2020-05-04T00:00:00+00:00",
                    "2020-05-11T00:00:00+00:00",
                    "2020-05-18T00:00:00+00:00",
                    "2020-05-25T00:00:00+00:00",
                    "2020-06-01T00:00:00+00:00",
                    "2020-06-08T00:00:00+00:00",
                    "2020-06-15T00:00:00+00:00",
                    "2020-06-22T00:00:00+00:00",
                    "2020-06-29T00:00:00+00:00",
                    "2020-07-06T00:00:00+00:00",
                    "2020-07-13T00:00:00+00:00",
                    "2020-07-20T00:00:00+00:00",
                    "2020-07-27T00:00:00+00:00",
                    "2020-08-03T00:00:00+00:00",
                    "2020-08-10T00:00:00+00:00",
                    "2020-08-17T00:00:00+00:00",
                    "2020-08-24T00:00:00+00:00",
                    "2020-08-31T00:00:00+00:00",
                    "2020-09-07T00:00:00+00:00",
                    "2020-09-14T00:00:00+00:00",
                    "2020-09-21T00:00:00+00:00",
                    "2020-09-28T00:00:00+00:00",
                    "2020-10-05T00:00:00+00:00",
                    "2020-10-12T00:00:00+00:00",
                    "2020-10-19T00:00:00+00:00",
                    "2020-10-26T00:00:00+00:00",
                    "2020-11-02T00:00:00+00:00",
                    "2020-11-09T00:00:00+00:00",
                    "2020-11-16T00:00:00+00:00",
                    "2020-11-23T00:00:00+00:00",
                    "2020-11-30T00:00:00+00:00",
                    "2020-12-07T00:00:00+00:00",
                    "2020-12-14T00:00:00+00:00",
                    "2020-12-21T00:00:00+00:00",
                    "2020-12-28T00:00:00+00:00",
                    "2021-01-04T00:00:00+00:00",
                    "2021-01-11T00:00:00+00:00",
                    "2021-01-18T00:00:00+00:00",
                    "2021-01-25T00:00:00+00:00",
                    "2021-02-01T00:00:00+00:00",
                    "2021-02-08T00:00:00+00:00",
                    "2021-02-15T00:00:00+00:00",
                    "2021-02-22T00:00:00+00:00",
                    "2021-03-01T00:00:00+00:00",
                    "2021-03-08T00:00:00+00:00",
                    "2021-03-15T00:00:00+00:00",
                    "2021-03-22T00:00:00+00:00",
                    "2021-03-29T00:00:00+00:00",
                    "2021-04-05T00:00:00+00:00",
                    "2021-04-12T00:00:00+00:00",
                    "2021-04-19T00:00:00+00:00",
                    "2021-04-26T00:00:00+00:00",
                    "2021-05-03T00:00:00+00:00",
                    "2021-05-10T00:00:00+00:00",
                    "2021-05-17T00:00:00+00:00",
                    "2021-05-24T00:00:00+00:00",
                    "2021-05-31T00:00:00+00:00",
                    "2021-06-07T00:00:00+00:00",
                    "2021-06-14T00:00:00+00:00",
                    "2021-06-21T00:00:00+00:00",
                    "2021-06-28T00:00:00+00:00",
                    "2021-07-05T00:00:00+00:00",
                    "2021-07-12T00:00:00+00:00",
                    "2021-07-19T00:00:00+00:00",
                    "2021-07-26T00:00:00+00:00",
                    "2021-08-02T00:00:00+00:00",
                    "2021-08-09T00:00:00+00:00",
                    "2021-08-16T00:00:00+00:00",
                    "2021-08-23T00:00:00+00:00",
                    "2021-08-30T00:00:00+00:00",
                    "2021-09-06T00:00:00+00:00",
                    "2021-09-13T00:00:00+00:00",
                    "2021-09-20T00:00:00+00:00",
                    "2021-09-27T00:00:00+00:00",
                    "2021-10-04T00:00:00+00:00",
                    "2021-10-11T00:00:00+00:00",
                    "2021-10-18T00:00:00+00:00",
                    "2021-10-25T00:00:00+00:00",
                    "2021-11-01T00:00:00+00:00",
                    "2021-11-08T00:00:00+00:00",
                    "2021-11-15T00:00:00+00:00",
                    "2021-11-22T00:00:00+00:00",
                    "2021-11-29T00:00:00+00:00",
                    "2021-12-06T00:00:00+00:00",
                    "2021-12-13T00:00:00+00:00",
                    "2021-12-20T00:00:00+00:00",
                    "2021-12-27T00:00:00+00:00",
                    "2022-01-03T00:00:00+00:00",
                    "2022-01-10T00:00:00+00:00",
                    "2022-01-17T00:00:00+00:00",
                    "2022-01-24T00:00:00+00:00",
                    "2022-01-31T00:00:00+00:00",
                    "2022-02-07T00:00:00+00:00",
                    "2022-02-14T00:00:00+00:00",
                    "2022-02-21T00:00:00+00:00",
                    "2022-02-28T00:00:00+00:00",
                    "2022-03-07T00:00:00+00:00",
                    "2022-03-14T00:00:00+00:00",
                    "2022-03-21T00:00:00+00:00",
                    "2022-03-28T00:00:00+00:00",
                    "2022-04-04T00:00:00+00:00",
                    "2022-04-11T00:00:00+00:00",
                    "2022-04-18T00:00:00+00:00",
                    "2022-04-25T00:00:00+00:00",
                    "2022-05-02T00:00:00+00:00",
                    "2022-05-09T00:00:00+00:00",
                    "2022-05-16T00:00:00+00:00",
                    "2022-05-23T00:00:00+00:00",
                    "2022-05-30T00:00:00+00:00",
                    "2022-06-06T00:00:00+00:00",
                    "2022-06-13T00:00:00+00:00",
                    "2022-06-20T00:00:00+00:00",
                    "2022-06-27T00:00:00+00:00",
                    "2022-07-04T00:00:00+00:00",
                    "2022-07-11T00:00:00+00:00",
                    "2022-07-18T00:00:00+00:00",
                    "2022-07-25T00:00:00+00:00",
                    "2022-08-01T00:00:00+00:00",
                    "2022-08-08T00:00:00+00:00",
                    "2022-08-15T00:00:00+00:00",
                    "2022-08-22T00:00:00+00:00",
                    "2022-08-29T00:00:00+00:00",
                    "2022-09-05T00:00:00+00:00",
                    "2022-09-12T00:00:00+00:00",
                    "2022-09-19T00:00:00+00:00",
                    "2022-09-26T00:00:00+00:00",
                    "2022-10-03T00:00:00+00:00",
                    "2022-10-10T00:00:00+00:00",
                    "2022-10-17T00:00:00+00:00",
                    "2022-10-24T00:00:00+00:00",
                    "2022-10-31T00:00:00+00:00",
                    "2022-11-07T00:00:00+00:00",
                    "2022-11-14T00:00:00+00:00",
                    "2022-11-21T00:00:00+00:00",
                    "2022-11-28T00:00:00+00:00",
                    "2022-12-05T00:00:00+00:00",
                    "2022-12-12T00:00:00+00:00",
                    "2022-12-19T00:00:00+00:00",
                    "2022-12-26T00:00:00+00:00",
                    "2023-01-02T00:00:00+00:00",
                    "2023-01-09T00:00:00+00:00",
                    "2023-01-16T00:00:00+00:00",
                    "2023-01-23T00:00:00+00:00",
                    "2023-01-30T00:00:00+00:00",
                    "2023-02-06T00:00:00+00:00",
                    "2023-02-13T00:00:00+00:00",
                    "2023-02-20T00:00:00+00:00",
                    "2023-02-27T00:00:00+00:00",
                    "2023-03-06T00:00:00+00:00",
                    "2023-03-13T00:00:00+00:00",
                    "2023-03-20T00:00:00+00:00",
                    "2023-03-27T00:00:00+00:00",
                    "2023-04-03T00:00:00+00:00",
                    "2023-04-10T00:00:00+00:00"
                  ],
                  "xaxis": "x",
                  "y": [
                    13943907,
                    14185190,
                    14131080,
                    14341719,
                    14954464,
                    14682339,
                    14787035,
                    14455908,
                    14408338,
                    13255852,
                    13695128,
                    13796811,
                    14295124,
                    14536944,
                    14600973,
                    14965582,
                    15355628,
                    15254139,
                    15671726,
                    15207938,
                    15293423,
                    15406794,
                    15199079,
                    15253758,
                    15266644,
                    15209893,
                    15292789,
                    15482210,
                    15682140,
                    16350797,
                    16431352,
                    16506324,
                    16506180,
                    16595081,
                    16208835,
                    16184488,
                    16416873,
                    16397845,
                    16454455,
                    16794616,
                    17025618,
                    17529855,
                    18130625,
                    18333711,
                    18320865,
                    18739168,
                    18701046,
                    18943927,
                    19014299,
                    19893609,
                    20130067,
                    20699759,
                    21565500,
                    21370651,
                    20950361,
                    21202663,
                    22036270,
                    23203394,
                    24252218,
                    23594475,
                    24289098,
                    24997039,
                    25101693,
                    24966316,
                    25408293,
                    25576959,
                    26024215,
                    25594061,
                    25915697,
                    25538152,
                    24483799,
                    23800581,
                    23599913,
                    23499043,
                    23868990,
                    23708123,
                    23789441,
                    23875187,
                    23666546,
                    23243883,
                    23755198,
                    24338213,
                    24745030,
                    25035479,
                    25175746,
                    25332456,
                    25669411,
                    25144729,
                    25048257,
                    24758297,
                    25066034,
                    25508839,
                    25940591,
                    25986882,
                    26087500,
                    26282031,
                    26582573,
                    26253885,
                    26456685,
                    25820933,
                    26126688,
                    25836227,
                    26347027,
                    25836091,
                    25406396,
                    25664711,
                    24989857,
                    25317364,
                    25699805,
                    25449484,
                    25157048,
                    25239076,
                    25354396,
                    25381414,
                    25863358,
                    26449358,
                    26547673,
                    26346648,
                    26204856,
                    26262683,
                    26217047,
                    25828047,
                    25517394,
                    25476083,
                    25428233,
                    25491747,
                    25046105,
                    24048287,
                    24356771,
                    23930393,
                    24447009,
                    24531310,
                    24960648,
                    25111171,
                    25132894,
                    25337398,
                    24827687,
                    24255136,
                    24321535,
                    24811494,
                    24272200,
                    24134717,
                    24155926,
                    24302759,
                    24337270,
                    24455069,
                    24859390,
                    24930857,
                    24040065,
                    24159634,
                    24079007,
                    24181577,
                    24062035,
                    24113906,
                    24186238,
                    24085339,
                    24223635,
                    25056737,
                    25435209,
                    25731607,
                    25709148,
                    25821128,
                    26086405,
                    25824388,
                    25799386,
                    25980333,
                    27302397,
                    27525919,
                    27421754,
                    27586041,
                    27750451
                  ],
                  "yaxis": "y"
                },
                {
                  "hovertemplate": "asset=ethereum<br>variable=addresses<br>timestamp=%{x}<br>value=%{y}<extra></extra>",
                  "legendgroup": "ethereum",
                  "line": {
                    "color": "#EF553B",
                    "dash": "solid"
                  },
                  "marker": {
                    "symbol": "circle"
                  },
                  "mode": "lines",
                  "name": "ethereum",
                  "orientation": "v",
                  "showlegend": true,
                  "type": "scatter",
                  "x": [
                    "2020-01-06T00:00:00+00:00",
                    "2020-01-13T00:00:00+00:00",
                    "2020-01-20T00:00:00+00:00",
                    "2020-01-27T00:00:00+00:00",
                    "2020-02-03T00:00:00+00:00",
                    "2020-02-10T00:00:00+00:00",
                    "2020-02-17T00:00:00+00:00",
                    "2020-02-24T00:00:00+00:00",
                    "2020-03-02T00:00:00+00:00",
                    "2020-03-09T00:00:00+00:00",
                    "2020-03-16T00:00:00+00:00",
                    "2020-03-23T00:00:00+00:00",
                    "2020-03-30T00:00:00+00:00",
                    "2020-04-06T00:00:00+00:00",
                    "2020-04-13T00:00:00+00:00",
                    "2020-04-20T00:00:00+00:00",
                    "2020-04-27T00:00:00+00:00",
                    "2020-05-04T00:00:00+00:00",
                    "2020-05-11T00:00:00+00:00",
                    "2020-05-18T00:00:00+00:00",
                    "2020-05-25T00:00:00+00:00",
                    "2020-06-01T00:00:00+00:00",
                    "2020-06-08T00:00:00+00:00",
                    "2020-06-15T00:00:00+00:00",
                    "2020-06-22T00:00:00+00:00",
                    "2020-06-29T00:00:00+00:00",
                    "2020-07-06T00:00:00+00:00",
                    "2020-07-13T00:00:00+00:00",
                    "2020-07-20T00:00:00+00:00",
                    "2020-07-27T00:00:00+00:00",
                    "2020-08-03T00:00:00+00:00",
                    "2020-08-10T00:00:00+00:00",
                    "2020-08-17T00:00:00+00:00",
                    "2020-08-24T00:00:00+00:00",
                    "2020-08-31T00:00:00+00:00",
                    "2020-09-07T00:00:00+00:00",
                    "2020-09-14T00:00:00+00:00",
                    "2020-09-21T00:00:00+00:00",
                    "2020-09-28T00:00:00+00:00",
                    "2020-10-05T00:00:00+00:00",
                    "2020-10-12T00:00:00+00:00",
                    "2020-10-19T00:00:00+00:00",
                    "2020-10-26T00:00:00+00:00",
                    "2020-11-02T00:00:00+00:00",
                    "2020-11-09T00:00:00+00:00",
                    "2020-11-16T00:00:00+00:00",
                    "2020-11-23T00:00:00+00:00",
                    "2020-11-30T00:00:00+00:00",
                    "2020-12-07T00:00:00+00:00",
                    "2020-12-14T00:00:00+00:00",
                    "2020-12-21T00:00:00+00:00",
                    "2020-12-28T00:00:00+00:00",
                    "2021-01-04T00:00:00+00:00",
                    "2021-01-11T00:00:00+00:00",
                    "2021-01-18T00:00:00+00:00",
                    "2021-01-25T00:00:00+00:00",
                    "2021-02-01T00:00:00+00:00",
                    "2021-02-08T00:00:00+00:00",
                    "2021-02-15T00:00:00+00:00",
                    "2021-02-22T00:00:00+00:00",
                    "2021-03-01T00:00:00+00:00",
                    "2021-03-08T00:00:00+00:00",
                    "2021-03-15T00:00:00+00:00",
                    "2021-03-22T00:00:00+00:00",
                    "2021-03-29T00:00:00+00:00",
                    "2021-04-05T00:00:00+00:00",
                    "2021-04-12T00:00:00+00:00",
                    "2021-04-19T00:00:00+00:00",
                    "2021-04-26T00:00:00+00:00",
                    "2021-05-03T00:00:00+00:00",
                    "2021-05-10T00:00:00+00:00",
                    "2021-05-17T00:00:00+00:00",
                    "2021-05-24T00:00:00+00:00",
                    "2021-05-31T00:00:00+00:00",
                    "2021-06-07T00:00:00+00:00",
                    "2021-06-14T00:00:00+00:00",
                    "2021-06-21T00:00:00+00:00",
                    "2021-06-28T00:00:00+00:00",
                    "2021-07-05T00:00:00+00:00",
                    "2021-07-12T00:00:00+00:00",
                    "2021-07-19T00:00:00+00:00",
                    "2021-07-26T00:00:00+00:00",
                    "2021-08-02T00:00:00+00:00",
                    "2021-08-09T00:00:00+00:00",
                    "2021-08-16T00:00:00+00:00",
                    "2021-08-23T00:00:00+00:00",
                    "2021-08-30T00:00:00+00:00",
                    "2021-09-06T00:00:00+00:00",
                    "2021-09-13T00:00:00+00:00",
                    "2021-09-20T00:00:00+00:00",
                    "2021-09-27T00:00:00+00:00",
                    "2021-10-04T00:00:00+00:00",
                    "2021-10-11T00:00:00+00:00",
                    "2021-10-18T00:00:00+00:00",
                    "2021-10-25T00:00:00+00:00",
                    "2021-11-01T00:00:00+00:00",
                    "2021-11-08T00:00:00+00:00",
                    "2021-11-15T00:00:00+00:00",
                    "2021-11-22T00:00:00+00:00",
                    "2021-11-29T00:00:00+00:00",
                    "2021-12-06T00:00:00+00:00",
                    "2021-12-13T00:00:00+00:00",
                    "2021-12-20T00:00:00+00:00",
                    "2021-12-27T00:00:00+00:00",
                    "2022-01-03T00:00:00+00:00",
                    "2022-01-10T00:00:00+00:00",
                    "2022-01-17T00:00:00+00:00",
                    "2022-01-24T00:00:00+00:00",
                    "2022-01-31T00:00:00+00:00",
                    "2022-02-07T00:00:00+00:00",
                    "2022-02-14T00:00:00+00:00",
                    "2022-02-21T00:00:00+00:00",
                    "2022-02-28T00:00:00+00:00",
                    "2022-03-07T00:00:00+00:00",
                    "2022-03-14T00:00:00+00:00",
                    "2022-03-21T00:00:00+00:00",
                    "2022-03-28T00:00:00+00:00",
                    "2022-04-04T00:00:00+00:00",
                    "2022-04-11T00:00:00+00:00",
                    "2022-04-18T00:00:00+00:00",
                    "2022-04-25T00:00:00+00:00",
                    "2022-05-02T00:00:00+00:00",
                    "2022-05-09T00:00:00+00:00",
                    "2022-05-16T00:00:00+00:00",
                    "2022-05-23T00:00:00+00:00",
                    "2022-05-30T00:00:00+00:00",
                    "2022-06-06T00:00:00+00:00",
                    "2022-06-13T00:00:00+00:00",
                    "2022-06-20T00:00:00+00:00",
                    "2022-06-27T00:00:00+00:00",
                    "2022-07-04T00:00:00+00:00",
                    "2022-07-11T00:00:00+00:00",
                    "2022-07-18T00:00:00+00:00",
                    "2022-07-25T00:00:00+00:00",
                    "2022-08-01T00:00:00+00:00",
                    "2022-08-08T00:00:00+00:00",
                    "2022-08-15T00:00:00+00:00",
                    "2022-08-22T00:00:00+00:00",
                    "2022-08-29T00:00:00+00:00",
                    "2022-09-05T00:00:00+00:00",
                    "2022-09-12T00:00:00+00:00",
                    "2022-09-19T00:00:00+00:00",
                    "2022-09-26T00:00:00+00:00",
                    "2022-10-03T00:00:00+00:00",
                    "2022-10-10T00:00:00+00:00",
                    "2022-10-17T00:00:00+00:00",
                    "2022-10-24T00:00:00+00:00",
                    "2022-10-31T00:00:00+00:00",
                    "2022-11-07T00:00:00+00:00",
                    "2022-11-14T00:00:00+00:00",
                    "2022-11-21T00:00:00+00:00",
                    "2022-11-28T00:00:00+00:00",
                    "2022-12-05T00:00:00+00:00",
                    "2022-12-12T00:00:00+00:00",
                    "2022-12-19T00:00:00+00:00",
                    "2022-12-26T00:00:00+00:00",
                    "2023-01-02T00:00:00+00:00",
                    "2023-01-09T00:00:00+00:00",
                    "2023-01-16T00:00:00+00:00",
                    "2023-01-23T00:00:00+00:00",
                    "2023-01-30T00:00:00+00:00",
                    "2023-02-06T00:00:00+00:00",
                    "2023-02-13T00:00:00+00:00",
                    "2023-02-20T00:00:00+00:00",
                    "2023-02-27T00:00:00+00:00",
                    "2023-03-06T00:00:00+00:00",
                    "2023-03-13T00:00:00+00:00",
                    "2023-03-20T00:00:00+00:00",
                    "2023-03-27T00:00:00+00:00",
                    "2023-04-03T00:00:00+00:00",
                    "2023-04-10T00:00:00+00:00"
                  ],
                  "xaxis": "x",
                  "y": [
                    3684390,
                    3807491,
                    3793858,
                    3936030,
                    4350675,
                    4553020,
                    4621654,
                    4321929,
                    4179286,
                    3460002,
                    3415515,
                    3385555,
                    3562636,
                    3713380,
                    3760549,
                    3872705,
                    4214843,
                    3924694,
                    4294450,
                    4274870,
                    4585982,
                    4702562,
                    4693484,
                    4732548,
                    4791776,
                    4814961,
                    4911318,
                    4971041,
                    5484185,
                    5939082,
                    6031101,
                    6379293,
                    6278595,
                    6522987,
                    6275767,
                    6390433,
                    6563170,
                    6499754,
                    6523558,
                    6695701,
                    6728870,
                    6932286,
                    6895488,
                    7170693,
                    7149971,
                    8049353,
                    8123694,
                    8319101,
                    8319064,
                    8625168,
                    8957842,
                    10661396,
                    12978436,
                    12946575,
                    13821879,
                    13690930,
                    15448725,
                    17856876,
                    18883210,
                    15562453,
                    17396247,
                    19177436,
                    18207659,
                    17558787,
                    21342993,
                    21906453,
                    22803694,
                    23364694,
                    25722033,
                    28627745,
                    28380078,
                    23334239,
                    24662286,
                    25589570,
                    24642475,
                    23382840,
                    21971908,
                    23737509,
                    23225289,
                    22161971,
                    23766777,
                    25075934,
                    26345645,
                    27123234,
                    27190736,
                    27404282,
                    29271411,
                    28311814,
                    28237436,
                    27889342,
                    28985676,
                    29276297,
                    30431428,
                    31104190,
                    32182252,
                    33439973,
                    33957700,
                    33618114,
                    34033136,
                    33914481,
                    34069311,
                    33939784,
                    34449364,
                    34287615,
                    32691151,
                    33572899,
                    31177749,
                    31723832,
                    33308493,
                    32755025,
                    32154996,
                    32236428,
                    32166255,
                    32047163,
                    33144100,
                    34313855,
                    35140787,
                    34461289,
                    34011967,
                    33762720,
                    33619141,
                    32775646,
                    31390217,
                    31049267,
                    29699194,
                    29747134,
                    27072821,
                    24722259,
                    25445589,
                    24407809,
                    25373282,
                    26327802,
                    27921027,
                    28224859,
                    27736303,
                    29911241,
                    27198205,
                    26197094,
                    26840827,
                    28068623,
                    25104050,
                    24790684,
                    24584039,
                    24853467,
                    24879070,
                    25283545,
                    26824218,
                    26762418,
                    24436907,
                    23758092,
                    24232944,
                    24959211,
                    24996231,
                    24650745,
                    24937768,
                    24824483,
                    25401671,
                    27380864,
                    27912641,
                    28060651,
                    28014799,
                    27393467,
                    28556427,
                    28428797,
                    28031862,
                    28293980,
                    30483978,
                    29934401,
                    30704935,
                    31351348,
                    31623918
                  ],
                  "yaxis": "y"
                },
                {
                  "hovertemplate": "asset=cardano<br>variable=addresses<br>timestamp=%{x}<br>value=%{y}<extra></extra>",
                  "legendgroup": "cardano",
                  "line": {
                    "color": "#00cc96",
                    "dash": "solid"
                  },
                  "marker": {
                    "symbol": "circle"
                  },
                  "mode": "lines",
                  "name": "cardano",
                  "orientation": "v",
                  "showlegend": true,
                  "type": "scatter",
                  "x": [
                    "2020-01-06T00:00:00+00:00",
                    "2020-01-13T00:00:00+00:00",
                    "2020-01-20T00:00:00+00:00",
                    "2020-01-27T00:00:00+00:00",
                    "2020-02-03T00:00:00+00:00",
                    "2020-02-10T00:00:00+00:00",
                    "2020-02-17T00:00:00+00:00",
                    "2020-02-24T00:00:00+00:00",
                    "2020-03-02T00:00:00+00:00",
                    "2020-03-09T00:00:00+00:00",
                    "2020-03-16T00:00:00+00:00",
                    "2020-03-23T00:00:00+00:00",
                    "2020-03-30T00:00:00+00:00",
                    "2020-04-06T00:00:00+00:00",
                    "2020-04-13T00:00:00+00:00",
                    "2020-04-20T00:00:00+00:00",
                    "2020-04-27T00:00:00+00:00",
                    "2020-05-04T00:00:00+00:00",
                    "2020-05-11T00:00:00+00:00",
                    "2020-05-18T00:00:00+00:00",
                    "2020-05-25T00:00:00+00:00",
                    "2020-06-01T00:00:00+00:00",
                    "2020-06-08T00:00:00+00:00",
                    "2020-06-15T00:00:00+00:00",
                    "2020-06-22T00:00:00+00:00",
                    "2020-06-29T00:00:00+00:00",
                    "2020-07-06T00:00:00+00:00",
                    "2020-07-13T00:00:00+00:00",
                    "2020-07-20T00:00:00+00:00",
                    "2020-07-27T00:00:00+00:00",
                    "2020-08-03T00:00:00+00:00",
                    "2020-08-10T00:00:00+00:00",
                    "2020-08-17T00:00:00+00:00",
                    "2020-08-24T00:00:00+00:00",
                    "2020-08-31T00:00:00+00:00",
                    "2020-09-07T00:00:00+00:00",
                    "2020-09-14T00:00:00+00:00",
                    "2020-09-21T00:00:00+00:00",
                    "2020-09-28T00:00:00+00:00",
                    "2020-10-05T00:00:00+00:00",
                    "2020-10-12T00:00:00+00:00",
                    "2020-10-19T00:00:00+00:00",
                    "2020-10-26T00:00:00+00:00",
                    "2020-11-02T00:00:00+00:00",
                    "2020-11-09T00:00:00+00:00",
                    "2020-11-16T00:00:00+00:00",
                    "2020-11-23T00:00:00+00:00",
                    "2020-11-30T00:00:00+00:00",
                    "2020-12-07T00:00:00+00:00",
                    "2020-12-14T00:00:00+00:00",
                    "2020-12-21T00:00:00+00:00",
                    "2020-12-28T00:00:00+00:00",
                    "2021-01-04T00:00:00+00:00",
                    "2021-01-11T00:00:00+00:00",
                    "2021-01-18T00:00:00+00:00",
                    "2021-01-25T00:00:00+00:00",
                    "2021-02-01T00:00:00+00:00",
                    "2021-02-08T00:00:00+00:00",
                    "2021-02-15T00:00:00+00:00",
                    "2021-02-22T00:00:00+00:00",
                    "2021-03-01T00:00:00+00:00",
                    "2021-03-08T00:00:00+00:00",
                    "2021-03-15T00:00:00+00:00",
                    "2021-03-22T00:00:00+00:00",
                    "2021-03-29T00:00:00+00:00",
                    "2021-04-05T00:00:00+00:00",
                    "2021-04-12T00:00:00+00:00",
                    "2021-04-19T00:00:00+00:00",
                    "2021-04-26T00:00:00+00:00",
                    "2021-05-03T00:00:00+00:00",
                    "2021-05-10T00:00:00+00:00",
                    "2021-05-17T00:00:00+00:00",
                    "2021-05-24T00:00:00+00:00",
                    "2021-05-31T00:00:00+00:00",
                    "2021-06-07T00:00:00+00:00",
                    "2021-06-14T00:00:00+00:00",
                    "2021-06-21T00:00:00+00:00",
                    "2021-06-28T00:00:00+00:00",
                    "2021-07-05T00:00:00+00:00",
                    "2021-07-12T00:00:00+00:00",
                    "2021-07-19T00:00:00+00:00",
                    "2021-07-26T00:00:00+00:00",
                    "2021-08-02T00:00:00+00:00",
                    "2021-08-09T00:00:00+00:00",
                    "2021-08-16T00:00:00+00:00",
                    "2021-08-23T00:00:00+00:00",
                    "2021-08-30T00:00:00+00:00",
                    "2021-09-06T00:00:00+00:00",
                    "2021-09-13T00:00:00+00:00",
                    "2021-09-20T00:00:00+00:00",
                    "2021-09-27T00:00:00+00:00",
                    "2021-10-04T00:00:00+00:00",
                    "2021-10-11T00:00:00+00:00",
                    "2021-10-18T00:00:00+00:00",
                    "2021-10-25T00:00:00+00:00",
                    "2021-11-01T00:00:00+00:00",
                    "2021-11-08T00:00:00+00:00",
                    "2021-11-15T00:00:00+00:00",
                    "2021-11-22T00:00:00+00:00",
                    "2021-11-29T00:00:00+00:00",
                    "2021-12-06T00:00:00+00:00",
                    "2021-12-13T00:00:00+00:00",
                    "2021-12-20T00:00:00+00:00",
                    "2021-12-27T00:00:00+00:00",
                    "2022-01-03T00:00:00+00:00",
                    "2022-01-10T00:00:00+00:00",
                    "2022-01-17T00:00:00+00:00",
                    "2022-01-24T00:00:00+00:00",
                    "2022-01-31T00:00:00+00:00",
                    "2022-02-07T00:00:00+00:00",
                    "2022-02-14T00:00:00+00:00",
                    "2022-02-21T00:00:00+00:00",
                    "2022-02-28T00:00:00+00:00",
                    "2022-03-07T00:00:00+00:00",
                    "2022-03-14T00:00:00+00:00",
                    "2022-03-21T00:00:00+00:00",
                    "2022-03-28T00:00:00+00:00",
                    "2022-04-04T00:00:00+00:00",
                    "2022-04-11T00:00:00+00:00",
                    "2022-04-18T00:00:00+00:00",
                    "2022-04-25T00:00:00+00:00",
                    "2022-05-02T00:00:00+00:00",
                    "2022-05-09T00:00:00+00:00",
                    "2022-05-16T00:00:00+00:00",
                    "2022-05-23T00:00:00+00:00",
                    "2022-05-30T00:00:00+00:00",
                    "2022-06-06T00:00:00+00:00",
                    "2022-06-13T00:00:00+00:00",
                    "2022-06-20T00:00:00+00:00",
                    "2022-06-27T00:00:00+00:00",
                    "2022-07-04T00:00:00+00:00",
                    "2022-07-11T00:00:00+00:00",
                    "2022-07-18T00:00:00+00:00",
                    "2022-07-25T00:00:00+00:00",
                    "2022-08-01T00:00:00+00:00",
                    "2022-08-08T00:00:00+00:00",
                    "2022-08-15T00:00:00+00:00",
                    "2022-08-22T00:00:00+00:00",
                    "2022-08-29T00:00:00+00:00",
                    "2022-09-05T00:00:00+00:00",
                    "2022-09-12T00:00:00+00:00",
                    "2022-09-19T00:00:00+00:00",
                    "2022-09-26T00:00:00+00:00",
                    "2022-10-03T00:00:00+00:00",
                    "2022-10-10T00:00:00+00:00",
                    "2022-10-17T00:00:00+00:00",
                    "2022-10-24T00:00:00+00:00",
                    "2022-10-31T00:00:00+00:00",
                    "2022-11-07T00:00:00+00:00",
                    "2022-11-14T00:00:00+00:00",
                    "2022-11-21T00:00:00+00:00",
                    "2022-11-28T00:00:00+00:00",
                    "2022-12-05T00:00:00+00:00",
                    "2022-12-12T00:00:00+00:00",
                    "2022-12-19T00:00:00+00:00",
                    "2022-12-26T00:00:00+00:00",
                    "2023-01-02T00:00:00+00:00",
                    "2023-01-09T00:00:00+00:00",
                    "2023-01-16T00:00:00+00:00",
                    "2023-01-23T00:00:00+00:00",
                    "2023-01-30T00:00:00+00:00",
                    "2023-02-06T00:00:00+00:00",
                    "2023-02-13T00:00:00+00:00",
                    "2023-02-20T00:00:00+00:00",
                    "2023-02-27T00:00:00+00:00",
                    "2023-03-06T00:00:00+00:00",
                    "2023-03-13T00:00:00+00:00",
                    "2023-03-20T00:00:00+00:00",
                    "2023-03-27T00:00:00+00:00",
                    "2023-04-03T00:00:00+00:00",
                    "2023-04-10T00:00:00+00:00"
                  ],
                  "xaxis": "x",
                  "y": [
                    223821,
                    225600,
                    226933,
                    231906,
                    234076,
                    234070,
                    234161,
                    227572,
                    226944,
                    215240,
                    215333,
                    217739,
                    220758,
                    223312,
                    225058,
                    232277,
                    234983,
                    235733,
                    240419,
                    242510,
                    250408,
                    255981,
                    257289,
                    260370,
                    263590,
                    270620,
                    285279,
                    290221,
                    297016,
                    321245,
                    336275,
                    343854,
                    348698,
                    352862,
                    343763,
                    348216,
                    350012,
                    362402,
                    358339,
                    372635,
                    376201,
                    377661,
                    368802,
                    381214,
                    378566,
                    392927,
                    399386,
                    408946,
                    413831,
                    420502,
                    427917,
                    446609,
                    482029,
                    510116,
                    530289,
                    551804,
                    609127,
                    681435,
                    787583,
                    854779,
                    883335,
                    929705,
                    985030,
                    1021799,
                    1074541,
                    1096048,
                    1144919,
                    1189236,
                    1247912,
                    1314606,
                    1395391,
                    1430643,
                    1503600,
                    1557686,
                    1593009,
                    1613659,
                    1635347,
                    1675316,
                    1703657,
                    1714727,
                    1747203,
                    1683106,
                    1729666,
                    1787753,
                    1784649,
                    1853151,
                    1904844,
                    1929083,
                    1996030,
                    2034391,
                    2061449,
                    2094261,
                    2124051,
                    2156258,
                    2173790,
                    2164226,
                    2198879,
                    2208071,
                    2214773,
                    2212549,
                    2239808,
                    2247968,
                    2295454,
                    2299905,
                    2280623,
                    2368236,
                    2374934,
                    2385655,
                    2443223,
                    2410932,
                    2359799,
                    2350163,
                    2356705,
                    2361184,
                    2405624,
                    2540429,
                    2564920,
                    2515975,
                    2436295,
                    2438018,
                    2442429,
                    null,
                    2296495,
                    2272713,
                    2231747,
                    2293571,
                    2249240,
                    2246967,
                    2265820,
                    2268921,
                    2287371,
                    2282291,
                    2346098,
                    2357363,
                    2375782,
                    2411753,
                    2343925,
                    2326404,
                    2384940,
                    2403457,
                    2361404,
                    2371077,
                    2361203,
                    2374453,
                    2341532,
                    2346813,
                    2394182,
                    2404509,
                    2367068,
                    2409090,
                    2437567,
                    2464644,
                    2465071,
                    2461408,
                    2474476,
                    2473810,
                    2553344,
                    2626185,
                    2659048,
                    2680346,
                    2662599,
                    2643412,
                    2680673,
                    2658790,
                    2636139,
                    2637339,
                    2666284,
                    2674625,
                    2708556,
                    2724669,
                    2731254
                  ],
                  "yaxis": "y"
                },
                {
                  "hovertemplate": "asset=polkadot<br>variable=addresses<br>timestamp=%{x}<br>value=%{y}<extra></extra>",
                  "legendgroup": "polkadot",
                  "line": {
                    "color": "#ab63fa",
                    "dash": "solid"
                  },
                  "marker": {
                    "symbol": "circle"
                  },
                  "mode": "lines",
                  "name": "polkadot",
                  "orientation": "v",
                  "showlegend": true,
                  "type": "scatter",
                  "x": [
                    "2020-08-17T00:00:00+00:00",
                    "2020-08-24T00:00:00+00:00",
                    "2020-08-31T00:00:00+00:00",
                    "2020-09-07T00:00:00+00:00",
                    "2020-09-14T00:00:00+00:00",
                    "2020-09-21T00:00:00+00:00",
                    "2020-09-28T00:00:00+00:00",
                    "2020-10-05T00:00:00+00:00",
                    "2020-10-12T00:00:00+00:00",
                    "2020-10-19T00:00:00+00:00",
                    "2020-10-26T00:00:00+00:00",
                    "2020-11-02T00:00:00+00:00",
                    "2020-11-09T00:00:00+00:00",
                    "2020-11-16T00:00:00+00:00",
                    "2020-11-23T00:00:00+00:00",
                    "2020-11-30T00:00:00+00:00",
                    "2020-12-07T00:00:00+00:00",
                    "2020-12-14T00:00:00+00:00",
                    "2020-12-21T00:00:00+00:00",
                    "2020-12-28T00:00:00+00:00",
                    "2021-01-04T00:00:00+00:00",
                    "2021-01-11T00:00:00+00:00",
                    "2021-01-18T00:00:00+00:00",
                    "2021-01-25T00:00:00+00:00",
                    "2021-02-01T00:00:00+00:00",
                    "2021-02-08T00:00:00+00:00",
                    "2021-02-15T00:00:00+00:00",
                    "2021-02-22T00:00:00+00:00",
                    "2021-03-01T00:00:00+00:00",
                    "2021-03-08T00:00:00+00:00",
                    "2021-03-15T00:00:00+00:00",
                    "2021-03-22T00:00:00+00:00",
                    "2021-03-29T00:00:00+00:00",
                    "2021-04-05T00:00:00+00:00",
                    "2021-04-12T00:00:00+00:00",
                    "2021-04-19T00:00:00+00:00",
                    "2021-04-26T00:00:00+00:00",
                    "2021-05-03T00:00:00+00:00",
                    "2021-05-10T00:00:00+00:00",
                    "2021-05-17T00:00:00+00:00",
                    "2021-05-24T00:00:00+00:00",
                    "2021-05-31T00:00:00+00:00",
                    "2021-06-07T00:00:00+00:00",
                    "2021-06-14T00:00:00+00:00",
                    "2021-06-21T00:00:00+00:00",
                    "2021-06-28T00:00:00+00:00",
                    "2021-07-05T00:00:00+00:00",
                    "2021-07-12T00:00:00+00:00",
                    "2021-07-19T00:00:00+00:00",
                    "2021-07-26T00:00:00+00:00",
                    "2021-08-02T00:00:00+00:00",
                    "2021-08-09T00:00:00+00:00",
                    "2021-08-16T00:00:00+00:00",
                    "2021-08-23T00:00:00+00:00",
                    "2021-08-30T00:00:00+00:00",
                    "2021-09-06T00:00:00+00:00",
                    "2021-09-13T00:00:00+00:00",
                    "2021-09-20T00:00:00+00:00",
                    "2021-09-27T00:00:00+00:00",
                    "2021-10-04T00:00:00+00:00",
                    "2021-10-11T00:00:00+00:00",
                    "2021-10-18T00:00:00+00:00",
                    "2021-10-25T00:00:00+00:00",
                    "2021-11-01T00:00:00+00:00",
                    "2021-11-08T00:00:00+00:00",
                    "2021-11-15T00:00:00+00:00",
                    "2021-11-22T00:00:00+00:00",
                    "2021-11-29T00:00:00+00:00",
                    "2021-12-06T00:00:00+00:00",
                    "2021-12-13T00:00:00+00:00",
                    "2021-12-20T00:00:00+00:00",
                    "2021-12-27T00:00:00+00:00",
                    "2022-01-03T00:00:00+00:00",
                    "2022-01-10T00:00:00+00:00",
                    "2022-01-17T00:00:00+00:00",
                    "2022-01-24T00:00:00+00:00",
                    "2022-01-31T00:00:00+00:00",
                    "2022-02-07T00:00:00+00:00",
                    "2022-02-14T00:00:00+00:00",
                    "2022-02-21T00:00:00+00:00",
                    "2022-02-28T00:00:00+00:00",
                    "2022-03-07T00:00:00+00:00",
                    "2022-03-14T00:00:00+00:00",
                    "2022-03-21T00:00:00+00:00",
                    "2022-03-28T00:00:00+00:00",
                    "2022-04-04T00:00:00+00:00",
                    "2022-04-11T00:00:00+00:00",
                    "2022-04-18T00:00:00+00:00",
                    "2022-04-25T00:00:00+00:00",
                    "2022-05-02T00:00:00+00:00",
                    "2022-05-09T00:00:00+00:00",
                    "2022-05-16T00:00:00+00:00",
                    "2022-05-23T00:00:00+00:00",
                    "2022-05-30T00:00:00+00:00",
                    "2022-06-06T00:00:00+00:00",
                    "2022-06-13T00:00:00+00:00",
                    "2022-06-20T00:00:00+00:00",
                    "2022-06-27T00:00:00+00:00",
                    "2022-07-04T00:00:00+00:00",
                    "2022-07-11T00:00:00+00:00",
                    "2022-07-18T00:00:00+00:00",
                    "2022-07-25T00:00:00+00:00",
                    "2022-08-01T00:00:00+00:00",
                    "2022-08-08T00:00:00+00:00",
                    "2022-08-15T00:00:00+00:00",
                    "2022-08-22T00:00:00+00:00",
                    "2022-08-29T00:00:00+00:00",
                    "2022-09-05T00:00:00+00:00",
                    "2022-09-12T00:00:00+00:00",
                    "2022-09-19T00:00:00+00:00",
                    "2022-09-26T00:00:00+00:00",
                    "2022-10-03T00:00:00+00:00",
                    "2022-10-10T00:00:00+00:00",
                    "2022-10-17T00:00:00+00:00",
                    "2022-10-24T00:00:00+00:00",
                    "2022-10-31T00:00:00+00:00",
                    "2022-11-07T00:00:00+00:00",
                    "2022-11-14T00:00:00+00:00",
                    "2022-11-21T00:00:00+00:00",
                    "2022-11-28T00:00:00+00:00",
                    "2022-12-05T00:00:00+00:00",
                    "2022-12-12T00:00:00+00:00",
                    "2022-12-19T00:00:00+00:00",
                    "2022-12-26T00:00:00+00:00",
                    "2023-01-02T00:00:00+00:00",
                    "2023-01-09T00:00:00+00:00",
                    "2023-01-16T00:00:00+00:00",
                    "2023-01-23T00:00:00+00:00",
                    "2023-01-30T00:00:00+00:00",
                    "2023-02-06T00:00:00+00:00",
                    "2023-02-13T00:00:00+00:00",
                    "2023-02-20T00:00:00+00:00",
                    "2023-02-27T00:00:00+00:00",
                    "2023-03-06T00:00:00+00:00",
                    "2023-03-13T00:00:00+00:00",
                    "2023-03-20T00:00:00+00:00",
                    "2023-03-27T00:00:00+00:00",
                    "2023-04-03T00:00:00+00:00",
                    "2023-04-10T00:00:00+00:00",
                    "2020-05-25T00:00:00+00:00",
                    "2020-06-01T00:00:00+00:00",
                    "2020-06-08T00:00:00+00:00",
                    "2020-06-15T00:00:00+00:00",
                    "2020-06-22T00:00:00+00:00",
                    "2020-06-29T00:00:00+00:00",
                    "2020-07-06T00:00:00+00:00",
                    "2020-07-13T00:00:00+00:00",
                    "2020-07-20T00:00:00+00:00",
                    "2020-07-27T00:00:00+00:00",
                    "2020-08-03T00:00:00+00:00",
                    "2020-08-10T00:00:00+00:00"
                  ],
                  "xaxis": "x",
                  "y": [
                    8144,
                    13824,
                    15111,
                    19422,
                    19875,
                    21780,
                    23438,
                    24628,
                    26319,
                    27232,
                    28374,
                    30474,
                    31767,
                    36324,
                    37426,
                    38987,
                    38766,
                    43481,
                    47458,
                    66789,
                    66854,
                    85309,
                    95646,
                    102608,
                    119086,
                    138183,
                    160918,
                    175723,
                    191660,
                    206750,
                    216271,
                    226098,
                    237925,
                    250897,
                    268622,
                    284285,
                    294672,
                    306912,
                    321815,
                    338934,
                    347370,
                    356315,
                    364188,
                    371589,
                    380354,
                    385896,
                    392361,
                    400379,
                    408068,
                    418912,
                    430263,
                    438742,
                    448910,
                    457554,
                    473441,
                    484956,
                    494982,
                    508534,
                    520346,
                    531374,
                    566699,
                    599741,
                    619209,
                    634535,
                    null,
                    735165,
                    749744,
                    772070,
                    789466,
                    804652,
                    817941,
                    833716,
                    847225,
                    861055,
                    874810,
                    886779,
                    890404,
                    893973,
                    900043,
                    909026,
                    920391,
                    930284,
                    936281,
                    942191,
                    948386,
                    950718,
                    954913,
                    961982,
                    967230,
                    967581,
                    966661,
                    967461,
                    902543,
                    972979,
                    null,
                    null,
                    null,
                    null,
                    null,
                    null,
                    null,
                    null,
                    null,
                    null,
                    null,
                    null,
                    null,
                    null,
                    null,
                    null,
                    null,
                    null,
                    null,
                    null,
                    null,
                    null,
                    null,
                    null,
                    null,
                    null,
                    null,
                    null,
                    null,
                    null,
                    null,
                    null,
                    null,
                    null,
                    null,
                    null,
                    null,
                    null,
                    null,
                    null,
                    null,
                    null,
                    null,
                    null,
                    null,
                    0,
                    0,
                    0,
                    0,
                    0,
                    0,
                    0,
                    0,
                    0,
                    0,
                    0,
                    0
                  ],
                  "yaxis": "y"
                },
                {
                  "hovertemplate": "asset=solana<br>variable=addresses<br>timestamp=%{x}<br>value=%{y}<extra></extra>",
                  "legendgroup": "solana",
                  "line": {
                    "color": "#FFA15A",
                    "dash": "solid"
                  },
                  "marker": {
                    "symbol": "circle"
                  },
                  "mode": "lines",
                  "name": "solana",
                  "orientation": "v",
                  "showlegend": true,
                  "type": "scatter",
                  "x": [
                    "2020-04-06T00:00:00+00:00",
                    "2020-04-13T00:00:00+00:00",
                    "2020-04-20T00:00:00+00:00",
                    "2020-04-27T00:00:00+00:00",
                    "2020-05-04T00:00:00+00:00",
                    "2020-05-11T00:00:00+00:00",
                    "2020-05-18T00:00:00+00:00",
                    "2020-05-25T00:00:00+00:00",
                    "2020-06-01T00:00:00+00:00",
                    "2020-06-08T00:00:00+00:00",
                    "2020-06-15T00:00:00+00:00",
                    "2020-06-22T00:00:00+00:00",
                    "2020-06-29T00:00:00+00:00",
                    "2020-07-06T00:00:00+00:00",
                    "2020-07-13T00:00:00+00:00",
                    "2020-07-20T00:00:00+00:00",
                    "2020-07-27T00:00:00+00:00",
                    "2020-08-03T00:00:00+00:00",
                    "2020-08-10T00:00:00+00:00",
                    "2020-08-17T00:00:00+00:00",
                    "2020-08-24T00:00:00+00:00",
                    "2020-08-31T00:00:00+00:00",
                    "2020-09-07T00:00:00+00:00",
                    "2020-09-14T00:00:00+00:00",
                    "2020-09-21T00:00:00+00:00",
                    "2020-09-28T00:00:00+00:00",
                    "2020-10-05T00:00:00+00:00",
                    "2020-10-12T00:00:00+00:00",
                    "2020-10-19T00:00:00+00:00",
                    "2020-10-26T00:00:00+00:00",
                    "2020-11-02T00:00:00+00:00",
                    "2020-11-09T00:00:00+00:00",
                    "2020-11-16T00:00:00+00:00",
                    "2020-11-23T00:00:00+00:00",
                    "2020-11-30T00:00:00+00:00",
                    "2020-12-07T00:00:00+00:00",
                    "2020-12-14T00:00:00+00:00",
                    "2020-12-21T00:00:00+00:00",
                    "2020-12-28T00:00:00+00:00",
                    "2021-01-04T00:00:00+00:00",
                    "2021-01-11T00:00:00+00:00",
                    "2021-01-18T00:00:00+00:00",
                    "2021-01-25T00:00:00+00:00",
                    "2021-02-01T00:00:00+00:00",
                    "2021-02-08T00:00:00+00:00",
                    "2021-02-15T00:00:00+00:00",
                    "2021-02-22T00:00:00+00:00",
                    "2021-03-01T00:00:00+00:00",
                    "2021-03-08T00:00:00+00:00",
                    "2021-03-15T00:00:00+00:00",
                    "2021-03-22T00:00:00+00:00",
                    "2021-03-29T00:00:00+00:00",
                    "2021-04-05T00:00:00+00:00",
                    "2021-04-12T00:00:00+00:00",
                    "2021-04-19T00:00:00+00:00",
                    "2021-04-26T00:00:00+00:00",
                    "2021-05-03T00:00:00+00:00",
                    "2021-05-10T00:00:00+00:00",
                    "2021-05-17T00:00:00+00:00",
                    "2021-05-24T00:00:00+00:00",
                    "2021-05-31T00:00:00+00:00",
                    "2021-06-07T00:00:00+00:00",
                    "2021-06-14T00:00:00+00:00",
                    "2021-06-21T00:00:00+00:00",
                    "2021-06-28T00:00:00+00:00",
                    "2021-07-05T00:00:00+00:00",
                    "2021-07-12T00:00:00+00:00",
                    "2021-07-19T00:00:00+00:00",
                    "2021-07-26T00:00:00+00:00",
                    "2021-08-02T00:00:00+00:00",
                    "2021-08-09T00:00:00+00:00",
                    "2021-08-16T00:00:00+00:00",
                    "2021-08-23T00:00:00+00:00",
                    "2021-08-30T00:00:00+00:00",
                    "2021-09-06T00:00:00+00:00",
                    "2021-09-13T00:00:00+00:00",
                    "2021-09-20T00:00:00+00:00",
                    "2021-09-27T00:00:00+00:00",
                    "2021-10-04T00:00:00+00:00",
                    "2021-10-11T00:00:00+00:00",
                    "2021-10-18T00:00:00+00:00",
                    "2021-10-25T00:00:00+00:00",
                    "2021-11-01T00:00:00+00:00",
                    "2021-11-08T00:00:00+00:00",
                    "2021-11-15T00:00:00+00:00",
                    "2021-11-22T00:00:00+00:00",
                    "2021-11-29T00:00:00+00:00",
                    "2021-12-06T00:00:00+00:00",
                    "2021-12-13T00:00:00+00:00",
                    "2021-12-20T00:00:00+00:00",
                    "2021-12-27T00:00:00+00:00",
                    "2022-01-03T00:00:00+00:00",
                    "2022-01-10T00:00:00+00:00",
                    "2022-01-17T00:00:00+00:00",
                    "2022-01-24T00:00:00+00:00",
                    "2022-01-31T00:00:00+00:00",
                    "2022-02-07T00:00:00+00:00",
                    "2022-02-14T00:00:00+00:00",
                    "2022-02-21T00:00:00+00:00",
                    "2022-02-28T00:00:00+00:00",
                    "2022-03-07T00:00:00+00:00",
                    "2022-03-14T00:00:00+00:00",
                    "2022-03-21T00:00:00+00:00",
                    "2022-03-28T00:00:00+00:00",
                    "2022-04-04T00:00:00+00:00",
                    "2022-04-11T00:00:00+00:00",
                    "2022-04-18T00:00:00+00:00",
                    "2022-04-25T00:00:00+00:00",
                    "2022-05-02T00:00:00+00:00",
                    "2022-05-09T00:00:00+00:00",
                    "2022-05-16T00:00:00+00:00",
                    "2022-05-23T00:00:00+00:00",
                    "2022-05-30T00:00:00+00:00",
                    "2022-06-06T00:00:00+00:00",
                    "2022-06-13T00:00:00+00:00",
                    "2022-06-20T00:00:00+00:00",
                    "2022-06-27T00:00:00+00:00",
                    "2022-07-04T00:00:00+00:00",
                    "2022-07-11T00:00:00+00:00",
                    "2022-07-18T00:00:00+00:00",
                    "2022-07-25T00:00:00+00:00",
                    "2022-08-01T00:00:00+00:00",
                    "2022-08-08T00:00:00+00:00",
                    "2022-08-15T00:00:00+00:00",
                    "2022-08-22T00:00:00+00:00",
                    "2022-08-29T00:00:00+00:00",
                    "2022-09-05T00:00:00+00:00",
                    "2022-09-12T00:00:00+00:00",
                    "2022-09-19T00:00:00+00:00",
                    "2022-09-26T00:00:00+00:00",
                    "2022-10-03T00:00:00+00:00",
                    "2022-10-10T00:00:00+00:00",
                    "2022-10-17T00:00:00+00:00",
                    "2022-10-24T00:00:00+00:00",
                    "2022-10-31T00:00:00+00:00",
                    "2022-11-07T00:00:00+00:00",
                    "2022-11-14T00:00:00+00:00",
                    "2022-11-21T00:00:00+00:00",
                    "2022-11-28T00:00:00+00:00",
                    "2022-12-05T00:00:00+00:00",
                    "2022-12-12T00:00:00+00:00",
                    "2022-12-19T00:00:00+00:00",
                    "2022-12-26T00:00:00+00:00",
                    "2023-01-02T00:00:00+00:00",
                    "2023-01-09T00:00:00+00:00",
                    "2023-01-16T00:00:00+00:00",
                    "2023-01-23T00:00:00+00:00",
                    "2023-01-30T00:00:00+00:00",
                    "2023-02-06T00:00:00+00:00",
                    "2023-02-13T00:00:00+00:00",
                    "2023-02-20T00:00:00+00:00",
                    "2023-02-27T00:00:00+00:00",
                    "2023-03-06T00:00:00+00:00",
                    "2023-03-13T00:00:00+00:00",
                    "2023-03-20T00:00:00+00:00",
                    "2023-03-27T00:00:00+00:00",
                    "2023-04-03T00:00:00+00:00",
                    "2023-04-10T00:00:00+00:00"
                  ],
                  "xaxis": "x",
                  "y": [
                    null,
                    null,
                    null,
                    null,
                    null,
                    null,
                    null,
                    null,
                    null,
                    null,
                    null,
                    null,
                    null,
                    null,
                    null,
                    null,
                    null,
                    null,
                    null,
                    null,
                    null,
                    null,
                    null,
                    null,
                    null,
                    null,
                    null,
                    null,
                    null,
                    null,
                    null,
                    null,
                    null,
                    null,
                    null,
                    null,
                    null,
                    null,
                    null,
                    null,
                    null,
                    null,
                    null,
                    null,
                    null,
                    null,
                    null,
                    null,
                    null,
                    null,
                    null,
                    null,
                    null,
                    null,
                    null,
                    null,
                    null,
                    null,
                    null,
                    null,
                    null,
                    null,
                    null,
                    null,
                    null,
                    null,
                    null,
                    null,
                    null,
                    null,
                    null,
                    null,
                    null,
                    null,
                    null,
                    null,
                    null,
                    null,
                    null,
                    null,
                    null,
                    null,
                    null,
                    null,
                    null,
                    null,
                    null,
                    null,
                    null,
                    null,
                    null,
                    null,
                    null,
                    null,
                    null,
                    null,
                    null,
                    null,
                    null,
                    null,
                    null,
                    null,
                    null,
                    null,
                    null,
                    null,
                    null,
                    null,
                    null,
                    null,
                    null,
                    null,
                    null,
                    null,
                    null,
                    null,
                    null,
                    null,
                    null,
                    null,
                    null,
                    null,
                    null,
                    null,
                    null,
                    null,
                    null,
                    null,
                    null,
                    null,
                    null,
                    null,
                    null,
                    null,
                    null,
                    null,
                    null,
                    null,
                    null,
                    null,
                    null,
                    null,
                    null,
                    null,
                    null,
                    null,
                    null,
                    null,
                    null,
                    null,
                    null,
                    null,
                    null,
                    null,
                    null,
                    null,
                    null,
                    null
                  ],
                  "yaxis": "y"
                }
              ],
              "layout": {
                "height": 500,
                "legend": {
                  "title": {
                    "text": "asset"
                  },
                  "tracegroupgap": 0
                },
                "margin": {
                  "t": 60
                },
                "template": {
                  "data": {
                    "bar": [
                      {
                        "error_x": {
                          "color": "#2a3f5f"
                        },
                        "error_y": {
                          "color": "#2a3f5f"
                        },
                        "marker": {
                          "line": {
                            "color": "#E5ECF6",
                            "width": 0.5
                          },
                          "pattern": {
                            "fillmode": "overlay",
                            "size": 10,
                            "solidity": 0.2
                          }
                        },
                        "type": "bar"
                      }
                    ],
                    "barpolar": [
                      {
                        "marker": {
                          "line": {
                            "color": "#E5ECF6",
                            "width": 0.5
                          },
                          "pattern": {
                            "fillmode": "overlay",
                            "size": 10,
                            "solidity": 0.2
                          }
                        },
                        "type": "barpolar"
                      }
                    ],
                    "carpet": [
                      {
                        "aaxis": {
                          "endlinecolor": "#2a3f5f",
                          "gridcolor": "white",
                          "linecolor": "white",
                          "minorgridcolor": "white",
                          "startlinecolor": "#2a3f5f"
                        },
                        "baxis": {
                          "endlinecolor": "#2a3f5f",
                          "gridcolor": "white",
                          "linecolor": "white",
                          "minorgridcolor": "white",
                          "startlinecolor": "#2a3f5f"
                        },
                        "type": "carpet"
                      }
                    ],
                    "choropleth": [
                      {
                        "colorbar": {
                          "outlinewidth": 0,
                          "ticks": ""
                        },
                        "type": "choropleth"
                      }
                    ],
                    "contour": [
                      {
                        "colorbar": {
                          "outlinewidth": 0,
                          "ticks": ""
                        },
                        "colorscale": [
                          [
                            0,
                            "#0d0887"
                          ],
                          [
                            0.1111111111111111,
                            "#46039f"
                          ],
                          [
                            0.2222222222222222,
                            "#7201a8"
                          ],
                          [
                            0.3333333333333333,
                            "#9c179e"
                          ],
                          [
                            0.4444444444444444,
                            "#bd3786"
                          ],
                          [
                            0.5555555555555556,
                            "#d8576b"
                          ],
                          [
                            0.6666666666666666,
                            "#ed7953"
                          ],
                          [
                            0.7777777777777778,
                            "#fb9f3a"
                          ],
                          [
                            0.8888888888888888,
                            "#fdca26"
                          ],
                          [
                            1,
                            "#f0f921"
                          ]
                        ],
                        "type": "contour"
                      }
                    ],
                    "contourcarpet": [
                      {
                        "colorbar": {
                          "outlinewidth": 0,
                          "ticks": ""
                        },
                        "type": "contourcarpet"
                      }
                    ],
                    "heatmap": [
                      {
                        "colorbar": {
                          "outlinewidth": 0,
                          "ticks": ""
                        },
                        "colorscale": [
                          [
                            0,
                            "#0d0887"
                          ],
                          [
                            0.1111111111111111,
                            "#46039f"
                          ],
                          [
                            0.2222222222222222,
                            "#7201a8"
                          ],
                          [
                            0.3333333333333333,
                            "#9c179e"
                          ],
                          [
                            0.4444444444444444,
                            "#bd3786"
                          ],
                          [
                            0.5555555555555556,
                            "#d8576b"
                          ],
                          [
                            0.6666666666666666,
                            "#ed7953"
                          ],
                          [
                            0.7777777777777778,
                            "#fb9f3a"
                          ],
                          [
                            0.8888888888888888,
                            "#fdca26"
                          ],
                          [
                            1,
                            "#f0f921"
                          ]
                        ],
                        "type": "heatmap"
                      }
                    ],
                    "heatmapgl": [
                      {
                        "colorbar": {
                          "outlinewidth": 0,
                          "ticks": ""
                        },
                        "colorscale": [
                          [
                            0,
                            "#0d0887"
                          ],
                          [
                            0.1111111111111111,
                            "#46039f"
                          ],
                          [
                            0.2222222222222222,
                            "#7201a8"
                          ],
                          [
                            0.3333333333333333,
                            "#9c179e"
                          ],
                          [
                            0.4444444444444444,
                            "#bd3786"
                          ],
                          [
                            0.5555555555555556,
                            "#d8576b"
                          ],
                          [
                            0.6666666666666666,
                            "#ed7953"
                          ],
                          [
                            0.7777777777777778,
                            "#fb9f3a"
                          ],
                          [
                            0.8888888888888888,
                            "#fdca26"
                          ],
                          [
                            1,
                            "#f0f921"
                          ]
                        ],
                        "type": "heatmapgl"
                      }
                    ],
                    "histogram": [
                      {
                        "marker": {
                          "pattern": {
                            "fillmode": "overlay",
                            "size": 10,
                            "solidity": 0.2
                          }
                        },
                        "type": "histogram"
                      }
                    ],
                    "histogram2d": [
                      {
                        "colorbar": {
                          "outlinewidth": 0,
                          "ticks": ""
                        },
                        "colorscale": [
                          [
                            0,
                            "#0d0887"
                          ],
                          [
                            0.1111111111111111,
                            "#46039f"
                          ],
                          [
                            0.2222222222222222,
                            "#7201a8"
                          ],
                          [
                            0.3333333333333333,
                            "#9c179e"
                          ],
                          [
                            0.4444444444444444,
                            "#bd3786"
                          ],
                          [
                            0.5555555555555556,
                            "#d8576b"
                          ],
                          [
                            0.6666666666666666,
                            "#ed7953"
                          ],
                          [
                            0.7777777777777778,
                            "#fb9f3a"
                          ],
                          [
                            0.8888888888888888,
                            "#fdca26"
                          ],
                          [
                            1,
                            "#f0f921"
                          ]
                        ],
                        "type": "histogram2d"
                      }
                    ],
                    "histogram2dcontour": [
                      {
                        "colorbar": {
                          "outlinewidth": 0,
                          "ticks": ""
                        },
                        "colorscale": [
                          [
                            0,
                            "#0d0887"
                          ],
                          [
                            0.1111111111111111,
                            "#46039f"
                          ],
                          [
                            0.2222222222222222,
                            "#7201a8"
                          ],
                          [
                            0.3333333333333333,
                            "#9c179e"
                          ],
                          [
                            0.4444444444444444,
                            "#bd3786"
                          ],
                          [
                            0.5555555555555556,
                            "#d8576b"
                          ],
                          [
                            0.6666666666666666,
                            "#ed7953"
                          ],
                          [
                            0.7777777777777778,
                            "#fb9f3a"
                          ],
                          [
                            0.8888888888888888,
                            "#fdca26"
                          ],
                          [
                            1,
                            "#f0f921"
                          ]
                        ],
                        "type": "histogram2dcontour"
                      }
                    ],
                    "mesh3d": [
                      {
                        "colorbar": {
                          "outlinewidth": 0,
                          "ticks": ""
                        },
                        "type": "mesh3d"
                      }
                    ],
                    "parcoords": [
                      {
                        "line": {
                          "colorbar": {
                            "outlinewidth": 0,
                            "ticks": ""
                          }
                        },
                        "type": "parcoords"
                      }
                    ],
                    "pie": [
                      {
                        "automargin": true,
                        "type": "pie"
                      }
                    ],
                    "scatter": [
                      {
                        "fillpattern": {
                          "fillmode": "overlay",
                          "size": 10,
                          "solidity": 0.2
                        },
                        "type": "scatter"
                      }
                    ],
                    "scatter3d": [
                      {
                        "line": {
                          "colorbar": {
                            "outlinewidth": 0,
                            "ticks": ""
                          }
                        },
                        "marker": {
                          "colorbar": {
                            "outlinewidth": 0,
                            "ticks": ""
                          }
                        },
                        "type": "scatter3d"
                      }
                    ],
                    "scattercarpet": [
                      {
                        "marker": {
                          "colorbar": {
                            "outlinewidth": 0,
                            "ticks": ""
                          }
                        },
                        "type": "scattercarpet"
                      }
                    ],
                    "scattergeo": [
                      {
                        "marker": {
                          "colorbar": {
                            "outlinewidth": 0,
                            "ticks": ""
                          }
                        },
                        "type": "scattergeo"
                      }
                    ],
                    "scattergl": [
                      {
                        "marker": {
                          "colorbar": {
                            "outlinewidth": 0,
                            "ticks": ""
                          }
                        },
                        "type": "scattergl"
                      }
                    ],
                    "scattermapbox": [
                      {
                        "marker": {
                          "colorbar": {
                            "outlinewidth": 0,
                            "ticks": ""
                          }
                        },
                        "type": "scattermapbox"
                      }
                    ],
                    "scatterpolar": [
                      {
                        "marker": {
                          "colorbar": {
                            "outlinewidth": 0,
                            "ticks": ""
                          }
                        },
                        "type": "scatterpolar"
                      }
                    ],
                    "scatterpolargl": [
                      {
                        "marker": {
                          "colorbar": {
                            "outlinewidth": 0,
                            "ticks": ""
                          }
                        },
                        "type": "scatterpolargl"
                      }
                    ],
                    "scatterternary": [
                      {
                        "marker": {
                          "colorbar": {
                            "outlinewidth": 0,
                            "ticks": ""
                          }
                        },
                        "type": "scatterternary"
                      }
                    ],
                    "surface": [
                      {
                        "colorbar": {
                          "outlinewidth": 0,
                          "ticks": ""
                        },
                        "colorscale": [
                          [
                            0,
                            "#0d0887"
                          ],
                          [
                            0.1111111111111111,
                            "#46039f"
                          ],
                          [
                            0.2222222222222222,
                            "#7201a8"
                          ],
                          [
                            0.3333333333333333,
                            "#9c179e"
                          ],
                          [
                            0.4444444444444444,
                            "#bd3786"
                          ],
                          [
                            0.5555555555555556,
                            "#d8576b"
                          ],
                          [
                            0.6666666666666666,
                            "#ed7953"
                          ],
                          [
                            0.7777777777777778,
                            "#fb9f3a"
                          ],
                          [
                            0.8888888888888888,
                            "#fdca26"
                          ],
                          [
                            1,
                            "#f0f921"
                          ]
                        ],
                        "type": "surface"
                      }
                    ],
                    "table": [
                      {
                        "cells": {
                          "fill": {
                            "color": "#EBF0F8"
                          },
                          "line": {
                            "color": "white"
                          }
                        },
                        "header": {
                          "fill": {
                            "color": "#C8D4E3"
                          },
                          "line": {
                            "color": "white"
                          }
                        },
                        "type": "table"
                      }
                    ]
                  },
                  "layout": {
                    "annotationdefaults": {
                      "arrowcolor": "#2a3f5f",
                      "arrowhead": 0,
                      "arrowwidth": 1
                    },
                    "autotypenumbers": "strict",
                    "coloraxis": {
                      "colorbar": {
                        "outlinewidth": 0,
                        "ticks": ""
                      }
                    },
                    "colorscale": {
                      "diverging": [
                        [
                          0,
                          "#8e0152"
                        ],
                        [
                          0.1,
                          "#c51b7d"
                        ],
                        [
                          0.2,
                          "#de77ae"
                        ],
                        [
                          0.3,
                          "#f1b6da"
                        ],
                        [
                          0.4,
                          "#fde0ef"
                        ],
                        [
                          0.5,
                          "#f7f7f7"
                        ],
                        [
                          0.6,
                          "#e6f5d0"
                        ],
                        [
                          0.7,
                          "#b8e186"
                        ],
                        [
                          0.8,
                          "#7fbc41"
                        ],
                        [
                          0.9,
                          "#4d9221"
                        ],
                        [
                          1,
                          "#276419"
                        ]
                      ],
                      "sequential": [
                        [
                          0,
                          "#0d0887"
                        ],
                        [
                          0.1111111111111111,
                          "#46039f"
                        ],
                        [
                          0.2222222222222222,
                          "#7201a8"
                        ],
                        [
                          0.3333333333333333,
                          "#9c179e"
                        ],
                        [
                          0.4444444444444444,
                          "#bd3786"
                        ],
                        [
                          0.5555555555555556,
                          "#d8576b"
                        ],
                        [
                          0.6666666666666666,
                          "#ed7953"
                        ],
                        [
                          0.7777777777777778,
                          "#fb9f3a"
                        ],
                        [
                          0.8888888888888888,
                          "#fdca26"
                        ],
                        [
                          1,
                          "#f0f921"
                        ]
                      ],
                      "sequentialminus": [
                        [
                          0,
                          "#0d0887"
                        ],
                        [
                          0.1111111111111111,
                          "#46039f"
                        ],
                        [
                          0.2222222222222222,
                          "#7201a8"
                        ],
                        [
                          0.3333333333333333,
                          "#9c179e"
                        ],
                        [
                          0.4444444444444444,
                          "#bd3786"
                        ],
                        [
                          0.5555555555555556,
                          "#d8576b"
                        ],
                        [
                          0.6666666666666666,
                          "#ed7953"
                        ],
                        [
                          0.7777777777777778,
                          "#fb9f3a"
                        ],
                        [
                          0.8888888888888888,
                          "#fdca26"
                        ],
                        [
                          1,
                          "#f0f921"
                        ]
                      ]
                    },
                    "colorway": [
                      "#636efa",
                      "#EF553B",
                      "#00cc96",
                      "#ab63fa",
                      "#FFA15A",
                      "#19d3f3",
                      "#FF6692",
                      "#B6E880",
                      "#FF97FF",
                      "#FECB52"
                    ],
                    "font": {
                      "color": "#2a3f5f"
                    },
                    "geo": {
                      "bgcolor": "white",
                      "lakecolor": "white",
                      "landcolor": "#E5ECF6",
                      "showlakes": true,
                      "showland": true,
                      "subunitcolor": "white"
                    },
                    "hoverlabel": {
                      "align": "left"
                    },
                    "hovermode": "closest",
                    "mapbox": {
                      "style": "light"
                    },
                    "paper_bgcolor": "white",
                    "plot_bgcolor": "#E5ECF6",
                    "polar": {
                      "angularaxis": {
                        "gridcolor": "white",
                        "linecolor": "white",
                        "ticks": ""
                      },
                      "bgcolor": "#E5ECF6",
                      "radialaxis": {
                        "gridcolor": "white",
                        "linecolor": "white",
                        "ticks": ""
                      }
                    },
                    "scene": {
                      "xaxis": {
                        "backgroundcolor": "#E5ECF6",
                        "gridcolor": "white",
                        "gridwidth": 2,
                        "linecolor": "white",
                        "showbackground": true,
                        "ticks": "",
                        "zerolinecolor": "white"
                      },
                      "yaxis": {
                        "backgroundcolor": "#E5ECF6",
                        "gridcolor": "white",
                        "gridwidth": 2,
                        "linecolor": "white",
                        "showbackground": true,
                        "ticks": "",
                        "zerolinecolor": "white"
                      },
                      "zaxis": {
                        "backgroundcolor": "#E5ECF6",
                        "gridcolor": "white",
                        "gridwidth": 2,
                        "linecolor": "white",
                        "showbackground": true,
                        "ticks": "",
                        "zerolinecolor": "white"
                      }
                    },
                    "shapedefaults": {
                      "line": {
                        "color": "#2a3f5f"
                      }
                    },
                    "ternary": {
                      "aaxis": {
                        "gridcolor": "white",
                        "linecolor": "white",
                        "ticks": ""
                      },
                      "baxis": {
                        "gridcolor": "white",
                        "linecolor": "white",
                        "ticks": ""
                      },
                      "bgcolor": "#E5ECF6",
                      "caxis": {
                        "gridcolor": "white",
                        "linecolor": "white",
                        "ticks": ""
                      }
                    },
                    "title": {
                      "x": 0.05
                    },
                    "xaxis": {
                      "automargin": true,
                      "gridcolor": "white",
                      "linecolor": "white",
                      "ticks": "",
                      "title": {
                        "standoff": 15
                      },
                      "zerolinecolor": "white",
                      "zerolinewidth": 2
                    },
                    "yaxis": {
                      "automargin": true,
                      "gridcolor": "white",
                      "linecolor": "white",
                      "ticks": "",
                      "title": {
                        "standoff": 15
                      },
                      "zerolinecolor": "white",
                      "zerolinewidth": 2
                    }
                  }
                },
                "xaxis": {
                  "anchor": "y",
                  "domain": [
                    0,
                    1
                  ],
                  "title": {
                    "text": "timestamp"
                  }
                },
                "yaxis": {
                  "anchor": "x",
                  "domain": [
                    0,
                    1
                  ],
                  "title": {
                    "text": "value"
                  }
                }
              }
            }
          },
          "metadata": {},
          "output_type": "display_data"
        }
      ],
      "source": [
        "fig = px.line(df, x=\"timestamp\", y=[\"addresses\"], color=\"asset\").update_layout(height=500)   #, facet_row=\"subset\"\n",
        "fig.show()"
      ]
    },
    {
      "cell_type": "code",
      "execution_count": 207,
      "metadata": {},
      "outputs": [
        {
          "data": {
            "application/vnd.plotly.v1+json": {
              "config": {
                "plotlyServerURL": "https://plot.ly"
              },
              "data": [
                {
                  "hovertemplate": "asset=bitcoin<br>variable=marketcap_dominance<br>timestamp=%{x}<br>value=%{y}<extra></extra>",
                  "legendgroup": "bitcoin",
                  "line": {
                    "color": "#636efa",
                    "dash": "solid"
                  },
                  "marker": {
                    "symbol": "circle"
                  },
                  "mode": "lines",
                  "name": "bitcoin",
                  "orientation": "v",
                  "showlegend": true,
                  "type": "scatter",
                  "x": [
                    "2020-01-06T00:00:00+00:00",
                    "2020-01-13T00:00:00+00:00",
                    "2020-01-20T00:00:00+00:00",
                    "2020-01-27T00:00:00+00:00",
                    "2020-02-03T00:00:00+00:00",
                    "2020-02-10T00:00:00+00:00",
                    "2020-02-17T00:00:00+00:00",
                    "2020-02-24T00:00:00+00:00",
                    "2020-03-02T00:00:00+00:00",
                    "2020-03-09T00:00:00+00:00",
                    "2020-03-16T00:00:00+00:00",
                    "2020-03-23T00:00:00+00:00",
                    "2020-03-30T00:00:00+00:00",
                    "2020-04-06T00:00:00+00:00",
                    "2020-04-13T00:00:00+00:00",
                    "2020-04-20T00:00:00+00:00",
                    "2020-04-27T00:00:00+00:00",
                    "2020-05-04T00:00:00+00:00",
                    "2020-05-11T00:00:00+00:00",
                    "2020-05-18T00:00:00+00:00",
                    "2020-05-25T00:00:00+00:00",
                    "2020-06-01T00:00:00+00:00",
                    "2020-06-08T00:00:00+00:00",
                    "2020-06-15T00:00:00+00:00",
                    "2020-06-22T00:00:00+00:00",
                    "2020-06-29T00:00:00+00:00",
                    "2020-07-06T00:00:00+00:00",
                    "2020-07-13T00:00:00+00:00",
                    "2020-07-20T00:00:00+00:00",
                    "2020-07-27T00:00:00+00:00",
                    "2020-08-03T00:00:00+00:00",
                    "2020-08-10T00:00:00+00:00",
                    "2020-08-17T00:00:00+00:00",
                    "2020-08-24T00:00:00+00:00",
                    "2020-08-31T00:00:00+00:00",
                    "2020-09-07T00:00:00+00:00",
                    "2020-09-14T00:00:00+00:00",
                    "2020-09-21T00:00:00+00:00",
                    "2020-09-28T00:00:00+00:00",
                    "2020-10-05T00:00:00+00:00",
                    "2020-10-12T00:00:00+00:00",
                    "2020-10-19T00:00:00+00:00",
                    "2020-10-26T00:00:00+00:00",
                    "2020-11-02T00:00:00+00:00",
                    "2020-11-09T00:00:00+00:00",
                    "2020-11-16T00:00:00+00:00",
                    "2020-11-23T00:00:00+00:00",
                    "2020-11-30T00:00:00+00:00",
                    "2020-12-07T00:00:00+00:00",
                    "2020-12-14T00:00:00+00:00",
                    "2020-12-21T00:00:00+00:00",
                    "2020-12-28T00:00:00+00:00",
                    "2021-01-04T00:00:00+00:00",
                    "2021-01-11T00:00:00+00:00",
                    "2021-01-18T00:00:00+00:00",
                    "2021-01-25T00:00:00+00:00",
                    "2021-02-01T00:00:00+00:00",
                    "2021-02-08T00:00:00+00:00",
                    "2021-02-15T00:00:00+00:00",
                    "2021-02-22T00:00:00+00:00",
                    "2021-03-01T00:00:00+00:00",
                    "2021-03-08T00:00:00+00:00",
                    "2021-03-15T00:00:00+00:00",
                    "2021-03-22T00:00:00+00:00",
                    "2021-03-29T00:00:00+00:00",
                    "2021-04-05T00:00:00+00:00",
                    "2021-04-12T00:00:00+00:00",
                    "2021-04-19T00:00:00+00:00",
                    "2021-04-26T00:00:00+00:00",
                    "2021-05-03T00:00:00+00:00",
                    "2021-05-10T00:00:00+00:00",
                    "2021-05-17T00:00:00+00:00",
                    "2021-05-24T00:00:00+00:00",
                    "2021-05-31T00:00:00+00:00",
                    "2021-06-07T00:00:00+00:00",
                    "2021-06-14T00:00:00+00:00",
                    "2021-06-21T00:00:00+00:00",
                    "2021-06-28T00:00:00+00:00",
                    "2021-07-05T00:00:00+00:00",
                    "2021-07-12T00:00:00+00:00",
                    "2021-07-19T00:00:00+00:00",
                    "2021-07-26T00:00:00+00:00",
                    "2021-08-02T00:00:00+00:00",
                    "2021-08-09T00:00:00+00:00",
                    "2021-08-16T00:00:00+00:00",
                    "2021-08-23T00:00:00+00:00",
                    "2021-08-30T00:00:00+00:00",
                    "2021-09-06T00:00:00+00:00",
                    "2021-09-13T00:00:00+00:00",
                    "2021-09-20T00:00:00+00:00",
                    "2021-09-27T00:00:00+00:00",
                    "2021-10-04T00:00:00+00:00",
                    "2021-10-11T00:00:00+00:00",
                    "2021-10-18T00:00:00+00:00",
                    "2021-10-25T00:00:00+00:00",
                    "2021-11-01T00:00:00+00:00",
                    "2021-11-08T00:00:00+00:00",
                    "2021-11-15T00:00:00+00:00",
                    "2021-11-22T00:00:00+00:00",
                    "2021-11-29T00:00:00+00:00",
                    "2021-12-06T00:00:00+00:00",
                    "2021-12-13T00:00:00+00:00",
                    "2021-12-20T00:00:00+00:00",
                    "2021-12-27T00:00:00+00:00",
                    "2022-01-03T00:00:00+00:00",
                    "2022-01-10T00:00:00+00:00",
                    "2022-01-17T00:00:00+00:00",
                    "2022-01-24T00:00:00+00:00",
                    "2022-01-31T00:00:00+00:00",
                    "2022-02-07T00:00:00+00:00",
                    "2022-02-14T00:00:00+00:00",
                    "2022-02-21T00:00:00+00:00",
                    "2022-02-28T00:00:00+00:00",
                    "2022-03-07T00:00:00+00:00",
                    "2022-03-14T00:00:00+00:00",
                    "2022-03-21T00:00:00+00:00",
                    "2022-03-28T00:00:00+00:00",
                    "2022-04-04T00:00:00+00:00",
                    "2022-04-11T00:00:00+00:00",
                    "2022-04-18T00:00:00+00:00",
                    "2022-04-25T00:00:00+00:00",
                    "2022-05-02T00:00:00+00:00",
                    "2022-05-09T00:00:00+00:00",
                    "2022-05-16T00:00:00+00:00",
                    "2022-05-23T00:00:00+00:00",
                    "2022-05-30T00:00:00+00:00",
                    "2022-06-06T00:00:00+00:00",
                    "2022-06-13T00:00:00+00:00",
                    "2022-06-20T00:00:00+00:00",
                    "2022-06-27T00:00:00+00:00",
                    "2022-07-04T00:00:00+00:00",
                    "2022-07-11T00:00:00+00:00",
                    "2022-07-18T00:00:00+00:00",
                    "2022-07-25T00:00:00+00:00",
                    "2022-08-01T00:00:00+00:00",
                    "2022-08-08T00:00:00+00:00",
                    "2022-08-15T00:00:00+00:00",
                    "2022-08-22T00:00:00+00:00",
                    "2022-08-29T00:00:00+00:00",
                    "2022-09-05T00:00:00+00:00",
                    "2022-09-12T00:00:00+00:00",
                    "2022-09-19T00:00:00+00:00",
                    "2022-09-26T00:00:00+00:00",
                    "2022-10-03T00:00:00+00:00",
                    "2022-10-10T00:00:00+00:00",
                    "2022-10-17T00:00:00+00:00",
                    "2022-10-24T00:00:00+00:00",
                    "2022-10-31T00:00:00+00:00",
                    "2022-11-07T00:00:00+00:00",
                    "2022-11-14T00:00:00+00:00",
                    "2022-11-21T00:00:00+00:00",
                    "2022-11-28T00:00:00+00:00",
                    "2022-12-05T00:00:00+00:00",
                    "2022-12-12T00:00:00+00:00",
                    "2022-12-19T00:00:00+00:00",
                    "2022-12-26T00:00:00+00:00",
                    "2023-01-02T00:00:00+00:00",
                    "2023-01-09T00:00:00+00:00",
                    "2023-01-16T00:00:00+00:00",
                    "2023-01-23T00:00:00+00:00",
                    "2023-01-30T00:00:00+00:00",
                    "2023-02-06T00:00:00+00:00",
                    "2023-02-13T00:00:00+00:00",
                    "2023-02-20T00:00:00+00:00",
                    "2023-02-27T00:00:00+00:00",
                    "2023-03-06T00:00:00+00:00",
                    "2023-03-13T00:00:00+00:00",
                    "2023-03-20T00:00:00+00:00",
                    "2023-03-27T00:00:00+00:00",
                    "2023-04-03T00:00:00+00:00",
                    "2023-04-10T00:00:00+00:00"
                  ],
                  "xaxis": "x",
                  "y": [
                    69.99436958931605,
                    68.38912500133375,
                    67.97517875917808,
                    67.36742699537324,
                    65.62411633853323,
                    64.22927993172547,
                    64.54167808398334,
                    65.58140923775555,
                    65.792583045382,
                    65.81362134773154,
                    66.67812986270289,
                    66.44738000176402,
                    66.77768018352339,
                    65.79502899734437,
                    64.71022024920366,
                    64.83790619327847,
                    66.8173332721993,
                    67.85822446564791,
                    68.8312125390292,
                    67.30950411031836,
                    66.4863654441218,
                    66.16430892777355,
                    66.14967803362967,
                    66.13141047634261,
                    66.10675239611575,
                    65.3870665808341,
                    63.66768582556655,
                    63.41641999140443,
                    62.09193825858411,
                    62.402190916839125,
                    61.39946748499948,
                    59.58396060128875,
                    59.585931242098184,
                    58.14525060591255,
                    59.27520395879664,
                    57.76278279464744,
                    59.165483195885464,
                    59.13037302888682,
                    59.318506032362485,
                    59.702347197061414,
                    59.988643627712825,
                    61.87228594114641,
                    64.3101225356045,
                    64.9700601127776,
                    65.55799998069239,
                    64.7993748543048,
                    63.21877159392966,
                    63.52992216220835,
                    64.2426628634174,
                    66.59631627879543,
                    70.54494854202858,
                    71.26255390247992,
                    68.33717130358924,
                    66.40207430266868,
                    63.085701077914884,
                    62.22389116147938,
                    61.34509004491196,
                    60.684128450478575,
                    61.30547859046139,
                    61.14634251670093,
                    60.29673640336802,
                    61.970228458558374,
                    60.108185067890794,
                    59.75595986364128,
                    56.997523682129305,
                    54.887202096102314,
                    51.97891076508002,
                    50.458313143452784,
                    48.11869003176191,
                    44.546247391431436,
                    40.46306737936274,
                    46.33710464015007,
                    43.340736999851366,
                    41.238450153142985,
                    44.73435647185394,
                    44.98841427075028,
                    46.93089050681972,
                    45.235273338020754,
                    45.42782786863742,
                    46.0544018088246,
                    46.207526560400616,
                    47.200022508569965,
                    46.04439769054093,
                    44.31829156438967,
                    44.232143873781155,
                    49.80982116893958,
                    44.4728933618443,
                    40.63653574748973,
                    42.96943156259783,
                    42.95627688125392,
                    42.98385381607995,
                    45.47402850822864,
                    46.24988284631247,
                    42.96660736582551,
                    43.88114294193101,
                    42.08245682372891,
                    42.77117085492747,
                    41.80044940512306,
                    41.55807825805841,
                    39.871749392855065,
                    40.58734674050077,
                    39.80420521085956,
                    39.36292818828389,
                    39.181440634500255,
                    39.830582188284275,
                    38.595638007585855,
                    40.57907526578086,
                    41.19248596257753,
                    40.8315390170075,
                    41.663575327016154,
                    41.393472910659526,
                    41.19796794982584,
                    41.598649129510164,
                    41.92250287205205,
                    41.64507891013028,
                    41.495545633728085,
                    40.17908909294272,
                    33.69678462246152,
                    40.07943298642953,
                    40.24166102877825,
                    42.285389246314224,
                    41.07031817137315,
                    43.75957714765991,
                    43.86681575712472,
                    43.52673795821309,
                    45.237388874811465,
                    46.51171067956605,
                    42.60454635183639,
                    41.75055612054594,
                    41.35134562610695,
                    35.036392216274635,
                    41.11066550207614,
                    40.859611271882486,
                    40.08401648461254,
                    39.61999987025303,
                    37.98425715448228,
                    31.892541573422168,
                    38.40327516990468,
                    37.9993997562551,
                    38.19392155310608,
                    38.679791160414574,
                    38.22595012030313,
                    38.46015919866812,
                    34.813167394829826,
                    39.42954574662682,
                    38.56484156408887,
                    38.8522074143919,
                    38.07235444665,
                    37.506632583658316,
                    38.185561798455375,
                    37.65878762518151,
                    37.889648467776254,
                    38.10458978140578,
                    39.332754759108944,
                    39.48704587518618,
                    39.44336036543706,
                    39.19738134509244,
                    40.514568626807296,
                    41.946538357020415,
                    41.9228569974612,
                    41.095463513733215,
                    40.85417269806725,
                    42.00126842205838,
                    41.767435000836855,
                    41.73159524813205,
                    41.364884671718215,
                    44.967581002732835,
                    45.72848434652661,
                    45.665151240264265,
                    45.27075585204273,
                    45.521602880909654
                  ],
                  "yaxis": "y"
                },
                {
                  "hovertemplate": "asset=ethereum<br>variable=marketcap_dominance<br>timestamp=%{x}<br>value=%{y}<extra></extra>",
                  "legendgroup": "ethereum",
                  "line": {
                    "color": "#EF553B",
                    "dash": "solid"
                  },
                  "marker": {
                    "symbol": "circle"
                  },
                  "mode": "lines",
                  "name": "ethereum",
                  "orientation": "v",
                  "showlegend": true,
                  "type": "scatter",
                  "x": [
                    "2020-01-06T00:00:00+00:00",
                    "2020-01-13T00:00:00+00:00",
                    "2020-01-20T00:00:00+00:00",
                    "2020-01-27T00:00:00+00:00",
                    "2020-02-03T00:00:00+00:00",
                    "2020-02-10T00:00:00+00:00",
                    "2020-02-17T00:00:00+00:00",
                    "2020-02-24T00:00:00+00:00",
                    "2020-03-02T00:00:00+00:00",
                    "2020-03-09T00:00:00+00:00",
                    "2020-03-16T00:00:00+00:00",
                    "2020-03-23T00:00:00+00:00",
                    "2020-03-30T00:00:00+00:00",
                    "2020-04-06T00:00:00+00:00",
                    "2020-04-13T00:00:00+00:00",
                    "2020-04-20T00:00:00+00:00",
                    "2020-04-27T00:00:00+00:00",
                    "2020-05-04T00:00:00+00:00",
                    "2020-05-11T00:00:00+00:00",
                    "2020-05-18T00:00:00+00:00",
                    "2020-05-25T00:00:00+00:00",
                    "2020-06-01T00:00:00+00:00",
                    "2020-06-08T00:00:00+00:00",
                    "2020-06-15T00:00:00+00:00",
                    "2020-06-22T00:00:00+00:00",
                    "2020-06-29T00:00:00+00:00",
                    "2020-07-06T00:00:00+00:00",
                    "2020-07-13T00:00:00+00:00",
                    "2020-07-20T00:00:00+00:00",
                    "2020-07-27T00:00:00+00:00",
                    "2020-08-03T00:00:00+00:00",
                    "2020-08-10T00:00:00+00:00",
                    "2020-08-17T00:00:00+00:00",
                    "2020-08-24T00:00:00+00:00",
                    "2020-08-31T00:00:00+00:00",
                    "2020-09-07T00:00:00+00:00",
                    "2020-09-14T00:00:00+00:00",
                    "2020-09-21T00:00:00+00:00",
                    "2020-09-28T00:00:00+00:00",
                    "2020-10-05T00:00:00+00:00",
                    "2020-10-12T00:00:00+00:00",
                    "2020-10-19T00:00:00+00:00",
                    "2020-10-26T00:00:00+00:00",
                    "2020-11-02T00:00:00+00:00",
                    "2020-11-09T00:00:00+00:00",
                    "2020-11-16T00:00:00+00:00",
                    "2020-11-23T00:00:00+00:00",
                    "2020-11-30T00:00:00+00:00",
                    "2020-12-07T00:00:00+00:00",
                    "2020-12-14T00:00:00+00:00",
                    "2020-12-21T00:00:00+00:00",
                    "2020-12-28T00:00:00+00:00",
                    "2021-01-04T00:00:00+00:00",
                    "2021-01-11T00:00:00+00:00",
                    "2021-01-18T00:00:00+00:00",
                    "2021-01-25T00:00:00+00:00",
                    "2021-02-01T00:00:00+00:00",
                    "2021-02-08T00:00:00+00:00",
                    "2021-02-15T00:00:00+00:00",
                    "2021-02-22T00:00:00+00:00",
                    "2021-03-01T00:00:00+00:00",
                    "2021-03-08T00:00:00+00:00",
                    "2021-03-15T00:00:00+00:00",
                    "2021-03-22T00:00:00+00:00",
                    "2021-03-29T00:00:00+00:00",
                    "2021-04-05T00:00:00+00:00",
                    "2021-04-12T00:00:00+00:00",
                    "2021-04-19T00:00:00+00:00",
                    "2021-04-26T00:00:00+00:00",
                    "2021-05-03T00:00:00+00:00",
                    "2021-05-10T00:00:00+00:00",
                    "2021-05-17T00:00:00+00:00",
                    "2021-05-24T00:00:00+00:00",
                    "2021-05-31T00:00:00+00:00",
                    "2021-06-07T00:00:00+00:00",
                    "2021-06-14T00:00:00+00:00",
                    "2021-06-21T00:00:00+00:00",
                    "2021-06-28T00:00:00+00:00",
                    "2021-07-05T00:00:00+00:00",
                    "2021-07-12T00:00:00+00:00",
                    "2021-07-19T00:00:00+00:00",
                    "2021-07-26T00:00:00+00:00",
                    "2021-08-02T00:00:00+00:00",
                    "2021-08-09T00:00:00+00:00",
                    "2021-08-16T00:00:00+00:00",
                    "2021-08-23T00:00:00+00:00",
                    "2021-08-30T00:00:00+00:00",
                    "2021-09-06T00:00:00+00:00",
                    "2021-09-13T00:00:00+00:00",
                    "2021-09-20T00:00:00+00:00",
                    "2021-09-27T00:00:00+00:00",
                    "2021-10-04T00:00:00+00:00",
                    "2021-10-11T00:00:00+00:00",
                    "2021-10-18T00:00:00+00:00",
                    "2021-10-25T00:00:00+00:00",
                    "2021-11-01T00:00:00+00:00",
                    "2021-11-08T00:00:00+00:00",
                    "2021-11-15T00:00:00+00:00",
                    "2021-11-22T00:00:00+00:00",
                    "2021-11-29T00:00:00+00:00",
                    "2021-12-06T00:00:00+00:00",
                    "2021-12-13T00:00:00+00:00",
                    "2021-12-20T00:00:00+00:00",
                    "2021-12-27T00:00:00+00:00",
                    "2022-01-03T00:00:00+00:00",
                    "2022-01-10T00:00:00+00:00",
                    "2022-01-17T00:00:00+00:00",
                    "2022-01-24T00:00:00+00:00",
                    "2022-01-31T00:00:00+00:00",
                    "2022-02-07T00:00:00+00:00",
                    "2022-02-14T00:00:00+00:00",
                    "2022-02-21T00:00:00+00:00",
                    "2022-02-28T00:00:00+00:00",
                    "2022-03-07T00:00:00+00:00",
                    "2022-03-14T00:00:00+00:00",
                    "2022-03-21T00:00:00+00:00",
                    "2022-03-28T00:00:00+00:00",
                    "2022-04-04T00:00:00+00:00",
                    "2022-04-11T00:00:00+00:00",
                    "2022-04-18T00:00:00+00:00",
                    "2022-04-25T00:00:00+00:00",
                    "2022-05-02T00:00:00+00:00",
                    "2022-05-09T00:00:00+00:00",
                    "2022-05-16T00:00:00+00:00",
                    "2022-05-23T00:00:00+00:00",
                    "2022-05-30T00:00:00+00:00",
                    "2022-06-06T00:00:00+00:00",
                    "2022-06-13T00:00:00+00:00",
                    "2022-06-20T00:00:00+00:00",
                    "2022-06-27T00:00:00+00:00",
                    "2022-07-04T00:00:00+00:00",
                    "2022-07-11T00:00:00+00:00",
                    "2022-07-18T00:00:00+00:00",
                    "2022-07-25T00:00:00+00:00",
                    "2022-08-01T00:00:00+00:00",
                    "2022-08-08T00:00:00+00:00",
                    "2022-08-15T00:00:00+00:00",
                    "2022-08-22T00:00:00+00:00",
                    "2022-08-29T00:00:00+00:00",
                    "2022-09-05T00:00:00+00:00",
                    "2022-09-12T00:00:00+00:00",
                    "2022-09-19T00:00:00+00:00",
                    "2022-09-26T00:00:00+00:00",
                    "2022-10-03T00:00:00+00:00",
                    "2022-10-10T00:00:00+00:00",
                    "2022-10-17T00:00:00+00:00",
                    "2022-10-24T00:00:00+00:00",
                    "2022-10-31T00:00:00+00:00",
                    "2022-11-07T00:00:00+00:00",
                    "2022-11-14T00:00:00+00:00",
                    "2022-11-21T00:00:00+00:00",
                    "2022-11-28T00:00:00+00:00",
                    "2022-12-05T00:00:00+00:00",
                    "2022-12-12T00:00:00+00:00",
                    "2022-12-19T00:00:00+00:00",
                    "2022-12-26T00:00:00+00:00",
                    "2023-01-02T00:00:00+00:00",
                    "2023-01-09T00:00:00+00:00",
                    "2023-01-16T00:00:00+00:00",
                    "2023-01-23T00:00:00+00:00",
                    "2023-01-30T00:00:00+00:00",
                    "2023-02-06T00:00:00+00:00",
                    "2023-02-13T00:00:00+00:00",
                    "2023-02-20T00:00:00+00:00",
                    "2023-02-27T00:00:00+00:00",
                    "2023-03-06T00:00:00+00:00",
                    "2023-03-13T00:00:00+00:00",
                    "2023-03-20T00:00:00+00:00",
                    "2023-03-27T00:00:00+00:00",
                    "2023-04-03T00:00:00+00:00",
                    "2023-04-10T00:00:00+00:00"
                  ],
                  "xaxis": "x",
                  "y": [
                    7.410801635846825,
                    7.809304339180257,
                    7.829473124798499,
                    8.071791832367945,
                    8.829523766171947,
                    10.073116765004524,
                    10.522147869808657,
                    10.03656325752262,
                    10.200415907081739,
                    9.066344432952265,
                    8.431736347390034,
                    8.335531430368906,
                    8.405398749925705,
                    9.048837910645737,
                    9.841298880228287,
                    9.966936101823515,
                    9.4586815225724,
                    8.843899858202368,
                    8.739880511041289,
                    9.158961048176156,
                    9.881877475277204,
                    9.893000519141864,
                    9.89796105490303,
                    9.726898848390604,
                    9.743466775366107,
                    9.80951262937688,
                    9.900682162600221,
                    9.791779828644264,
                    11.666767378704476,
                    12.509788366946342,
                    12.52687734492639,
                    12.914846062654783,
                    12.054448034646288,
                    12.485306947724427,
                    12.007917136404751,
                    12.474740770994332,
                    12.270008914196856,
                    11.854626732762206,
                    11.774548834897187,
                    11.847973377790893,
                    11.846982925136784,
                    11.725947387815253,
                    11.039107027159943,
                    11.545444269725618,
                    11.25909320214044,
                    11.628993502686846,
                    11.754026791562168,
                    11.999147616973117,
                    11.869743696309689,
                    11.09364840835365,
                    10.61188657685395,
                    11.687923249110076,
                    13.788860470463108,
                    13.92163398114694,
                    15.819136332458648,
                    15.162150701744478,
                    15.44843650423215,
                    13.864800654414912,
                    12.71547514103975,
                    11.477039864336318,
                    12.214429778664563,
                    11.80513618868741,
                    11.476043135723115,
                    11.134217559062373,
                    12.391099216515535,
                    12.019550568366588,
                    12.408760237272046,
                    14.261598156469956,
                    15.214454578271452,
                    18.33333618748495,
                    19.157179046163648,
                    16.867334720186896,
                    17.87805480390042,
                    19.010707051288307,
                    17.93754698927931,
                    17.148992763434567,
                    16.316162724920954,
                    18.27233191135616,
                    17.583387186149547,
                    17.34999849668894,
                    17.870381831037786,
                    18.352097314382828,
                    19.78767598495329,
                    18.950551730555777,
                    17.975587387124573,
                    20.358154220452548,
                    21.352398273509632,
                    18.62760893395963,
                    18.810626901514027,
                    18.352264127113482,
                    18.932090389739695,
                    18.04134092403808,
                    18.041700857061564,
                    19.82883456315686,
                    19.10189217166309,
                    19.304587547999276,
                    19.102671177594186,
                    19.285436427281283,
                    19.507094382236914,
                    21.21064436568128,
                    20.91140732830882,
                    20.90255478154515,
                    20.103987810063597,
                    19.443757532110336,
                    18.524416084485523,
                    18.76197960696527,
                    17.576747605325554,
                    17.689554386707265,
                    18.75487339760239,
                    18.162331852509798,
                    18.006976985144675,
                    18.47755815557093,
                    17.76787601702514,
                    17.532692864507613,
                    18.40704217576825,
                    18.540373209774817,
                    19.112250833232427,
                    16.256273117216548,
                    19.231030176492514,
                    18.961301074422362,
                    19.421871321194132,
                    19.348107070758573,
                    18.969575742771426,
                    18.67516604037722,
                    17.057639710523752,
                    17.361248437674085,
                    15.935874739032412,
                    14.204572713236601,
                    15.344695022544219,
                    14.5774095257301,
                    12.567855906953993,
                    16.744865382935796,
                    17.96923022877442,
                    18.33265921508065,
                    18.607396901431517,
                    19.67184300445402,
                    15.170758723876185,
                    18.241905447221516,
                    19.056233662893312,
                    19.999078051831994,
                    17.78201256340218,
                    16.762083592821085,
                    16.46477633368788,
                    14.86986602453172,
                    16.564347413682196,
                    16.571246182674887,
                    18.98909746612939,
                    18.257080905934178,
                    17.59867047066017,
                    17.46474528150746,
                    17.299444568457414,
                    17.453136602508316,
                    17.658468445359933,
                    17.43696559298837,
                    17.928730556409295,
                    17.856849605907488,
                    18.300352191441718,
                    18.766760153702812,
                    18.729866467532936,
                    17.898797036978234,
                    18.348276688278194,
                    17.96371638881294,
                    18.012268170855485,
                    17.951873738607038,
                    18.257077142110443,
                    18.563483225257684,
                    18.326523060226684,
                    18.076543762868248,
                    18.21528174337551,
                    18.653271410782835,
                    18.599824782971954
                  ],
                  "yaxis": "y"
                },
                {
                  "hovertemplate": "asset=cardano<br>variable=marketcap_dominance<br>timestamp=%{x}<br>value=%{y}<extra></extra>",
                  "legendgroup": "cardano",
                  "line": {
                    "color": "#00cc96",
                    "dash": "solid"
                  },
                  "marker": {
                    "symbol": "circle"
                  },
                  "mode": "lines",
                  "name": "cardano",
                  "orientation": "v",
                  "showlegend": true,
                  "type": "scatter",
                  "x": [
                    "2020-01-06T00:00:00+00:00",
                    "2020-01-13T00:00:00+00:00",
                    "2020-01-20T00:00:00+00:00",
                    "2020-01-27T00:00:00+00:00",
                    "2020-02-03T00:00:00+00:00",
                    "2020-02-10T00:00:00+00:00",
                    "2020-02-17T00:00:00+00:00",
                    "2020-02-24T00:00:00+00:00",
                    "2020-03-02T00:00:00+00:00",
                    "2020-03-09T00:00:00+00:00",
                    "2020-03-16T00:00:00+00:00",
                    "2020-03-23T00:00:00+00:00",
                    "2020-03-30T00:00:00+00:00",
                    "2020-04-06T00:00:00+00:00",
                    "2020-04-13T00:00:00+00:00",
                    "2020-04-20T00:00:00+00:00",
                    "2020-04-27T00:00:00+00:00",
                    "2020-05-04T00:00:00+00:00",
                    "2020-05-11T00:00:00+00:00",
                    "2020-05-18T00:00:00+00:00",
                    "2020-05-25T00:00:00+00:00",
                    "2020-06-01T00:00:00+00:00",
                    "2020-06-08T00:00:00+00:00",
                    "2020-06-15T00:00:00+00:00",
                    "2020-06-22T00:00:00+00:00",
                    "2020-06-29T00:00:00+00:00",
                    "2020-07-06T00:00:00+00:00",
                    "2020-07-13T00:00:00+00:00",
                    "2020-07-20T00:00:00+00:00",
                    "2020-07-27T00:00:00+00:00",
                    "2020-08-03T00:00:00+00:00",
                    "2020-08-10T00:00:00+00:00",
                    "2020-08-17T00:00:00+00:00",
                    "2020-08-24T00:00:00+00:00",
                    "2020-08-31T00:00:00+00:00",
                    "2020-09-07T00:00:00+00:00",
                    "2020-09-14T00:00:00+00:00",
                    "2020-09-21T00:00:00+00:00",
                    "2020-09-28T00:00:00+00:00",
                    "2020-10-05T00:00:00+00:00",
                    "2020-10-12T00:00:00+00:00",
                    "2020-10-19T00:00:00+00:00",
                    "2020-10-26T00:00:00+00:00",
                    "2020-11-02T00:00:00+00:00",
                    "2020-11-09T00:00:00+00:00",
                    "2020-11-16T00:00:00+00:00",
                    "2020-11-23T00:00:00+00:00",
                    "2020-11-30T00:00:00+00:00",
                    "2020-12-07T00:00:00+00:00",
                    "2020-12-14T00:00:00+00:00",
                    "2020-12-21T00:00:00+00:00",
                    "2020-12-28T00:00:00+00:00",
                    "2021-01-04T00:00:00+00:00",
                    "2021-01-11T00:00:00+00:00",
                    "2021-01-18T00:00:00+00:00",
                    "2021-01-25T00:00:00+00:00",
                    "2021-02-01T00:00:00+00:00",
                    "2021-02-08T00:00:00+00:00",
                    "2021-02-15T00:00:00+00:00",
                    "2021-02-22T00:00:00+00:00",
                    "2021-03-01T00:00:00+00:00",
                    "2021-03-08T00:00:00+00:00",
                    "2021-03-15T00:00:00+00:00",
                    "2021-03-22T00:00:00+00:00",
                    "2021-03-29T00:00:00+00:00",
                    "2021-04-05T00:00:00+00:00",
                    "2021-04-12T00:00:00+00:00",
                    "2021-04-19T00:00:00+00:00",
                    "2021-04-26T00:00:00+00:00",
                    "2021-05-03T00:00:00+00:00",
                    "2021-05-10T00:00:00+00:00",
                    "2021-05-17T00:00:00+00:00",
                    "2021-05-24T00:00:00+00:00",
                    "2021-05-31T00:00:00+00:00",
                    "2021-06-07T00:00:00+00:00",
                    "2021-06-14T00:00:00+00:00",
                    "2021-06-21T00:00:00+00:00",
                    "2021-06-28T00:00:00+00:00",
                    "2021-07-05T00:00:00+00:00",
                    "2021-07-12T00:00:00+00:00",
                    "2021-07-19T00:00:00+00:00",
                    "2021-07-26T00:00:00+00:00",
                    "2021-08-02T00:00:00+00:00",
                    "2021-08-09T00:00:00+00:00",
                    "2021-08-16T00:00:00+00:00",
                    "2021-08-23T00:00:00+00:00",
                    "2021-08-30T00:00:00+00:00",
                    "2021-09-06T00:00:00+00:00",
                    "2021-09-13T00:00:00+00:00",
                    "2021-09-20T00:00:00+00:00",
                    "2021-09-27T00:00:00+00:00",
                    "2021-10-04T00:00:00+00:00",
                    "2021-10-11T00:00:00+00:00",
                    "2021-10-18T00:00:00+00:00",
                    "2021-10-25T00:00:00+00:00",
                    "2021-11-01T00:00:00+00:00",
                    "2021-11-08T00:00:00+00:00",
                    "2021-11-15T00:00:00+00:00",
                    "2021-11-22T00:00:00+00:00",
                    "2021-11-29T00:00:00+00:00",
                    "2021-12-06T00:00:00+00:00",
                    "2021-12-13T00:00:00+00:00",
                    "2021-12-20T00:00:00+00:00",
                    "2021-12-27T00:00:00+00:00",
                    "2022-01-03T00:00:00+00:00",
                    "2022-01-10T00:00:00+00:00",
                    "2022-01-17T00:00:00+00:00",
                    "2022-01-24T00:00:00+00:00",
                    "2022-01-31T00:00:00+00:00",
                    "2022-02-07T00:00:00+00:00",
                    "2022-02-14T00:00:00+00:00",
                    "2022-02-21T00:00:00+00:00",
                    "2022-02-28T00:00:00+00:00",
                    "2022-03-07T00:00:00+00:00",
                    "2022-03-14T00:00:00+00:00",
                    "2022-03-21T00:00:00+00:00",
                    "2022-03-28T00:00:00+00:00",
                    "2022-04-04T00:00:00+00:00",
                    "2022-04-11T00:00:00+00:00",
                    "2022-04-18T00:00:00+00:00",
                    "2022-04-25T00:00:00+00:00",
                    "2022-05-02T00:00:00+00:00",
                    "2022-05-09T00:00:00+00:00",
                    "2022-05-16T00:00:00+00:00",
                    "2022-05-23T00:00:00+00:00",
                    "2022-05-30T00:00:00+00:00",
                    "2022-06-06T00:00:00+00:00",
                    "2022-06-13T00:00:00+00:00",
                    "2022-06-20T00:00:00+00:00",
                    "2022-06-27T00:00:00+00:00",
                    "2022-07-04T00:00:00+00:00",
                    "2022-07-11T00:00:00+00:00",
                    "2022-07-18T00:00:00+00:00",
                    "2022-07-25T00:00:00+00:00",
                    "2022-08-01T00:00:00+00:00",
                    "2022-08-08T00:00:00+00:00",
                    "2022-08-15T00:00:00+00:00",
                    "2022-08-22T00:00:00+00:00",
                    "2022-08-29T00:00:00+00:00",
                    "2022-09-05T00:00:00+00:00",
                    "2022-09-12T00:00:00+00:00",
                    "2022-09-19T00:00:00+00:00",
                    "2022-09-26T00:00:00+00:00",
                    "2022-10-03T00:00:00+00:00",
                    "2022-10-10T00:00:00+00:00",
                    "2022-10-17T00:00:00+00:00",
                    "2022-10-24T00:00:00+00:00",
                    "2022-10-31T00:00:00+00:00",
                    "2022-11-07T00:00:00+00:00",
                    "2022-11-14T00:00:00+00:00",
                    "2022-11-21T00:00:00+00:00",
                    "2022-11-28T00:00:00+00:00",
                    "2022-12-05T00:00:00+00:00",
                    "2022-12-12T00:00:00+00:00",
                    "2022-12-19T00:00:00+00:00",
                    "2022-12-26T00:00:00+00:00",
                    "2023-01-02T00:00:00+00:00",
                    "2023-01-09T00:00:00+00:00",
                    "2023-01-16T00:00:00+00:00",
                    "2023-01-23T00:00:00+00:00",
                    "2023-01-30T00:00:00+00:00",
                    "2023-02-06T00:00:00+00:00",
                    "2023-02-13T00:00:00+00:00",
                    "2023-02-20T00:00:00+00:00",
                    "2023-02-27T00:00:00+00:00",
                    "2023-03-06T00:00:00+00:00",
                    "2023-03-13T00:00:00+00:00",
                    "2023-03-20T00:00:00+00:00",
                    "2023-03-27T00:00:00+00:00",
                    "2023-04-03T00:00:00+00:00",
                    "2023-04-10T00:00:00+00:00"
                  ],
                  "xaxis": "x",
                  "y": [
                    0.45815797409237596,
                    0.47621257446141446,
                    0.5009816782527627,
                    0.5867128422391971,
                    0.568978430774869,
                    0.5727190692972374,
                    0.5636461990551533,
                    0.510001066881469,
                    0.5006421249959989,
                    0.4660075442506873,
                    0.4401766601966574,
                    0.45021038863946244,
                    0.44683119289621254,
                    0.4526255900205674,
                    0.4593622152769737,
                    0.5349705274410399,
                    0.5238073786502789,
                    0.5166966208776934,
                    0.5171553422716876,
                    0.5673528722150245,
                    0.7848835873085049,
                    0.8330468179968145,
                    0.7670981239823923,
                    0.7925516107981105,
                    0.8102207530191665,
                    0.9825247012473665,
                    1.2022663130532882,
                    1.1982140237913335,
                    1.3066699874071845,
                    1.0588580333519717,
                    1.0861724336221508,
                    0.9726220708223084,
                    0.8808125551549655,
                    0.8170982691103241,
                    0.7467046349915553,
                    0.7488705527936583,
                    0.8227527000194118,
                    0.9168575895144983,
                    0.8915828658611166,
                    0.941069682933571,
                    0.9368989641287623,
                    0.8539927790251806,
                    0.7503015678034519,
                    0.7517718972835591,
                    0.7059073435346256,
                    0.8085706731108981,
                    0.9641101274415115,
                    0.8746155357889271,
                    0.8529287950380374,
                    0.7754764905443305,
                    0.6900874616653685,
                    0.6839066781891969,
                    0.9256349795351412,
                    1.1679601600336629,
                    1.1568207822976115,
                    1.1064954493610475,
                    1.7183092657246357,
                    1.7941277015836603,
                    1.993653789009197,
                    2.8630534627403437,
                    2.3141072291582585,
                    1.8963029787655457,
                    2.16687905108574,
                    2.176354949453145,
                    1.9927876712825372,
                    1.9574474934843185,
                    1.9620831284759332,
                    1.9209318905205848,
                    1.921152089372762,
                    2.289865626494733,
                    3.3328852341146846,
                    2.9127888135697124,
                    3.305635549964658,
                    3.280169457230753,
                    3.063405973192,
                    3.051842330849374,
                    3.096802241845024,
                    3.149284575646345,
                    3.06474561683408,
                    2.9508669909793284,
                    2.7855875842324074,
                    2.639679821754357,
                    2.580029073687262,
                    3.4995281982787203,
                    3.9932835652901537,
                    4.988068887758265,
                    4.323503262420262,
                    3.9823796057934797,
                    3.579514446908041,
                    3.8440519735212915,
                    3.4441480963830116,
                    3.127036567863236,
                    2.865163868171456,
                    2.915172023488753,
                    2.4877134497230586,
                    2.395670758551046,
                    2.3841479442423745,
                    2.3366222093750046,
                    2.0125797319533603,
                    1.9508968744160742,
                    1.962956579595808,
                    1.9399557891038128,
                    2.008104362213789,
                    2.0040206638243823,
                    1.9991985696398544,
                    2.0500732812732734,
                    2.194911127184437,
                    2.0257321965594812,
                    1.967244224295302,
                    1.8514494081854325,
                    1.8255464718645706,
                    1.6561232989446308,
                    1.6203487333963789,
                    1.51341313647351,
                    1.58047137063574,
                    1.9058924940967026,
                    1.8004509933970656,
                    1.4617230664251515,
                    1.6752316102927458,
                    1.6044966010085784,
                    1.5053725527247637,
                    1.564230670494046,
                    1.384928355902179,
                    1.3957365934393673,
                    1.236468364864029,
                    1.520045629885792,
                    1.6053093871248227,
                    1.807497276151598,
                    1.7126804361005399,
                    1.7310038805228916,
                    1.3715317028850045,
                    1.5696918649773046,
                    1.6642493608736522,
                    1.575356289639916,
                    1.5584908897357457,
                    1.5346351225808006,
                    1.206982604640581,
                    1.5390557105920435,
                    1.643317518299003,
                    1.6132433792239866,
                    1.6674476198643395,
                    1.627875769235972,
                    1.5308890058179134,
                    1.3519251474341865,
                    1.3447172225429194,
                    1.2615269138633545,
                    1.402519811916027,
                    1.3634335486816263,
                    1.3573222861804244,
                    1.3432980728163797,
                    1.28643285229364,
                    1.2851487055268935,
                    1.2464715296044337,
                    1.1236910448616764,
                    1.0900136611779632,
                    1.0504619695264779,
                    1.149166384813978,
                    1.2227794898271862,
                    1.217714414489676,
                    1.2475595226519909,
                    1.2626929207136177,
                    1.236194922235664,
                    1.243189307579119,
                    1.1724641222034957,
                    1.1290497311075174,
                    1.1077032214417795,
                    1.0116822045669334,
                    1.05123096808292,
                    1.1312902713698247,
                    1.12189274056491,
                    1.1248276448280428
                  ],
                  "yaxis": "y"
                },
                {
                  "hovertemplate": "asset=polkadot<br>variable=marketcap_dominance<br>timestamp=%{x}<br>value=%{y}<extra></extra>",
                  "legendgroup": "polkadot",
                  "line": {
                    "color": "#ab63fa",
                    "dash": "solid"
                  },
                  "marker": {
                    "symbol": "circle"
                  },
                  "mode": "lines",
                  "name": "polkadot",
                  "orientation": "v",
                  "showlegend": true,
                  "type": "scatter",
                  "x": [
                    "2020-08-17T00:00:00+00:00",
                    "2020-08-24T00:00:00+00:00",
                    "2020-08-31T00:00:00+00:00",
                    "2020-09-07T00:00:00+00:00",
                    "2020-09-14T00:00:00+00:00",
                    "2020-09-21T00:00:00+00:00",
                    "2020-09-28T00:00:00+00:00",
                    "2020-10-05T00:00:00+00:00",
                    "2020-10-12T00:00:00+00:00",
                    "2020-10-19T00:00:00+00:00",
                    "2020-10-26T00:00:00+00:00",
                    "2020-11-02T00:00:00+00:00",
                    "2020-11-09T00:00:00+00:00",
                    "2020-11-16T00:00:00+00:00",
                    "2020-11-23T00:00:00+00:00",
                    "2020-11-30T00:00:00+00:00",
                    "2020-12-07T00:00:00+00:00",
                    "2020-12-14T00:00:00+00:00",
                    "2020-12-21T00:00:00+00:00",
                    "2020-12-28T00:00:00+00:00",
                    "2021-01-04T00:00:00+00:00",
                    "2021-01-11T00:00:00+00:00",
                    "2021-01-18T00:00:00+00:00",
                    "2021-01-25T00:00:00+00:00",
                    "2021-02-01T00:00:00+00:00",
                    "2021-02-08T00:00:00+00:00",
                    "2021-02-15T00:00:00+00:00",
                    "2021-02-22T00:00:00+00:00",
                    "2021-03-01T00:00:00+00:00",
                    "2021-03-08T00:00:00+00:00",
                    "2021-03-15T00:00:00+00:00",
                    "2021-03-22T00:00:00+00:00",
                    "2021-03-29T00:00:00+00:00",
                    "2021-04-05T00:00:00+00:00",
                    "2021-04-12T00:00:00+00:00",
                    "2021-04-19T00:00:00+00:00",
                    "2021-04-26T00:00:00+00:00",
                    "2021-05-03T00:00:00+00:00",
                    "2021-05-10T00:00:00+00:00",
                    "2021-05-17T00:00:00+00:00",
                    "2021-05-24T00:00:00+00:00",
                    "2021-05-31T00:00:00+00:00",
                    "2021-06-07T00:00:00+00:00",
                    "2021-06-14T00:00:00+00:00",
                    "2021-06-21T00:00:00+00:00",
                    "2021-06-28T00:00:00+00:00",
                    "2021-07-05T00:00:00+00:00",
                    "2021-07-12T00:00:00+00:00",
                    "2021-07-19T00:00:00+00:00",
                    "2021-07-26T00:00:00+00:00",
                    "2021-08-02T00:00:00+00:00",
                    "2021-08-09T00:00:00+00:00",
                    "2021-08-16T00:00:00+00:00",
                    "2021-08-23T00:00:00+00:00",
                    "2021-08-30T00:00:00+00:00",
                    "2021-09-06T00:00:00+00:00",
                    "2021-09-13T00:00:00+00:00",
                    "2021-09-20T00:00:00+00:00",
                    "2021-09-27T00:00:00+00:00",
                    "2021-10-04T00:00:00+00:00",
                    "2021-10-11T00:00:00+00:00",
                    "2021-10-18T00:00:00+00:00",
                    "2021-10-25T00:00:00+00:00",
                    "2021-11-01T00:00:00+00:00",
                    "2021-11-08T00:00:00+00:00",
                    "2021-11-15T00:00:00+00:00",
                    "2021-11-22T00:00:00+00:00",
                    "2021-11-29T00:00:00+00:00",
                    "2021-12-06T00:00:00+00:00",
                    "2021-12-13T00:00:00+00:00",
                    "2021-12-20T00:00:00+00:00",
                    "2021-12-27T00:00:00+00:00",
                    "2022-01-03T00:00:00+00:00",
                    "2022-01-10T00:00:00+00:00",
                    "2022-01-17T00:00:00+00:00",
                    "2022-01-24T00:00:00+00:00",
                    "2022-01-31T00:00:00+00:00",
                    "2022-02-07T00:00:00+00:00",
                    "2022-02-14T00:00:00+00:00",
                    "2022-02-21T00:00:00+00:00",
                    "2022-02-28T00:00:00+00:00",
                    "2022-03-07T00:00:00+00:00",
                    "2022-03-14T00:00:00+00:00",
                    "2022-03-21T00:00:00+00:00",
                    "2022-03-28T00:00:00+00:00",
                    "2022-04-04T00:00:00+00:00",
                    "2022-04-11T00:00:00+00:00",
                    "2022-04-18T00:00:00+00:00",
                    "2022-04-25T00:00:00+00:00",
                    "2022-05-02T00:00:00+00:00",
                    "2022-05-09T00:00:00+00:00",
                    "2022-05-16T00:00:00+00:00",
                    "2022-05-23T00:00:00+00:00",
                    "2022-05-30T00:00:00+00:00",
                    "2022-06-06T00:00:00+00:00",
                    "2022-06-13T00:00:00+00:00",
                    "2022-06-20T00:00:00+00:00",
                    "2022-06-27T00:00:00+00:00",
                    "2022-07-04T00:00:00+00:00",
                    "2022-07-11T00:00:00+00:00",
                    "2022-07-18T00:00:00+00:00",
                    "2022-07-25T00:00:00+00:00",
                    "2022-08-01T00:00:00+00:00",
                    "2022-08-08T00:00:00+00:00",
                    "2022-08-15T00:00:00+00:00",
                    "2022-08-22T00:00:00+00:00",
                    "2022-08-29T00:00:00+00:00",
                    "2022-09-05T00:00:00+00:00",
                    "2022-09-12T00:00:00+00:00",
                    "2022-09-19T00:00:00+00:00",
                    "2022-09-26T00:00:00+00:00",
                    "2022-10-03T00:00:00+00:00",
                    "2022-10-10T00:00:00+00:00",
                    "2022-10-17T00:00:00+00:00",
                    "2022-10-24T00:00:00+00:00",
                    "2022-10-31T00:00:00+00:00",
                    "2022-11-07T00:00:00+00:00",
                    "2022-11-14T00:00:00+00:00",
                    "2022-11-21T00:00:00+00:00",
                    "2022-11-28T00:00:00+00:00",
                    "2022-12-05T00:00:00+00:00",
                    "2022-12-12T00:00:00+00:00",
                    "2022-12-19T00:00:00+00:00",
                    "2022-12-26T00:00:00+00:00",
                    "2023-01-02T00:00:00+00:00",
                    "2023-01-09T00:00:00+00:00",
                    "2023-01-16T00:00:00+00:00",
                    "2023-01-23T00:00:00+00:00",
                    "2023-01-30T00:00:00+00:00",
                    "2023-02-06T00:00:00+00:00",
                    "2023-02-13T00:00:00+00:00",
                    "2023-02-20T00:00:00+00:00",
                    "2023-02-27T00:00:00+00:00",
                    "2023-03-06T00:00:00+00:00",
                    "2023-03-13T00:00:00+00:00",
                    "2023-03-20T00:00:00+00:00",
                    "2023-03-27T00:00:00+00:00",
                    "2023-04-03T00:00:00+00:00",
                    "2023-04-10T00:00:00+00:00",
                    "2020-05-25T00:00:00+00:00",
                    "2020-06-01T00:00:00+00:00",
                    "2020-06-08T00:00:00+00:00",
                    "2020-06-15T00:00:00+00:00",
                    "2020-06-22T00:00:00+00:00",
                    "2020-06-29T00:00:00+00:00",
                    "2020-07-06T00:00:00+00:00",
                    "2020-07-13T00:00:00+00:00",
                    "2020-07-20T00:00:00+00:00",
                    "2020-07-27T00:00:00+00:00",
                    "2020-08-03T00:00:00+00:00",
                    "2020-08-10T00:00:00+00:00"
                  ],
                  "xaxis": "x",
                  "y": [
                    1.0073084102160381,
                    1.468972945489343,
                    1.265939016907132,
                    1.410626544528067,
                    1.257752626206,
                    1.1586415742862473,
                    1.1401522474592116,
                    1.1099433849066143,
                    1.0629779845231018,
                    1.027703371655073,
                    0.9735965638786653,
                    0.9235723783784023,
                    0.9106342668283379,
                    0.9784280943240955,
                    0.8851391226657513,
                    0.853652340942464,
                    0.8299345867522125,
                    0.7569369228900955,
                    0.6925776637623813,
                    1.0311836572891662,
                    0.8504828940681877,
                    1.6605646525994728,
                    1.810362470161303,
                    1.5890987846944618,
                    1.615427417699289,
                    1.7930414856274173,
                    2.171254016954793,
                    2.266855900409085,
                    2.1437647632781474,
                    1.988207624714962,
                    2.038344687876696,
                    1.819059463420388,
                    2.2683915190410606,
                    1.9700404119630723,
                    1.8150018372532086,
                    1.612729689896336,
                    1.6314922973261268,
                    1.6094671502751752,
                    1.9753278668026437,
                    1.3021226422341499,
                    1.3262462041646004,
                    1.4730612179840648,
                    1.3586272017628422,
                    1.380413982691301,
                    1.1042065747022687,
                    1.0952534910637686,
                    1.1147857732102517,
                    0.986183257314083,
                    0.9726604507870702,
                    1.1555877451682262,
                    1.1428374534303034,
                    1.1713428097543392,
                    1.3566687355255322,
                    1.4439126806405116,
                    1.6009720049836806,
                    1.6344943124152398,
                    1.6751852141211496,
                    1.5879055713392747,
                    1.5752565228707436,
                    1.6374791582782346,
                    1.755676733539035,
                    1.8566011785495236,
                    1.677907853316293,
                    1.9756847352628155,
                    1.7086657089106976,
                    1.6571806923089032,
                    1.4384606988138517,
                    1.2866267621170038,
                    1.3171072270975108,
                    1.1960561916412877,
                    1.2731551797553038,
                    1.3283214305739879,
                    1.298994328071802,
                    1.4036140001770663,
                    1.2023501369429053,
                    1.1519911311327837,
                    1.2015662253142068,
                    1.06248997473818,
                    1.0559014161649551,
                    1.089700256662478,
                    1.0511934368149958,
                    1.127977446425481,
                    1.1040851637915838,
                    1.1265296195748282,
                    1.1471362808852,
                    0.90253798959976,
                    1.0720915590692823,
                    1.1095769464035563,
                    0.9486777416803157,
                    0.928075684830165,
                    0.9604315462699431,
                    0.8716515540688635,
                    0.8484876439115149,
                    0.8403096005736904,
                    0.7735633518355349,
                    0.9332191456631513,
                    0.9328035935338695,
                    0.8666511406978094,
                    0.6966633620317844,
                    0.8278744574762718,
                    0.7934125208141906,
                    0.82853728767215,
                    0.8763339280350988,
                    0.8634904323846953,
                    0.6521954722093107,
                    0.8088010996161011,
                    0.8378436814563185,
                    0.8241434838616991,
                    0.8160886061479327,
                    0.7636672897819929,
                    0.75323035331612,
                    0.6841510510771844,
                    0.7576745429292823,
                    0.7125510410779031,
                    0.7525307915339949,
                    0.7643145012756746,
                    0.7853560197587228,
                    0.7824400806000852,
                    0.741756742584997,
                    0.7550508496569845,
                    0.7211201925978902,
                    0.6792149822184775,
                    0.6431028596794715,
                    0.6337362945378858,
                    0.666716898541338,
                    0.720659998125704,
                    0.7120655645112277,
                    0.7233472019653885,
                    0.7533282635340048,
                    0.7308740032792593,
                    0.7694545431455423,
                    0.7378589696910307,
                    0.6916100409357682,
                    0.6924513303973834,
                    0.6625691622656864,
                    0.6186143933976446,
                    0.6420563606535991,
                    0.6267409200327205,
                    0.6299138458118487,
                    null,
                    null,
                    null,
                    null,
                    null,
                    null,
                    null,
                    null,
                    null,
                    null,
                    null,
                    null
                  ],
                  "yaxis": "y"
                },
                {
                  "hovertemplate": "asset=solana<br>variable=marketcap_dominance<br>timestamp=%{x}<br>value=%{y}<extra></extra>",
                  "legendgroup": "solana",
                  "line": {
                    "color": "#FFA15A",
                    "dash": "solid"
                  },
                  "marker": {
                    "symbol": "circle"
                  },
                  "mode": "lines",
                  "name": "solana",
                  "orientation": "v",
                  "showlegend": true,
                  "type": "scatter",
                  "x": [
                    "2020-04-06T00:00:00+00:00",
                    "2020-04-13T00:00:00+00:00",
                    "2020-04-20T00:00:00+00:00",
                    "2020-04-27T00:00:00+00:00",
                    "2020-05-04T00:00:00+00:00",
                    "2020-05-11T00:00:00+00:00",
                    "2020-05-18T00:00:00+00:00",
                    "2020-05-25T00:00:00+00:00",
                    "2020-06-01T00:00:00+00:00",
                    "2020-06-08T00:00:00+00:00",
                    "2020-06-15T00:00:00+00:00",
                    "2020-06-22T00:00:00+00:00",
                    "2020-06-29T00:00:00+00:00",
                    "2020-07-06T00:00:00+00:00",
                    "2020-07-13T00:00:00+00:00",
                    "2020-07-20T00:00:00+00:00",
                    "2020-07-27T00:00:00+00:00",
                    "2020-08-03T00:00:00+00:00",
                    "2020-08-10T00:00:00+00:00",
                    "2020-08-17T00:00:00+00:00",
                    "2020-08-24T00:00:00+00:00",
                    "2020-08-31T00:00:00+00:00",
                    "2020-09-07T00:00:00+00:00",
                    "2020-09-14T00:00:00+00:00",
                    "2020-09-21T00:00:00+00:00",
                    "2020-09-28T00:00:00+00:00",
                    "2020-10-05T00:00:00+00:00",
                    "2020-10-12T00:00:00+00:00",
                    "2020-10-19T00:00:00+00:00",
                    "2020-10-26T00:00:00+00:00",
                    "2020-11-02T00:00:00+00:00",
                    "2020-11-09T00:00:00+00:00",
                    "2020-11-16T00:00:00+00:00",
                    "2020-11-23T00:00:00+00:00",
                    "2020-11-30T00:00:00+00:00",
                    "2020-12-07T00:00:00+00:00",
                    "2020-12-14T00:00:00+00:00",
                    "2020-12-21T00:00:00+00:00",
                    "2020-12-28T00:00:00+00:00",
                    "2021-01-04T00:00:00+00:00",
                    "2021-01-11T00:00:00+00:00",
                    "2021-01-18T00:00:00+00:00",
                    "2021-01-25T00:00:00+00:00",
                    "2021-02-01T00:00:00+00:00",
                    "2021-02-08T00:00:00+00:00",
                    "2021-02-15T00:00:00+00:00",
                    "2021-02-22T00:00:00+00:00",
                    "2021-03-01T00:00:00+00:00",
                    "2021-03-08T00:00:00+00:00",
                    "2021-03-15T00:00:00+00:00",
                    "2021-03-22T00:00:00+00:00",
                    "2021-03-29T00:00:00+00:00",
                    "2021-04-05T00:00:00+00:00",
                    "2021-04-12T00:00:00+00:00",
                    "2021-04-19T00:00:00+00:00",
                    "2021-04-26T00:00:00+00:00",
                    "2021-05-03T00:00:00+00:00",
                    "2021-05-10T00:00:00+00:00",
                    "2021-05-17T00:00:00+00:00",
                    "2021-05-24T00:00:00+00:00",
                    "2021-05-31T00:00:00+00:00",
                    "2021-06-07T00:00:00+00:00",
                    "2021-06-14T00:00:00+00:00",
                    "2021-06-21T00:00:00+00:00",
                    "2021-06-28T00:00:00+00:00",
                    "2021-07-05T00:00:00+00:00",
                    "2021-07-12T00:00:00+00:00",
                    "2021-07-19T00:00:00+00:00",
                    "2021-07-26T00:00:00+00:00",
                    "2021-08-02T00:00:00+00:00",
                    "2021-08-09T00:00:00+00:00",
                    "2021-08-16T00:00:00+00:00",
                    "2021-08-23T00:00:00+00:00",
                    "2021-08-30T00:00:00+00:00",
                    "2021-09-06T00:00:00+00:00",
                    "2021-09-13T00:00:00+00:00",
                    "2021-09-20T00:00:00+00:00",
                    "2021-09-27T00:00:00+00:00",
                    "2021-10-04T00:00:00+00:00",
                    "2021-10-11T00:00:00+00:00",
                    "2021-10-18T00:00:00+00:00",
                    "2021-10-25T00:00:00+00:00",
                    "2021-11-01T00:00:00+00:00",
                    "2021-11-08T00:00:00+00:00",
                    "2021-11-15T00:00:00+00:00",
                    "2021-11-22T00:00:00+00:00",
                    "2021-11-29T00:00:00+00:00",
                    "2021-12-06T00:00:00+00:00",
                    "2021-12-13T00:00:00+00:00",
                    "2021-12-20T00:00:00+00:00",
                    "2021-12-27T00:00:00+00:00",
                    "2022-01-03T00:00:00+00:00",
                    "2022-01-10T00:00:00+00:00",
                    "2022-01-17T00:00:00+00:00",
                    "2022-01-24T00:00:00+00:00",
                    "2022-01-31T00:00:00+00:00",
                    "2022-02-07T00:00:00+00:00",
                    "2022-02-14T00:00:00+00:00",
                    "2022-02-21T00:00:00+00:00",
                    "2022-02-28T00:00:00+00:00",
                    "2022-03-07T00:00:00+00:00",
                    "2022-03-14T00:00:00+00:00",
                    "2022-03-21T00:00:00+00:00",
                    "2022-03-28T00:00:00+00:00",
                    "2022-04-04T00:00:00+00:00",
                    "2022-04-11T00:00:00+00:00",
                    "2022-04-18T00:00:00+00:00",
                    "2022-04-25T00:00:00+00:00",
                    "2022-05-02T00:00:00+00:00",
                    "2022-05-09T00:00:00+00:00",
                    "2022-05-16T00:00:00+00:00",
                    "2022-05-23T00:00:00+00:00",
                    "2022-05-30T00:00:00+00:00",
                    "2022-06-06T00:00:00+00:00",
                    "2022-06-13T00:00:00+00:00",
                    "2022-06-20T00:00:00+00:00",
                    "2022-06-27T00:00:00+00:00",
                    "2022-07-04T00:00:00+00:00",
                    "2022-07-11T00:00:00+00:00",
                    "2022-07-18T00:00:00+00:00",
                    "2022-07-25T00:00:00+00:00",
                    "2022-08-01T00:00:00+00:00",
                    "2022-08-08T00:00:00+00:00",
                    "2022-08-15T00:00:00+00:00",
                    "2022-08-22T00:00:00+00:00",
                    "2022-08-29T00:00:00+00:00",
                    "2022-09-05T00:00:00+00:00",
                    "2022-09-12T00:00:00+00:00",
                    "2022-09-19T00:00:00+00:00",
                    "2022-09-26T00:00:00+00:00",
                    "2022-10-03T00:00:00+00:00",
                    "2022-10-10T00:00:00+00:00",
                    "2022-10-17T00:00:00+00:00",
                    "2022-10-24T00:00:00+00:00",
                    "2022-10-31T00:00:00+00:00",
                    "2022-11-07T00:00:00+00:00",
                    "2022-11-14T00:00:00+00:00",
                    "2022-11-21T00:00:00+00:00",
                    "2022-11-28T00:00:00+00:00",
                    "2022-12-05T00:00:00+00:00",
                    "2022-12-12T00:00:00+00:00",
                    "2022-12-19T00:00:00+00:00",
                    "2022-12-26T00:00:00+00:00",
                    "2023-01-02T00:00:00+00:00",
                    "2023-01-09T00:00:00+00:00",
                    "2023-01-16T00:00:00+00:00",
                    "2023-01-23T00:00:00+00:00",
                    "2023-01-30T00:00:00+00:00",
                    "2023-02-06T00:00:00+00:00",
                    "2023-02-13T00:00:00+00:00",
                    "2023-02-20T00:00:00+00:00",
                    "2023-02-27T00:00:00+00:00",
                    "2023-03-06T00:00:00+00:00",
                    "2023-03-13T00:00:00+00:00",
                    "2023-03-20T00:00:00+00:00",
                    "2023-03-27T00:00:00+00:00",
                    "2023-04-03T00:00:00+00:00",
                    "2023-04-10T00:00:00+00:00"
                  ],
                  "xaxis": "x",
                  "y": [
                    0.003528246862531553,
                    0.0024932637339836468,
                    0.002433056391598069,
                    0.0022222044164957426,
                    0.0018576392570274416,
                    0.001919481008592215,
                    0.001876411146277307,
                    0.0035824418504108776,
                    0.003728085601953842,
                    0.0037473052409487478,
                    0.00439081334497915,
                    0.005160240234719963,
                    0.004484882919688869,
                    0.0064012648459115425,
                    0.007451462558173902,
                    0.011063905936664026,
                    0.01170408100843193,
                    0.01853942384314128,
                    0.02714404521927205,
                    0.02815241617774265,
                    0.038494510513967184,
                    0.0293293429346522,
                    0.03410490557201172,
                    0.03149898281174124,
                    0.036276515538902265,
                    0.03126621401779921,
                    0.028922451956629316,
                    0.027363326807914822,
                    0.021241338508242356,
                    0.018152770495809017,
                    0.02225072374564493,
                    0.021265091991645498,
                    0.019281145261393472,
                    0.016565516648335835,
                    0.015520238479294471,
                    0.013071038403508527,
                    0.011458270517525003,
                    0.008663134280414526,
                    0.011216155312669496,
                    0.08463281951846299,
                    0.09672278803755695,
                    0.09988922231521655,
                    0.11613545245377528,
                    0.14369543088691872,
                    0.154966188894128,
                    0.16410106331139285,
                    0.2437960168094767,
                    0.22868725144620147,
                    0.216266948436561,
                    0.21148694948307326,
                    0.28027492234972945,
                    0.3406443056413881,
                    0.35856945399669454,
                    0.3805580582159099,
                    0.6573015187017534,
                    0.5856861968682074,
                    0.5031681216297621,
                    0.5930643500976596,
                    0.49076647610845037,
                    0.5043928266698693,
                    0.6898614490784584,
                    0.651044110284846,
                    0.6379569137838186,
                    0.626916064087247,
                    0.6482721181884782,
                    0.6236895705885227,
                    0.5691158559681652,
                    0.5403333681708272,
                    0.5875110296050204,
                    0.5776950857882613,
                    0.7257087293204016,
                    1.0304502153892523,
                    1.4843805096860943,
                    1.9098267586237887,
                    2.4559375354258246,
                    2.2860895306397113,
                    2.1319084304232265,
                    2.4361834165890914,
                    2.00743158510221,
                    1.9645838342031585,
                    2.4365776258397904,
                    2.241426513357896,
                    2.738999367096504,
                    2.5156615523939,
                    2.5343772514908074,
                    2.324448940787658,
                    2.5439373658819138,
                    2.2855302114920253,
                    2.523796740726902,
                    2.4625146596724803,
                    2.4037812500656464,
                    2.2342113303170748,
                    2.1940188122676423,
                    1.8195072058460804,
                    1.7260647988940372,
                    1.878392870560038,
                    1.5873102872149163,
                    1.5890036403439585,
                    1.6038305843589349,
                    1.5985440870489085,
                    1.4961717346109582,
                    1.537064696921149,
                    1.6225277904126694,
                    1.9925875996328903,
                    1.5349547651735185,
                    1.774855325980019,
                    1.800981779199674,
                    1.6719041953614917,
                    1.6084778489419047,
                    1.3515752006506576,
                    1.3349657731087223,
                    1.1819121232314207,
                    1.0538240539998993,
                    0.9963769118707752,
                    1.2910900251893263,
                    1.4740163880333088,
                    1.2896780963811167,
                    1.1170822742036621,
                    1.3892601444501154,
                    1.317287841418842,
                    1.3463185599308025,
                    1.2551218454703774,
                    1.3216758543760367,
                    0.9715302963551874,
                    1.1033404139104777,
                    1.0898498635688065,
                    1.141041750059908,
                    1.1978489002172281,
                    1.2487143596725223,
                    1.1984177382052685,
                    1.0879139243882292,
                    1.1412365921758902,
                    1.0507226388931488,
                    1.1472721786758453,
                    1.2339673584120763,
                    0.6143270505461612,
                    0.554475098219143,
                    0.6125156552592776,
                    0.5644881545463475,
                    0.5755176532643893,
                    0.5588452135715899,
                    0.5122257896506954,
                    0.4542456663193547,
                    0.5808981481030572,
                    0.9017374681581293,
                    0.8712182507260586,
                    0.8427546917715077,
                    0.8283382811233615,
                    0.756840084956113,
                    0.7838569406995789,
                    0.790845834567778,
                    0.775988597370665,
                    0.7244380630300913,
                    0.7032977947125502,
                    0.6748927910736278,
                    0.6750958481401866,
                    0.6514495797294058,
                    0.6543612107520924
                  ],
                  "yaxis": "y"
                }
              ],
              "layout": {
                "height": 500,
                "legend": {
                  "title": {
                    "text": "asset"
                  },
                  "tracegroupgap": 0
                },
                "margin": {
                  "t": 60
                },
                "template": {
                  "data": {
                    "bar": [
                      {
                        "error_x": {
                          "color": "#2a3f5f"
                        },
                        "error_y": {
                          "color": "#2a3f5f"
                        },
                        "marker": {
                          "line": {
                            "color": "#E5ECF6",
                            "width": 0.5
                          },
                          "pattern": {
                            "fillmode": "overlay",
                            "size": 10,
                            "solidity": 0.2
                          }
                        },
                        "type": "bar"
                      }
                    ],
                    "barpolar": [
                      {
                        "marker": {
                          "line": {
                            "color": "#E5ECF6",
                            "width": 0.5
                          },
                          "pattern": {
                            "fillmode": "overlay",
                            "size": 10,
                            "solidity": 0.2
                          }
                        },
                        "type": "barpolar"
                      }
                    ],
                    "carpet": [
                      {
                        "aaxis": {
                          "endlinecolor": "#2a3f5f",
                          "gridcolor": "white",
                          "linecolor": "white",
                          "minorgridcolor": "white",
                          "startlinecolor": "#2a3f5f"
                        },
                        "baxis": {
                          "endlinecolor": "#2a3f5f",
                          "gridcolor": "white",
                          "linecolor": "white",
                          "minorgridcolor": "white",
                          "startlinecolor": "#2a3f5f"
                        },
                        "type": "carpet"
                      }
                    ],
                    "choropleth": [
                      {
                        "colorbar": {
                          "outlinewidth": 0,
                          "ticks": ""
                        },
                        "type": "choropleth"
                      }
                    ],
                    "contour": [
                      {
                        "colorbar": {
                          "outlinewidth": 0,
                          "ticks": ""
                        },
                        "colorscale": [
                          [
                            0,
                            "#0d0887"
                          ],
                          [
                            0.1111111111111111,
                            "#46039f"
                          ],
                          [
                            0.2222222222222222,
                            "#7201a8"
                          ],
                          [
                            0.3333333333333333,
                            "#9c179e"
                          ],
                          [
                            0.4444444444444444,
                            "#bd3786"
                          ],
                          [
                            0.5555555555555556,
                            "#d8576b"
                          ],
                          [
                            0.6666666666666666,
                            "#ed7953"
                          ],
                          [
                            0.7777777777777778,
                            "#fb9f3a"
                          ],
                          [
                            0.8888888888888888,
                            "#fdca26"
                          ],
                          [
                            1,
                            "#f0f921"
                          ]
                        ],
                        "type": "contour"
                      }
                    ],
                    "contourcarpet": [
                      {
                        "colorbar": {
                          "outlinewidth": 0,
                          "ticks": ""
                        },
                        "type": "contourcarpet"
                      }
                    ],
                    "heatmap": [
                      {
                        "colorbar": {
                          "outlinewidth": 0,
                          "ticks": ""
                        },
                        "colorscale": [
                          [
                            0,
                            "#0d0887"
                          ],
                          [
                            0.1111111111111111,
                            "#46039f"
                          ],
                          [
                            0.2222222222222222,
                            "#7201a8"
                          ],
                          [
                            0.3333333333333333,
                            "#9c179e"
                          ],
                          [
                            0.4444444444444444,
                            "#bd3786"
                          ],
                          [
                            0.5555555555555556,
                            "#d8576b"
                          ],
                          [
                            0.6666666666666666,
                            "#ed7953"
                          ],
                          [
                            0.7777777777777778,
                            "#fb9f3a"
                          ],
                          [
                            0.8888888888888888,
                            "#fdca26"
                          ],
                          [
                            1,
                            "#f0f921"
                          ]
                        ],
                        "type": "heatmap"
                      }
                    ],
                    "heatmapgl": [
                      {
                        "colorbar": {
                          "outlinewidth": 0,
                          "ticks": ""
                        },
                        "colorscale": [
                          [
                            0,
                            "#0d0887"
                          ],
                          [
                            0.1111111111111111,
                            "#46039f"
                          ],
                          [
                            0.2222222222222222,
                            "#7201a8"
                          ],
                          [
                            0.3333333333333333,
                            "#9c179e"
                          ],
                          [
                            0.4444444444444444,
                            "#bd3786"
                          ],
                          [
                            0.5555555555555556,
                            "#d8576b"
                          ],
                          [
                            0.6666666666666666,
                            "#ed7953"
                          ],
                          [
                            0.7777777777777778,
                            "#fb9f3a"
                          ],
                          [
                            0.8888888888888888,
                            "#fdca26"
                          ],
                          [
                            1,
                            "#f0f921"
                          ]
                        ],
                        "type": "heatmapgl"
                      }
                    ],
                    "histogram": [
                      {
                        "marker": {
                          "pattern": {
                            "fillmode": "overlay",
                            "size": 10,
                            "solidity": 0.2
                          }
                        },
                        "type": "histogram"
                      }
                    ],
                    "histogram2d": [
                      {
                        "colorbar": {
                          "outlinewidth": 0,
                          "ticks": ""
                        },
                        "colorscale": [
                          [
                            0,
                            "#0d0887"
                          ],
                          [
                            0.1111111111111111,
                            "#46039f"
                          ],
                          [
                            0.2222222222222222,
                            "#7201a8"
                          ],
                          [
                            0.3333333333333333,
                            "#9c179e"
                          ],
                          [
                            0.4444444444444444,
                            "#bd3786"
                          ],
                          [
                            0.5555555555555556,
                            "#d8576b"
                          ],
                          [
                            0.6666666666666666,
                            "#ed7953"
                          ],
                          [
                            0.7777777777777778,
                            "#fb9f3a"
                          ],
                          [
                            0.8888888888888888,
                            "#fdca26"
                          ],
                          [
                            1,
                            "#f0f921"
                          ]
                        ],
                        "type": "histogram2d"
                      }
                    ],
                    "histogram2dcontour": [
                      {
                        "colorbar": {
                          "outlinewidth": 0,
                          "ticks": ""
                        },
                        "colorscale": [
                          [
                            0,
                            "#0d0887"
                          ],
                          [
                            0.1111111111111111,
                            "#46039f"
                          ],
                          [
                            0.2222222222222222,
                            "#7201a8"
                          ],
                          [
                            0.3333333333333333,
                            "#9c179e"
                          ],
                          [
                            0.4444444444444444,
                            "#bd3786"
                          ],
                          [
                            0.5555555555555556,
                            "#d8576b"
                          ],
                          [
                            0.6666666666666666,
                            "#ed7953"
                          ],
                          [
                            0.7777777777777778,
                            "#fb9f3a"
                          ],
                          [
                            0.8888888888888888,
                            "#fdca26"
                          ],
                          [
                            1,
                            "#f0f921"
                          ]
                        ],
                        "type": "histogram2dcontour"
                      }
                    ],
                    "mesh3d": [
                      {
                        "colorbar": {
                          "outlinewidth": 0,
                          "ticks": ""
                        },
                        "type": "mesh3d"
                      }
                    ],
                    "parcoords": [
                      {
                        "line": {
                          "colorbar": {
                            "outlinewidth": 0,
                            "ticks": ""
                          }
                        },
                        "type": "parcoords"
                      }
                    ],
                    "pie": [
                      {
                        "automargin": true,
                        "type": "pie"
                      }
                    ],
                    "scatter": [
                      {
                        "fillpattern": {
                          "fillmode": "overlay",
                          "size": 10,
                          "solidity": 0.2
                        },
                        "type": "scatter"
                      }
                    ],
                    "scatter3d": [
                      {
                        "line": {
                          "colorbar": {
                            "outlinewidth": 0,
                            "ticks": ""
                          }
                        },
                        "marker": {
                          "colorbar": {
                            "outlinewidth": 0,
                            "ticks": ""
                          }
                        },
                        "type": "scatter3d"
                      }
                    ],
                    "scattercarpet": [
                      {
                        "marker": {
                          "colorbar": {
                            "outlinewidth": 0,
                            "ticks": ""
                          }
                        },
                        "type": "scattercarpet"
                      }
                    ],
                    "scattergeo": [
                      {
                        "marker": {
                          "colorbar": {
                            "outlinewidth": 0,
                            "ticks": ""
                          }
                        },
                        "type": "scattergeo"
                      }
                    ],
                    "scattergl": [
                      {
                        "marker": {
                          "colorbar": {
                            "outlinewidth": 0,
                            "ticks": ""
                          }
                        },
                        "type": "scattergl"
                      }
                    ],
                    "scattermapbox": [
                      {
                        "marker": {
                          "colorbar": {
                            "outlinewidth": 0,
                            "ticks": ""
                          }
                        },
                        "type": "scattermapbox"
                      }
                    ],
                    "scatterpolar": [
                      {
                        "marker": {
                          "colorbar": {
                            "outlinewidth": 0,
                            "ticks": ""
                          }
                        },
                        "type": "scatterpolar"
                      }
                    ],
                    "scatterpolargl": [
                      {
                        "marker": {
                          "colorbar": {
                            "outlinewidth": 0,
                            "ticks": ""
                          }
                        },
                        "type": "scatterpolargl"
                      }
                    ],
                    "scatterternary": [
                      {
                        "marker": {
                          "colorbar": {
                            "outlinewidth": 0,
                            "ticks": ""
                          }
                        },
                        "type": "scatterternary"
                      }
                    ],
                    "surface": [
                      {
                        "colorbar": {
                          "outlinewidth": 0,
                          "ticks": ""
                        },
                        "colorscale": [
                          [
                            0,
                            "#0d0887"
                          ],
                          [
                            0.1111111111111111,
                            "#46039f"
                          ],
                          [
                            0.2222222222222222,
                            "#7201a8"
                          ],
                          [
                            0.3333333333333333,
                            "#9c179e"
                          ],
                          [
                            0.4444444444444444,
                            "#bd3786"
                          ],
                          [
                            0.5555555555555556,
                            "#d8576b"
                          ],
                          [
                            0.6666666666666666,
                            "#ed7953"
                          ],
                          [
                            0.7777777777777778,
                            "#fb9f3a"
                          ],
                          [
                            0.8888888888888888,
                            "#fdca26"
                          ],
                          [
                            1,
                            "#f0f921"
                          ]
                        ],
                        "type": "surface"
                      }
                    ],
                    "table": [
                      {
                        "cells": {
                          "fill": {
                            "color": "#EBF0F8"
                          },
                          "line": {
                            "color": "white"
                          }
                        },
                        "header": {
                          "fill": {
                            "color": "#C8D4E3"
                          },
                          "line": {
                            "color": "white"
                          }
                        },
                        "type": "table"
                      }
                    ]
                  },
                  "layout": {
                    "annotationdefaults": {
                      "arrowcolor": "#2a3f5f",
                      "arrowhead": 0,
                      "arrowwidth": 1
                    },
                    "autotypenumbers": "strict",
                    "coloraxis": {
                      "colorbar": {
                        "outlinewidth": 0,
                        "ticks": ""
                      }
                    },
                    "colorscale": {
                      "diverging": [
                        [
                          0,
                          "#8e0152"
                        ],
                        [
                          0.1,
                          "#c51b7d"
                        ],
                        [
                          0.2,
                          "#de77ae"
                        ],
                        [
                          0.3,
                          "#f1b6da"
                        ],
                        [
                          0.4,
                          "#fde0ef"
                        ],
                        [
                          0.5,
                          "#f7f7f7"
                        ],
                        [
                          0.6,
                          "#e6f5d0"
                        ],
                        [
                          0.7,
                          "#b8e186"
                        ],
                        [
                          0.8,
                          "#7fbc41"
                        ],
                        [
                          0.9,
                          "#4d9221"
                        ],
                        [
                          1,
                          "#276419"
                        ]
                      ],
                      "sequential": [
                        [
                          0,
                          "#0d0887"
                        ],
                        [
                          0.1111111111111111,
                          "#46039f"
                        ],
                        [
                          0.2222222222222222,
                          "#7201a8"
                        ],
                        [
                          0.3333333333333333,
                          "#9c179e"
                        ],
                        [
                          0.4444444444444444,
                          "#bd3786"
                        ],
                        [
                          0.5555555555555556,
                          "#d8576b"
                        ],
                        [
                          0.6666666666666666,
                          "#ed7953"
                        ],
                        [
                          0.7777777777777778,
                          "#fb9f3a"
                        ],
                        [
                          0.8888888888888888,
                          "#fdca26"
                        ],
                        [
                          1,
                          "#f0f921"
                        ]
                      ],
                      "sequentialminus": [
                        [
                          0,
                          "#0d0887"
                        ],
                        [
                          0.1111111111111111,
                          "#46039f"
                        ],
                        [
                          0.2222222222222222,
                          "#7201a8"
                        ],
                        [
                          0.3333333333333333,
                          "#9c179e"
                        ],
                        [
                          0.4444444444444444,
                          "#bd3786"
                        ],
                        [
                          0.5555555555555556,
                          "#d8576b"
                        ],
                        [
                          0.6666666666666666,
                          "#ed7953"
                        ],
                        [
                          0.7777777777777778,
                          "#fb9f3a"
                        ],
                        [
                          0.8888888888888888,
                          "#fdca26"
                        ],
                        [
                          1,
                          "#f0f921"
                        ]
                      ]
                    },
                    "colorway": [
                      "#636efa",
                      "#EF553B",
                      "#00cc96",
                      "#ab63fa",
                      "#FFA15A",
                      "#19d3f3",
                      "#FF6692",
                      "#B6E880",
                      "#FF97FF",
                      "#FECB52"
                    ],
                    "font": {
                      "color": "#2a3f5f"
                    },
                    "geo": {
                      "bgcolor": "white",
                      "lakecolor": "white",
                      "landcolor": "#E5ECF6",
                      "showlakes": true,
                      "showland": true,
                      "subunitcolor": "white"
                    },
                    "hoverlabel": {
                      "align": "left"
                    },
                    "hovermode": "closest",
                    "mapbox": {
                      "style": "light"
                    },
                    "paper_bgcolor": "white",
                    "plot_bgcolor": "#E5ECF6",
                    "polar": {
                      "angularaxis": {
                        "gridcolor": "white",
                        "linecolor": "white",
                        "ticks": ""
                      },
                      "bgcolor": "#E5ECF6",
                      "radialaxis": {
                        "gridcolor": "white",
                        "linecolor": "white",
                        "ticks": ""
                      }
                    },
                    "scene": {
                      "xaxis": {
                        "backgroundcolor": "#E5ECF6",
                        "gridcolor": "white",
                        "gridwidth": 2,
                        "linecolor": "white",
                        "showbackground": true,
                        "ticks": "",
                        "zerolinecolor": "white"
                      },
                      "yaxis": {
                        "backgroundcolor": "#E5ECF6",
                        "gridcolor": "white",
                        "gridwidth": 2,
                        "linecolor": "white",
                        "showbackground": true,
                        "ticks": "",
                        "zerolinecolor": "white"
                      },
                      "zaxis": {
                        "backgroundcolor": "#E5ECF6",
                        "gridcolor": "white",
                        "gridwidth": 2,
                        "linecolor": "white",
                        "showbackground": true,
                        "ticks": "",
                        "zerolinecolor": "white"
                      }
                    },
                    "shapedefaults": {
                      "line": {
                        "color": "#2a3f5f"
                      }
                    },
                    "ternary": {
                      "aaxis": {
                        "gridcolor": "white",
                        "linecolor": "white",
                        "ticks": ""
                      },
                      "baxis": {
                        "gridcolor": "white",
                        "linecolor": "white",
                        "ticks": ""
                      },
                      "bgcolor": "#E5ECF6",
                      "caxis": {
                        "gridcolor": "white",
                        "linecolor": "white",
                        "ticks": ""
                      }
                    },
                    "title": {
                      "x": 0.05
                    },
                    "xaxis": {
                      "automargin": true,
                      "gridcolor": "white",
                      "linecolor": "white",
                      "ticks": "",
                      "title": {
                        "standoff": 15
                      },
                      "zerolinecolor": "white",
                      "zerolinewidth": 2
                    },
                    "yaxis": {
                      "automargin": true,
                      "gridcolor": "white",
                      "linecolor": "white",
                      "ticks": "",
                      "title": {
                        "standoff": 15
                      },
                      "zerolinecolor": "white",
                      "zerolinewidth": 2
                    }
                  }
                },
                "xaxis": {
                  "anchor": "y",
                  "domain": [
                    0,
                    1
                  ],
                  "title": {
                    "text": "timestamp"
                  }
                },
                "yaxis": {
                  "anchor": "x",
                  "domain": [
                    0,
                    1
                  ],
                  "title": {
                    "text": "value"
                  }
                }
              }
            }
          },
          "metadata": {},
          "output_type": "display_data"
        }
      ],
      "source": [
        "import plotly.express as px\n",
        "\n",
        "fig = px.line(df, x=\"timestamp\", y=[\"marketcap_dominance\"], color=\"asset\").update_layout(height=500)   #, facet_row=\"subset\"\n",
        "fig.show()"
      ]
    },
    {
      "cell_type": "code",
      "execution_count": 212,
      "metadata": {},
      "outputs": [
        {
          "data": {
            "application/vnd.plotly.v1+json": {
              "config": {
                "plotlyServerURL": "https://plot.ly"
              },
              "data": [
                {
                  "domain": {
                    "x": [
                      0,
                      1
                    ],
                    "y": [
                      0,
                      1
                    ]
                  },
                  "hovertemplate": "asset=%{label}<br>circulating_marketcap=%{value}<extra></extra>",
                  "labels": [
                    "bitcoin",
                    "cardano",
                    "ethereum",
                    "polkadot",
                    "solana"
                  ],
                  "legendgroup": "",
                  "name": "",
                  "showlegend": true,
                  "textfont": {
                    "size": 12
                  },
                  "textinfo": "value",
                  "textposition": "inside",
                  "type": "pie",
                  "values": [
                    624000452080.972,
                    5988531886.68002,
                    102343643217.06673,
                    9029413529.12357,
                    98212674.15273763
                  ]
                }
              ],
              "layout": {
                "height": 500,
                "legend": {
                  "tracegroupgap": 0
                },
                "margin": {
                  "t": 60
                },
                "template": {
                  "data": {
                    "bar": [
                      {
                        "error_x": {
                          "color": "#2a3f5f"
                        },
                        "error_y": {
                          "color": "#2a3f5f"
                        },
                        "marker": {
                          "line": {
                            "color": "#E5ECF6",
                            "width": 0.5
                          },
                          "pattern": {
                            "fillmode": "overlay",
                            "size": 10,
                            "solidity": 0.2
                          }
                        },
                        "type": "bar"
                      }
                    ],
                    "barpolar": [
                      {
                        "marker": {
                          "line": {
                            "color": "#E5ECF6",
                            "width": 0.5
                          },
                          "pattern": {
                            "fillmode": "overlay",
                            "size": 10,
                            "solidity": 0.2
                          }
                        },
                        "type": "barpolar"
                      }
                    ],
                    "carpet": [
                      {
                        "aaxis": {
                          "endlinecolor": "#2a3f5f",
                          "gridcolor": "white",
                          "linecolor": "white",
                          "minorgridcolor": "white",
                          "startlinecolor": "#2a3f5f"
                        },
                        "baxis": {
                          "endlinecolor": "#2a3f5f",
                          "gridcolor": "white",
                          "linecolor": "white",
                          "minorgridcolor": "white",
                          "startlinecolor": "#2a3f5f"
                        },
                        "type": "carpet"
                      }
                    ],
                    "choropleth": [
                      {
                        "colorbar": {
                          "outlinewidth": 0,
                          "ticks": ""
                        },
                        "type": "choropleth"
                      }
                    ],
                    "contour": [
                      {
                        "colorbar": {
                          "outlinewidth": 0,
                          "ticks": ""
                        },
                        "colorscale": [
                          [
                            0,
                            "#0d0887"
                          ],
                          [
                            0.1111111111111111,
                            "#46039f"
                          ],
                          [
                            0.2222222222222222,
                            "#7201a8"
                          ],
                          [
                            0.3333333333333333,
                            "#9c179e"
                          ],
                          [
                            0.4444444444444444,
                            "#bd3786"
                          ],
                          [
                            0.5555555555555556,
                            "#d8576b"
                          ],
                          [
                            0.6666666666666666,
                            "#ed7953"
                          ],
                          [
                            0.7777777777777778,
                            "#fb9f3a"
                          ],
                          [
                            0.8888888888888888,
                            "#fdca26"
                          ],
                          [
                            1,
                            "#f0f921"
                          ]
                        ],
                        "type": "contour"
                      }
                    ],
                    "contourcarpet": [
                      {
                        "colorbar": {
                          "outlinewidth": 0,
                          "ticks": ""
                        },
                        "type": "contourcarpet"
                      }
                    ],
                    "heatmap": [
                      {
                        "colorbar": {
                          "outlinewidth": 0,
                          "ticks": ""
                        },
                        "colorscale": [
                          [
                            0,
                            "#0d0887"
                          ],
                          [
                            0.1111111111111111,
                            "#46039f"
                          ],
                          [
                            0.2222222222222222,
                            "#7201a8"
                          ],
                          [
                            0.3333333333333333,
                            "#9c179e"
                          ],
                          [
                            0.4444444444444444,
                            "#bd3786"
                          ],
                          [
                            0.5555555555555556,
                            "#d8576b"
                          ],
                          [
                            0.6666666666666666,
                            "#ed7953"
                          ],
                          [
                            0.7777777777777778,
                            "#fb9f3a"
                          ],
                          [
                            0.8888888888888888,
                            "#fdca26"
                          ],
                          [
                            1,
                            "#f0f921"
                          ]
                        ],
                        "type": "heatmap"
                      }
                    ],
                    "heatmapgl": [
                      {
                        "colorbar": {
                          "outlinewidth": 0,
                          "ticks": ""
                        },
                        "colorscale": [
                          [
                            0,
                            "#0d0887"
                          ],
                          [
                            0.1111111111111111,
                            "#46039f"
                          ],
                          [
                            0.2222222222222222,
                            "#7201a8"
                          ],
                          [
                            0.3333333333333333,
                            "#9c179e"
                          ],
                          [
                            0.4444444444444444,
                            "#bd3786"
                          ],
                          [
                            0.5555555555555556,
                            "#d8576b"
                          ],
                          [
                            0.6666666666666666,
                            "#ed7953"
                          ],
                          [
                            0.7777777777777778,
                            "#fb9f3a"
                          ],
                          [
                            0.8888888888888888,
                            "#fdca26"
                          ],
                          [
                            1,
                            "#f0f921"
                          ]
                        ],
                        "type": "heatmapgl"
                      }
                    ],
                    "histogram": [
                      {
                        "marker": {
                          "pattern": {
                            "fillmode": "overlay",
                            "size": 10,
                            "solidity": 0.2
                          }
                        },
                        "type": "histogram"
                      }
                    ],
                    "histogram2d": [
                      {
                        "colorbar": {
                          "outlinewidth": 0,
                          "ticks": ""
                        },
                        "colorscale": [
                          [
                            0,
                            "#0d0887"
                          ],
                          [
                            0.1111111111111111,
                            "#46039f"
                          ],
                          [
                            0.2222222222222222,
                            "#7201a8"
                          ],
                          [
                            0.3333333333333333,
                            "#9c179e"
                          ],
                          [
                            0.4444444444444444,
                            "#bd3786"
                          ],
                          [
                            0.5555555555555556,
                            "#d8576b"
                          ],
                          [
                            0.6666666666666666,
                            "#ed7953"
                          ],
                          [
                            0.7777777777777778,
                            "#fb9f3a"
                          ],
                          [
                            0.8888888888888888,
                            "#fdca26"
                          ],
                          [
                            1,
                            "#f0f921"
                          ]
                        ],
                        "type": "histogram2d"
                      }
                    ],
                    "histogram2dcontour": [
                      {
                        "colorbar": {
                          "outlinewidth": 0,
                          "ticks": ""
                        },
                        "colorscale": [
                          [
                            0,
                            "#0d0887"
                          ],
                          [
                            0.1111111111111111,
                            "#46039f"
                          ],
                          [
                            0.2222222222222222,
                            "#7201a8"
                          ],
                          [
                            0.3333333333333333,
                            "#9c179e"
                          ],
                          [
                            0.4444444444444444,
                            "#bd3786"
                          ],
                          [
                            0.5555555555555556,
                            "#d8576b"
                          ],
                          [
                            0.6666666666666666,
                            "#ed7953"
                          ],
                          [
                            0.7777777777777778,
                            "#fb9f3a"
                          ],
                          [
                            0.8888888888888888,
                            "#fdca26"
                          ],
                          [
                            1,
                            "#f0f921"
                          ]
                        ],
                        "type": "histogram2dcontour"
                      }
                    ],
                    "mesh3d": [
                      {
                        "colorbar": {
                          "outlinewidth": 0,
                          "ticks": ""
                        },
                        "type": "mesh3d"
                      }
                    ],
                    "parcoords": [
                      {
                        "line": {
                          "colorbar": {
                            "outlinewidth": 0,
                            "ticks": ""
                          }
                        },
                        "type": "parcoords"
                      }
                    ],
                    "pie": [
                      {
                        "automargin": true,
                        "type": "pie"
                      }
                    ],
                    "scatter": [
                      {
                        "fillpattern": {
                          "fillmode": "overlay",
                          "size": 10,
                          "solidity": 0.2
                        },
                        "type": "scatter"
                      }
                    ],
                    "scatter3d": [
                      {
                        "line": {
                          "colorbar": {
                            "outlinewidth": 0,
                            "ticks": ""
                          }
                        },
                        "marker": {
                          "colorbar": {
                            "outlinewidth": 0,
                            "ticks": ""
                          }
                        },
                        "type": "scatter3d"
                      }
                    ],
                    "scattercarpet": [
                      {
                        "marker": {
                          "colorbar": {
                            "outlinewidth": 0,
                            "ticks": ""
                          }
                        },
                        "type": "scattercarpet"
                      }
                    ],
                    "scattergeo": [
                      {
                        "marker": {
                          "colorbar": {
                            "outlinewidth": 0,
                            "ticks": ""
                          }
                        },
                        "type": "scattergeo"
                      }
                    ],
                    "scattergl": [
                      {
                        "marker": {
                          "colorbar": {
                            "outlinewidth": 0,
                            "ticks": ""
                          }
                        },
                        "type": "scattergl"
                      }
                    ],
                    "scattermapbox": [
                      {
                        "marker": {
                          "colorbar": {
                            "outlinewidth": 0,
                            "ticks": ""
                          }
                        },
                        "type": "scattermapbox"
                      }
                    ],
                    "scatterpolar": [
                      {
                        "marker": {
                          "colorbar": {
                            "outlinewidth": 0,
                            "ticks": ""
                          }
                        },
                        "type": "scatterpolar"
                      }
                    ],
                    "scatterpolargl": [
                      {
                        "marker": {
                          "colorbar": {
                            "outlinewidth": 0,
                            "ticks": ""
                          }
                        },
                        "type": "scatterpolargl"
                      }
                    ],
                    "scatterternary": [
                      {
                        "marker": {
                          "colorbar": {
                            "outlinewidth": 0,
                            "ticks": ""
                          }
                        },
                        "type": "scatterternary"
                      }
                    ],
                    "surface": [
                      {
                        "colorbar": {
                          "outlinewidth": 0,
                          "ticks": ""
                        },
                        "colorscale": [
                          [
                            0,
                            "#0d0887"
                          ],
                          [
                            0.1111111111111111,
                            "#46039f"
                          ],
                          [
                            0.2222222222222222,
                            "#7201a8"
                          ],
                          [
                            0.3333333333333333,
                            "#9c179e"
                          ],
                          [
                            0.4444444444444444,
                            "#bd3786"
                          ],
                          [
                            0.5555555555555556,
                            "#d8576b"
                          ],
                          [
                            0.6666666666666666,
                            "#ed7953"
                          ],
                          [
                            0.7777777777777778,
                            "#fb9f3a"
                          ],
                          [
                            0.8888888888888888,
                            "#fdca26"
                          ],
                          [
                            1,
                            "#f0f921"
                          ]
                        ],
                        "type": "surface"
                      }
                    ],
                    "table": [
                      {
                        "cells": {
                          "fill": {
                            "color": "#EBF0F8"
                          },
                          "line": {
                            "color": "white"
                          }
                        },
                        "header": {
                          "fill": {
                            "color": "#C8D4E3"
                          },
                          "line": {
                            "color": "white"
                          }
                        },
                        "type": "table"
                      }
                    ]
                  },
                  "layout": {
                    "annotationdefaults": {
                      "arrowcolor": "#2a3f5f",
                      "arrowhead": 0,
                      "arrowwidth": 1
                    },
                    "autotypenumbers": "strict",
                    "coloraxis": {
                      "colorbar": {
                        "outlinewidth": 0,
                        "ticks": ""
                      }
                    },
                    "colorscale": {
                      "diverging": [
                        [
                          0,
                          "#8e0152"
                        ],
                        [
                          0.1,
                          "#c51b7d"
                        ],
                        [
                          0.2,
                          "#de77ae"
                        ],
                        [
                          0.3,
                          "#f1b6da"
                        ],
                        [
                          0.4,
                          "#fde0ef"
                        ],
                        [
                          0.5,
                          "#f7f7f7"
                        ],
                        [
                          0.6,
                          "#e6f5d0"
                        ],
                        [
                          0.7,
                          "#b8e186"
                        ],
                        [
                          0.8,
                          "#7fbc41"
                        ],
                        [
                          0.9,
                          "#4d9221"
                        ],
                        [
                          1,
                          "#276419"
                        ]
                      ],
                      "sequential": [
                        [
                          0,
                          "#0d0887"
                        ],
                        [
                          0.1111111111111111,
                          "#46039f"
                        ],
                        [
                          0.2222222222222222,
                          "#7201a8"
                        ],
                        [
                          0.3333333333333333,
                          "#9c179e"
                        ],
                        [
                          0.4444444444444444,
                          "#bd3786"
                        ],
                        [
                          0.5555555555555556,
                          "#d8576b"
                        ],
                        [
                          0.6666666666666666,
                          "#ed7953"
                        ],
                        [
                          0.7777777777777778,
                          "#fb9f3a"
                        ],
                        [
                          0.8888888888888888,
                          "#fdca26"
                        ],
                        [
                          1,
                          "#f0f921"
                        ]
                      ],
                      "sequentialminus": [
                        [
                          0,
                          "#0d0887"
                        ],
                        [
                          0.1111111111111111,
                          "#46039f"
                        ],
                        [
                          0.2222222222222222,
                          "#7201a8"
                        ],
                        [
                          0.3333333333333333,
                          "#9c179e"
                        ],
                        [
                          0.4444444444444444,
                          "#bd3786"
                        ],
                        [
                          0.5555555555555556,
                          "#d8576b"
                        ],
                        [
                          0.6666666666666666,
                          "#ed7953"
                        ],
                        [
                          0.7777777777777778,
                          "#fb9f3a"
                        ],
                        [
                          0.8888888888888888,
                          "#fdca26"
                        ],
                        [
                          1,
                          "#f0f921"
                        ]
                      ]
                    },
                    "colorway": [
                      "#636efa",
                      "#EF553B",
                      "#00cc96",
                      "#ab63fa",
                      "#FFA15A",
                      "#19d3f3",
                      "#FF6692",
                      "#B6E880",
                      "#FF97FF",
                      "#FECB52"
                    ],
                    "font": {
                      "color": "#2a3f5f"
                    },
                    "geo": {
                      "bgcolor": "white",
                      "lakecolor": "white",
                      "landcolor": "#E5ECF6",
                      "showlakes": true,
                      "showland": true,
                      "subunitcolor": "white"
                    },
                    "hoverlabel": {
                      "align": "left"
                    },
                    "hovermode": "closest",
                    "mapbox": {
                      "style": "light"
                    },
                    "paper_bgcolor": "white",
                    "plot_bgcolor": "#E5ECF6",
                    "polar": {
                      "angularaxis": {
                        "gridcolor": "white",
                        "linecolor": "white",
                        "ticks": ""
                      },
                      "bgcolor": "#E5ECF6",
                      "radialaxis": {
                        "gridcolor": "white",
                        "linecolor": "white",
                        "ticks": ""
                      }
                    },
                    "scene": {
                      "xaxis": {
                        "backgroundcolor": "#E5ECF6",
                        "gridcolor": "white",
                        "gridwidth": 2,
                        "linecolor": "white",
                        "showbackground": true,
                        "ticks": "",
                        "zerolinecolor": "white"
                      },
                      "yaxis": {
                        "backgroundcolor": "#E5ECF6",
                        "gridcolor": "white",
                        "gridwidth": 2,
                        "linecolor": "white",
                        "showbackground": true,
                        "ticks": "",
                        "zerolinecolor": "white"
                      },
                      "zaxis": {
                        "backgroundcolor": "#E5ECF6",
                        "gridcolor": "white",
                        "gridwidth": 2,
                        "linecolor": "white",
                        "showbackground": true,
                        "ticks": "",
                        "zerolinecolor": "white"
                      }
                    },
                    "shapedefaults": {
                      "line": {
                        "color": "#2a3f5f"
                      }
                    },
                    "ternary": {
                      "aaxis": {
                        "gridcolor": "white",
                        "linecolor": "white",
                        "ticks": ""
                      },
                      "baxis": {
                        "gridcolor": "white",
                        "linecolor": "white",
                        "ticks": ""
                      },
                      "bgcolor": "#E5ECF6",
                      "caxis": {
                        "gridcolor": "white",
                        "linecolor": "white",
                        "ticks": ""
                      }
                    },
                    "title": {
                      "x": 0.05
                    },
                    "xaxis": {
                      "automargin": true,
                      "gridcolor": "white",
                      "linecolor": "white",
                      "ticks": "",
                      "title": {
                        "standoff": 15
                      },
                      "zerolinecolor": "white",
                      "zerolinewidth": 2
                    },
                    "yaxis": {
                      "automargin": true,
                      "gridcolor": "white",
                      "linecolor": "white",
                      "ticks": "",
                      "title": {
                        "standoff": 15
                      },
                      "zerolinecolor": "white",
                      "zerolinewidth": 2
                    }
                  }
                },
                "title": {
                  "text": "Circ. Market Cap(2020)"
                },
                "width": 500
              }
            }
          },
          "metadata": {},
          "output_type": "display_data"
        },
        {
          "data": {
            "application/vnd.plotly.v1+json": {
              "config": {
                "plotlyServerURL": "https://plot.ly"
              },
              "data": [
                {
                  "domain": {
                    "x": [
                      0,
                      1
                    ],
                    "y": [
                      0,
                      1
                    ]
                  },
                  "hovertemplate": "asset=%{label}<br>circulating_marketcap=%{value}<extra></extra>",
                  "labels": [
                    "bitcoin",
                    "cardano",
                    "ethereum",
                    "polkadot",
                    "solana"
                  ],
                  "legendgroup": "",
                  "name": "",
                  "showlegend": true,
                  "textfont": {
                    "size": 12
                  },
                  "textinfo": "value",
                  "textposition": "inside",
                  "type": "pie",
                  "values": [
                    902989145591.7068,
                    46185359131.01412,
                    448107617195.4944,
                    30612958947.94139,
                    55398381020.09156
                  ]
                }
              ],
              "layout": {
                "height": 500,
                "legend": {
                  "tracegroupgap": 0
                },
                "margin": {
                  "t": 60
                },
                "template": {
                  "data": {
                    "bar": [
                      {
                        "error_x": {
                          "color": "#2a3f5f"
                        },
                        "error_y": {
                          "color": "#2a3f5f"
                        },
                        "marker": {
                          "line": {
                            "color": "#E5ECF6",
                            "width": 0.5
                          },
                          "pattern": {
                            "fillmode": "overlay",
                            "size": 10,
                            "solidity": 0.2
                          }
                        },
                        "type": "bar"
                      }
                    ],
                    "barpolar": [
                      {
                        "marker": {
                          "line": {
                            "color": "#E5ECF6",
                            "width": 0.5
                          },
                          "pattern": {
                            "fillmode": "overlay",
                            "size": 10,
                            "solidity": 0.2
                          }
                        },
                        "type": "barpolar"
                      }
                    ],
                    "carpet": [
                      {
                        "aaxis": {
                          "endlinecolor": "#2a3f5f",
                          "gridcolor": "white",
                          "linecolor": "white",
                          "minorgridcolor": "white",
                          "startlinecolor": "#2a3f5f"
                        },
                        "baxis": {
                          "endlinecolor": "#2a3f5f",
                          "gridcolor": "white",
                          "linecolor": "white",
                          "minorgridcolor": "white",
                          "startlinecolor": "#2a3f5f"
                        },
                        "type": "carpet"
                      }
                    ],
                    "choropleth": [
                      {
                        "colorbar": {
                          "outlinewidth": 0,
                          "ticks": ""
                        },
                        "type": "choropleth"
                      }
                    ],
                    "contour": [
                      {
                        "colorbar": {
                          "outlinewidth": 0,
                          "ticks": ""
                        },
                        "colorscale": [
                          [
                            0,
                            "#0d0887"
                          ],
                          [
                            0.1111111111111111,
                            "#46039f"
                          ],
                          [
                            0.2222222222222222,
                            "#7201a8"
                          ],
                          [
                            0.3333333333333333,
                            "#9c179e"
                          ],
                          [
                            0.4444444444444444,
                            "#bd3786"
                          ],
                          [
                            0.5555555555555556,
                            "#d8576b"
                          ],
                          [
                            0.6666666666666666,
                            "#ed7953"
                          ],
                          [
                            0.7777777777777778,
                            "#fb9f3a"
                          ],
                          [
                            0.8888888888888888,
                            "#fdca26"
                          ],
                          [
                            1,
                            "#f0f921"
                          ]
                        ],
                        "type": "contour"
                      }
                    ],
                    "contourcarpet": [
                      {
                        "colorbar": {
                          "outlinewidth": 0,
                          "ticks": ""
                        },
                        "type": "contourcarpet"
                      }
                    ],
                    "heatmap": [
                      {
                        "colorbar": {
                          "outlinewidth": 0,
                          "ticks": ""
                        },
                        "colorscale": [
                          [
                            0,
                            "#0d0887"
                          ],
                          [
                            0.1111111111111111,
                            "#46039f"
                          ],
                          [
                            0.2222222222222222,
                            "#7201a8"
                          ],
                          [
                            0.3333333333333333,
                            "#9c179e"
                          ],
                          [
                            0.4444444444444444,
                            "#bd3786"
                          ],
                          [
                            0.5555555555555556,
                            "#d8576b"
                          ],
                          [
                            0.6666666666666666,
                            "#ed7953"
                          ],
                          [
                            0.7777777777777778,
                            "#fb9f3a"
                          ],
                          [
                            0.8888888888888888,
                            "#fdca26"
                          ],
                          [
                            1,
                            "#f0f921"
                          ]
                        ],
                        "type": "heatmap"
                      }
                    ],
                    "heatmapgl": [
                      {
                        "colorbar": {
                          "outlinewidth": 0,
                          "ticks": ""
                        },
                        "colorscale": [
                          [
                            0,
                            "#0d0887"
                          ],
                          [
                            0.1111111111111111,
                            "#46039f"
                          ],
                          [
                            0.2222222222222222,
                            "#7201a8"
                          ],
                          [
                            0.3333333333333333,
                            "#9c179e"
                          ],
                          [
                            0.4444444444444444,
                            "#bd3786"
                          ],
                          [
                            0.5555555555555556,
                            "#d8576b"
                          ],
                          [
                            0.6666666666666666,
                            "#ed7953"
                          ],
                          [
                            0.7777777777777778,
                            "#fb9f3a"
                          ],
                          [
                            0.8888888888888888,
                            "#fdca26"
                          ],
                          [
                            1,
                            "#f0f921"
                          ]
                        ],
                        "type": "heatmapgl"
                      }
                    ],
                    "histogram": [
                      {
                        "marker": {
                          "pattern": {
                            "fillmode": "overlay",
                            "size": 10,
                            "solidity": 0.2
                          }
                        },
                        "type": "histogram"
                      }
                    ],
                    "histogram2d": [
                      {
                        "colorbar": {
                          "outlinewidth": 0,
                          "ticks": ""
                        },
                        "colorscale": [
                          [
                            0,
                            "#0d0887"
                          ],
                          [
                            0.1111111111111111,
                            "#46039f"
                          ],
                          [
                            0.2222222222222222,
                            "#7201a8"
                          ],
                          [
                            0.3333333333333333,
                            "#9c179e"
                          ],
                          [
                            0.4444444444444444,
                            "#bd3786"
                          ],
                          [
                            0.5555555555555556,
                            "#d8576b"
                          ],
                          [
                            0.6666666666666666,
                            "#ed7953"
                          ],
                          [
                            0.7777777777777778,
                            "#fb9f3a"
                          ],
                          [
                            0.8888888888888888,
                            "#fdca26"
                          ],
                          [
                            1,
                            "#f0f921"
                          ]
                        ],
                        "type": "histogram2d"
                      }
                    ],
                    "histogram2dcontour": [
                      {
                        "colorbar": {
                          "outlinewidth": 0,
                          "ticks": ""
                        },
                        "colorscale": [
                          [
                            0,
                            "#0d0887"
                          ],
                          [
                            0.1111111111111111,
                            "#46039f"
                          ],
                          [
                            0.2222222222222222,
                            "#7201a8"
                          ],
                          [
                            0.3333333333333333,
                            "#9c179e"
                          ],
                          [
                            0.4444444444444444,
                            "#bd3786"
                          ],
                          [
                            0.5555555555555556,
                            "#d8576b"
                          ],
                          [
                            0.6666666666666666,
                            "#ed7953"
                          ],
                          [
                            0.7777777777777778,
                            "#fb9f3a"
                          ],
                          [
                            0.8888888888888888,
                            "#fdca26"
                          ],
                          [
                            1,
                            "#f0f921"
                          ]
                        ],
                        "type": "histogram2dcontour"
                      }
                    ],
                    "mesh3d": [
                      {
                        "colorbar": {
                          "outlinewidth": 0,
                          "ticks": ""
                        },
                        "type": "mesh3d"
                      }
                    ],
                    "parcoords": [
                      {
                        "line": {
                          "colorbar": {
                            "outlinewidth": 0,
                            "ticks": ""
                          }
                        },
                        "type": "parcoords"
                      }
                    ],
                    "pie": [
                      {
                        "automargin": true,
                        "type": "pie"
                      }
                    ],
                    "scatter": [
                      {
                        "fillpattern": {
                          "fillmode": "overlay",
                          "size": 10,
                          "solidity": 0.2
                        },
                        "type": "scatter"
                      }
                    ],
                    "scatter3d": [
                      {
                        "line": {
                          "colorbar": {
                            "outlinewidth": 0,
                            "ticks": ""
                          }
                        },
                        "marker": {
                          "colorbar": {
                            "outlinewidth": 0,
                            "ticks": ""
                          }
                        },
                        "type": "scatter3d"
                      }
                    ],
                    "scattercarpet": [
                      {
                        "marker": {
                          "colorbar": {
                            "outlinewidth": 0,
                            "ticks": ""
                          }
                        },
                        "type": "scattercarpet"
                      }
                    ],
                    "scattergeo": [
                      {
                        "marker": {
                          "colorbar": {
                            "outlinewidth": 0,
                            "ticks": ""
                          }
                        },
                        "type": "scattergeo"
                      }
                    ],
                    "scattergl": [
                      {
                        "marker": {
                          "colorbar": {
                            "outlinewidth": 0,
                            "ticks": ""
                          }
                        },
                        "type": "scattergl"
                      }
                    ],
                    "scattermapbox": [
                      {
                        "marker": {
                          "colorbar": {
                            "outlinewidth": 0,
                            "ticks": ""
                          }
                        },
                        "type": "scattermapbox"
                      }
                    ],
                    "scatterpolar": [
                      {
                        "marker": {
                          "colorbar": {
                            "outlinewidth": 0,
                            "ticks": ""
                          }
                        },
                        "type": "scatterpolar"
                      }
                    ],
                    "scatterpolargl": [
                      {
                        "marker": {
                          "colorbar": {
                            "outlinewidth": 0,
                            "ticks": ""
                          }
                        },
                        "type": "scatterpolargl"
                      }
                    ],
                    "scatterternary": [
                      {
                        "marker": {
                          "colorbar": {
                            "outlinewidth": 0,
                            "ticks": ""
                          }
                        },
                        "type": "scatterternary"
                      }
                    ],
                    "surface": [
                      {
                        "colorbar": {
                          "outlinewidth": 0,
                          "ticks": ""
                        },
                        "colorscale": [
                          [
                            0,
                            "#0d0887"
                          ],
                          [
                            0.1111111111111111,
                            "#46039f"
                          ],
                          [
                            0.2222222222222222,
                            "#7201a8"
                          ],
                          [
                            0.3333333333333333,
                            "#9c179e"
                          ],
                          [
                            0.4444444444444444,
                            "#bd3786"
                          ],
                          [
                            0.5555555555555556,
                            "#d8576b"
                          ],
                          [
                            0.6666666666666666,
                            "#ed7953"
                          ],
                          [
                            0.7777777777777778,
                            "#fb9f3a"
                          ],
                          [
                            0.8888888888888888,
                            "#fdca26"
                          ],
                          [
                            1,
                            "#f0f921"
                          ]
                        ],
                        "type": "surface"
                      }
                    ],
                    "table": [
                      {
                        "cells": {
                          "fill": {
                            "color": "#EBF0F8"
                          },
                          "line": {
                            "color": "white"
                          }
                        },
                        "header": {
                          "fill": {
                            "color": "#C8D4E3"
                          },
                          "line": {
                            "color": "white"
                          }
                        },
                        "type": "table"
                      }
                    ]
                  },
                  "layout": {
                    "annotationdefaults": {
                      "arrowcolor": "#2a3f5f",
                      "arrowhead": 0,
                      "arrowwidth": 1
                    },
                    "autotypenumbers": "strict",
                    "coloraxis": {
                      "colorbar": {
                        "outlinewidth": 0,
                        "ticks": ""
                      }
                    },
                    "colorscale": {
                      "diverging": [
                        [
                          0,
                          "#8e0152"
                        ],
                        [
                          0.1,
                          "#c51b7d"
                        ],
                        [
                          0.2,
                          "#de77ae"
                        ],
                        [
                          0.3,
                          "#f1b6da"
                        ],
                        [
                          0.4,
                          "#fde0ef"
                        ],
                        [
                          0.5,
                          "#f7f7f7"
                        ],
                        [
                          0.6,
                          "#e6f5d0"
                        ],
                        [
                          0.7,
                          "#b8e186"
                        ],
                        [
                          0.8,
                          "#7fbc41"
                        ],
                        [
                          0.9,
                          "#4d9221"
                        ],
                        [
                          1,
                          "#276419"
                        ]
                      ],
                      "sequential": [
                        [
                          0,
                          "#0d0887"
                        ],
                        [
                          0.1111111111111111,
                          "#46039f"
                        ],
                        [
                          0.2222222222222222,
                          "#7201a8"
                        ],
                        [
                          0.3333333333333333,
                          "#9c179e"
                        ],
                        [
                          0.4444444444444444,
                          "#bd3786"
                        ],
                        [
                          0.5555555555555556,
                          "#d8576b"
                        ],
                        [
                          0.6666666666666666,
                          "#ed7953"
                        ],
                        [
                          0.7777777777777778,
                          "#fb9f3a"
                        ],
                        [
                          0.8888888888888888,
                          "#fdca26"
                        ],
                        [
                          1,
                          "#f0f921"
                        ]
                      ],
                      "sequentialminus": [
                        [
                          0,
                          "#0d0887"
                        ],
                        [
                          0.1111111111111111,
                          "#46039f"
                        ],
                        [
                          0.2222222222222222,
                          "#7201a8"
                        ],
                        [
                          0.3333333333333333,
                          "#9c179e"
                        ],
                        [
                          0.4444444444444444,
                          "#bd3786"
                        ],
                        [
                          0.5555555555555556,
                          "#d8576b"
                        ],
                        [
                          0.6666666666666666,
                          "#ed7953"
                        ],
                        [
                          0.7777777777777778,
                          "#fb9f3a"
                        ],
                        [
                          0.8888888888888888,
                          "#fdca26"
                        ],
                        [
                          1,
                          "#f0f921"
                        ]
                      ]
                    },
                    "colorway": [
                      "#636efa",
                      "#EF553B",
                      "#00cc96",
                      "#ab63fa",
                      "#FFA15A",
                      "#19d3f3",
                      "#FF6692",
                      "#B6E880",
                      "#FF97FF",
                      "#FECB52"
                    ],
                    "font": {
                      "color": "#2a3f5f"
                    },
                    "geo": {
                      "bgcolor": "white",
                      "lakecolor": "white",
                      "landcolor": "#E5ECF6",
                      "showlakes": true,
                      "showland": true,
                      "subunitcolor": "white"
                    },
                    "hoverlabel": {
                      "align": "left"
                    },
                    "hovermode": "closest",
                    "mapbox": {
                      "style": "light"
                    },
                    "paper_bgcolor": "white",
                    "plot_bgcolor": "#E5ECF6",
                    "polar": {
                      "angularaxis": {
                        "gridcolor": "white",
                        "linecolor": "white",
                        "ticks": ""
                      },
                      "bgcolor": "#E5ECF6",
                      "radialaxis": {
                        "gridcolor": "white",
                        "linecolor": "white",
                        "ticks": ""
                      }
                    },
                    "scene": {
                      "xaxis": {
                        "backgroundcolor": "#E5ECF6",
                        "gridcolor": "white",
                        "gridwidth": 2,
                        "linecolor": "white",
                        "showbackground": true,
                        "ticks": "",
                        "zerolinecolor": "white"
                      },
                      "yaxis": {
                        "backgroundcolor": "#E5ECF6",
                        "gridcolor": "white",
                        "gridwidth": 2,
                        "linecolor": "white",
                        "showbackground": true,
                        "ticks": "",
                        "zerolinecolor": "white"
                      },
                      "zaxis": {
                        "backgroundcolor": "#E5ECF6",
                        "gridcolor": "white",
                        "gridwidth": 2,
                        "linecolor": "white",
                        "showbackground": true,
                        "ticks": "",
                        "zerolinecolor": "white"
                      }
                    },
                    "shapedefaults": {
                      "line": {
                        "color": "#2a3f5f"
                      }
                    },
                    "ternary": {
                      "aaxis": {
                        "gridcolor": "white",
                        "linecolor": "white",
                        "ticks": ""
                      },
                      "baxis": {
                        "gridcolor": "white",
                        "linecolor": "white",
                        "ticks": ""
                      },
                      "bgcolor": "#E5ECF6",
                      "caxis": {
                        "gridcolor": "white",
                        "linecolor": "white",
                        "ticks": ""
                      }
                    },
                    "title": {
                      "x": 0.05
                    },
                    "xaxis": {
                      "automargin": true,
                      "gridcolor": "white",
                      "linecolor": "white",
                      "ticks": "",
                      "title": {
                        "standoff": 15
                      },
                      "zerolinecolor": "white",
                      "zerolinewidth": 2
                    },
                    "yaxis": {
                      "automargin": true,
                      "gridcolor": "white",
                      "linecolor": "white",
                      "ticks": "",
                      "title": {
                        "standoff": 15
                      },
                      "zerolinecolor": "white",
                      "zerolinewidth": 2
                    }
                  }
                },
                "title": {
                  "text": "Circ. Market Cap(2021)"
                },
                "width": 500
              }
            }
          },
          "metadata": {},
          "output_type": "display_data"
        },
        {
          "data": {
            "application/vnd.plotly.v1+json": {
              "config": {
                "plotlyServerURL": "https://plot.ly"
              },
              "data": [
                {
                  "domain": {
                    "x": [
                      0,
                      1
                    ],
                    "y": [
                      0,
                      1
                    ]
                  },
                  "hovertemplate": "asset=%{label}<br>circulating_marketcap=%{value}<extra></extra>",
                  "labels": [
                    "bitcoin",
                    "cardano",
                    "ethereum",
                    "polkadot",
                    "solana"
                  ],
                  "legendgroup": "",
                  "name": "",
                  "showlegend": true,
                  "textfont": {
                    "size": 12
                  },
                  "textinfo": "value",
                  "textposition": "inside",
                  "type": "pie",
                  "values": [
                    318253871435.0472,
                    8475788713.226227,
                    144080308220.72894,
                    5113383528.608204,
                    3665140103.4128237
                  ]
                }
              ],
              "layout": {
                "height": 500,
                "legend": {
                  "tracegroupgap": 0
                },
                "margin": {
                  "t": 60
                },
                "template": {
                  "data": {
                    "bar": [
                      {
                        "error_x": {
                          "color": "#2a3f5f"
                        },
                        "error_y": {
                          "color": "#2a3f5f"
                        },
                        "marker": {
                          "line": {
                            "color": "#E5ECF6",
                            "width": 0.5
                          },
                          "pattern": {
                            "fillmode": "overlay",
                            "size": 10,
                            "solidity": 0.2
                          }
                        },
                        "type": "bar"
                      }
                    ],
                    "barpolar": [
                      {
                        "marker": {
                          "line": {
                            "color": "#E5ECF6",
                            "width": 0.5
                          },
                          "pattern": {
                            "fillmode": "overlay",
                            "size": 10,
                            "solidity": 0.2
                          }
                        },
                        "type": "barpolar"
                      }
                    ],
                    "carpet": [
                      {
                        "aaxis": {
                          "endlinecolor": "#2a3f5f",
                          "gridcolor": "white",
                          "linecolor": "white",
                          "minorgridcolor": "white",
                          "startlinecolor": "#2a3f5f"
                        },
                        "baxis": {
                          "endlinecolor": "#2a3f5f",
                          "gridcolor": "white",
                          "linecolor": "white",
                          "minorgridcolor": "white",
                          "startlinecolor": "#2a3f5f"
                        },
                        "type": "carpet"
                      }
                    ],
                    "choropleth": [
                      {
                        "colorbar": {
                          "outlinewidth": 0,
                          "ticks": ""
                        },
                        "type": "choropleth"
                      }
                    ],
                    "contour": [
                      {
                        "colorbar": {
                          "outlinewidth": 0,
                          "ticks": ""
                        },
                        "colorscale": [
                          [
                            0,
                            "#0d0887"
                          ],
                          [
                            0.1111111111111111,
                            "#46039f"
                          ],
                          [
                            0.2222222222222222,
                            "#7201a8"
                          ],
                          [
                            0.3333333333333333,
                            "#9c179e"
                          ],
                          [
                            0.4444444444444444,
                            "#bd3786"
                          ],
                          [
                            0.5555555555555556,
                            "#d8576b"
                          ],
                          [
                            0.6666666666666666,
                            "#ed7953"
                          ],
                          [
                            0.7777777777777778,
                            "#fb9f3a"
                          ],
                          [
                            0.8888888888888888,
                            "#fdca26"
                          ],
                          [
                            1,
                            "#f0f921"
                          ]
                        ],
                        "type": "contour"
                      }
                    ],
                    "contourcarpet": [
                      {
                        "colorbar": {
                          "outlinewidth": 0,
                          "ticks": ""
                        },
                        "type": "contourcarpet"
                      }
                    ],
                    "heatmap": [
                      {
                        "colorbar": {
                          "outlinewidth": 0,
                          "ticks": ""
                        },
                        "colorscale": [
                          [
                            0,
                            "#0d0887"
                          ],
                          [
                            0.1111111111111111,
                            "#46039f"
                          ],
                          [
                            0.2222222222222222,
                            "#7201a8"
                          ],
                          [
                            0.3333333333333333,
                            "#9c179e"
                          ],
                          [
                            0.4444444444444444,
                            "#bd3786"
                          ],
                          [
                            0.5555555555555556,
                            "#d8576b"
                          ],
                          [
                            0.6666666666666666,
                            "#ed7953"
                          ],
                          [
                            0.7777777777777778,
                            "#fb9f3a"
                          ],
                          [
                            0.8888888888888888,
                            "#fdca26"
                          ],
                          [
                            1,
                            "#f0f921"
                          ]
                        ],
                        "type": "heatmap"
                      }
                    ],
                    "heatmapgl": [
                      {
                        "colorbar": {
                          "outlinewidth": 0,
                          "ticks": ""
                        },
                        "colorscale": [
                          [
                            0,
                            "#0d0887"
                          ],
                          [
                            0.1111111111111111,
                            "#46039f"
                          ],
                          [
                            0.2222222222222222,
                            "#7201a8"
                          ],
                          [
                            0.3333333333333333,
                            "#9c179e"
                          ],
                          [
                            0.4444444444444444,
                            "#bd3786"
                          ],
                          [
                            0.5555555555555556,
                            "#d8576b"
                          ],
                          [
                            0.6666666666666666,
                            "#ed7953"
                          ],
                          [
                            0.7777777777777778,
                            "#fb9f3a"
                          ],
                          [
                            0.8888888888888888,
                            "#fdca26"
                          ],
                          [
                            1,
                            "#f0f921"
                          ]
                        ],
                        "type": "heatmapgl"
                      }
                    ],
                    "histogram": [
                      {
                        "marker": {
                          "pattern": {
                            "fillmode": "overlay",
                            "size": 10,
                            "solidity": 0.2
                          }
                        },
                        "type": "histogram"
                      }
                    ],
                    "histogram2d": [
                      {
                        "colorbar": {
                          "outlinewidth": 0,
                          "ticks": ""
                        },
                        "colorscale": [
                          [
                            0,
                            "#0d0887"
                          ],
                          [
                            0.1111111111111111,
                            "#46039f"
                          ],
                          [
                            0.2222222222222222,
                            "#7201a8"
                          ],
                          [
                            0.3333333333333333,
                            "#9c179e"
                          ],
                          [
                            0.4444444444444444,
                            "#bd3786"
                          ],
                          [
                            0.5555555555555556,
                            "#d8576b"
                          ],
                          [
                            0.6666666666666666,
                            "#ed7953"
                          ],
                          [
                            0.7777777777777778,
                            "#fb9f3a"
                          ],
                          [
                            0.8888888888888888,
                            "#fdca26"
                          ],
                          [
                            1,
                            "#f0f921"
                          ]
                        ],
                        "type": "histogram2d"
                      }
                    ],
                    "histogram2dcontour": [
                      {
                        "colorbar": {
                          "outlinewidth": 0,
                          "ticks": ""
                        },
                        "colorscale": [
                          [
                            0,
                            "#0d0887"
                          ],
                          [
                            0.1111111111111111,
                            "#46039f"
                          ],
                          [
                            0.2222222222222222,
                            "#7201a8"
                          ],
                          [
                            0.3333333333333333,
                            "#9c179e"
                          ],
                          [
                            0.4444444444444444,
                            "#bd3786"
                          ],
                          [
                            0.5555555555555556,
                            "#d8576b"
                          ],
                          [
                            0.6666666666666666,
                            "#ed7953"
                          ],
                          [
                            0.7777777777777778,
                            "#fb9f3a"
                          ],
                          [
                            0.8888888888888888,
                            "#fdca26"
                          ],
                          [
                            1,
                            "#f0f921"
                          ]
                        ],
                        "type": "histogram2dcontour"
                      }
                    ],
                    "mesh3d": [
                      {
                        "colorbar": {
                          "outlinewidth": 0,
                          "ticks": ""
                        },
                        "type": "mesh3d"
                      }
                    ],
                    "parcoords": [
                      {
                        "line": {
                          "colorbar": {
                            "outlinewidth": 0,
                            "ticks": ""
                          }
                        },
                        "type": "parcoords"
                      }
                    ],
                    "pie": [
                      {
                        "automargin": true,
                        "type": "pie"
                      }
                    ],
                    "scatter": [
                      {
                        "fillpattern": {
                          "fillmode": "overlay",
                          "size": 10,
                          "solidity": 0.2
                        },
                        "type": "scatter"
                      }
                    ],
                    "scatter3d": [
                      {
                        "line": {
                          "colorbar": {
                            "outlinewidth": 0,
                            "ticks": ""
                          }
                        },
                        "marker": {
                          "colorbar": {
                            "outlinewidth": 0,
                            "ticks": ""
                          }
                        },
                        "type": "scatter3d"
                      }
                    ],
                    "scattercarpet": [
                      {
                        "marker": {
                          "colorbar": {
                            "outlinewidth": 0,
                            "ticks": ""
                          }
                        },
                        "type": "scattercarpet"
                      }
                    ],
                    "scattergeo": [
                      {
                        "marker": {
                          "colorbar": {
                            "outlinewidth": 0,
                            "ticks": ""
                          }
                        },
                        "type": "scattergeo"
                      }
                    ],
                    "scattergl": [
                      {
                        "marker": {
                          "colorbar": {
                            "outlinewidth": 0,
                            "ticks": ""
                          }
                        },
                        "type": "scattergl"
                      }
                    ],
                    "scattermapbox": [
                      {
                        "marker": {
                          "colorbar": {
                            "outlinewidth": 0,
                            "ticks": ""
                          }
                        },
                        "type": "scattermapbox"
                      }
                    ],
                    "scatterpolar": [
                      {
                        "marker": {
                          "colorbar": {
                            "outlinewidth": 0,
                            "ticks": ""
                          }
                        },
                        "type": "scatterpolar"
                      }
                    ],
                    "scatterpolargl": [
                      {
                        "marker": {
                          "colorbar": {
                            "outlinewidth": 0,
                            "ticks": ""
                          }
                        },
                        "type": "scatterpolargl"
                      }
                    ],
                    "scatterternary": [
                      {
                        "marker": {
                          "colorbar": {
                            "outlinewidth": 0,
                            "ticks": ""
                          }
                        },
                        "type": "scatterternary"
                      }
                    ],
                    "surface": [
                      {
                        "colorbar": {
                          "outlinewidth": 0,
                          "ticks": ""
                        },
                        "colorscale": [
                          [
                            0,
                            "#0d0887"
                          ],
                          [
                            0.1111111111111111,
                            "#46039f"
                          ],
                          [
                            0.2222222222222222,
                            "#7201a8"
                          ],
                          [
                            0.3333333333333333,
                            "#9c179e"
                          ],
                          [
                            0.4444444444444444,
                            "#bd3786"
                          ],
                          [
                            0.5555555555555556,
                            "#d8576b"
                          ],
                          [
                            0.6666666666666666,
                            "#ed7953"
                          ],
                          [
                            0.7777777777777778,
                            "#fb9f3a"
                          ],
                          [
                            0.8888888888888888,
                            "#fdca26"
                          ],
                          [
                            1,
                            "#f0f921"
                          ]
                        ],
                        "type": "surface"
                      }
                    ],
                    "table": [
                      {
                        "cells": {
                          "fill": {
                            "color": "#EBF0F8"
                          },
                          "line": {
                            "color": "white"
                          }
                        },
                        "header": {
                          "fill": {
                            "color": "#C8D4E3"
                          },
                          "line": {
                            "color": "white"
                          }
                        },
                        "type": "table"
                      }
                    ]
                  },
                  "layout": {
                    "annotationdefaults": {
                      "arrowcolor": "#2a3f5f",
                      "arrowhead": 0,
                      "arrowwidth": 1
                    },
                    "autotypenumbers": "strict",
                    "coloraxis": {
                      "colorbar": {
                        "outlinewidth": 0,
                        "ticks": ""
                      }
                    },
                    "colorscale": {
                      "diverging": [
                        [
                          0,
                          "#8e0152"
                        ],
                        [
                          0.1,
                          "#c51b7d"
                        ],
                        [
                          0.2,
                          "#de77ae"
                        ],
                        [
                          0.3,
                          "#f1b6da"
                        ],
                        [
                          0.4,
                          "#fde0ef"
                        ],
                        [
                          0.5,
                          "#f7f7f7"
                        ],
                        [
                          0.6,
                          "#e6f5d0"
                        ],
                        [
                          0.7,
                          "#b8e186"
                        ],
                        [
                          0.8,
                          "#7fbc41"
                        ],
                        [
                          0.9,
                          "#4d9221"
                        ],
                        [
                          1,
                          "#276419"
                        ]
                      ],
                      "sequential": [
                        [
                          0,
                          "#0d0887"
                        ],
                        [
                          0.1111111111111111,
                          "#46039f"
                        ],
                        [
                          0.2222222222222222,
                          "#7201a8"
                        ],
                        [
                          0.3333333333333333,
                          "#9c179e"
                        ],
                        [
                          0.4444444444444444,
                          "#bd3786"
                        ],
                        [
                          0.5555555555555556,
                          "#d8576b"
                        ],
                        [
                          0.6666666666666666,
                          "#ed7953"
                        ],
                        [
                          0.7777777777777778,
                          "#fb9f3a"
                        ],
                        [
                          0.8888888888888888,
                          "#fdca26"
                        ],
                        [
                          1,
                          "#f0f921"
                        ]
                      ],
                      "sequentialminus": [
                        [
                          0,
                          "#0d0887"
                        ],
                        [
                          0.1111111111111111,
                          "#46039f"
                        ],
                        [
                          0.2222222222222222,
                          "#7201a8"
                        ],
                        [
                          0.3333333333333333,
                          "#9c179e"
                        ],
                        [
                          0.4444444444444444,
                          "#bd3786"
                        ],
                        [
                          0.5555555555555556,
                          "#d8576b"
                        ],
                        [
                          0.6666666666666666,
                          "#ed7953"
                        ],
                        [
                          0.7777777777777778,
                          "#fb9f3a"
                        ],
                        [
                          0.8888888888888888,
                          "#fdca26"
                        ],
                        [
                          1,
                          "#f0f921"
                        ]
                      ]
                    },
                    "colorway": [
                      "#636efa",
                      "#EF553B",
                      "#00cc96",
                      "#ab63fa",
                      "#FFA15A",
                      "#19d3f3",
                      "#FF6692",
                      "#B6E880",
                      "#FF97FF",
                      "#FECB52"
                    ],
                    "font": {
                      "color": "#2a3f5f"
                    },
                    "geo": {
                      "bgcolor": "white",
                      "lakecolor": "white",
                      "landcolor": "#E5ECF6",
                      "showlakes": true,
                      "showland": true,
                      "subunitcolor": "white"
                    },
                    "hoverlabel": {
                      "align": "left"
                    },
                    "hovermode": "closest",
                    "mapbox": {
                      "style": "light"
                    },
                    "paper_bgcolor": "white",
                    "plot_bgcolor": "#E5ECF6",
                    "polar": {
                      "angularaxis": {
                        "gridcolor": "white",
                        "linecolor": "white",
                        "ticks": ""
                      },
                      "bgcolor": "#E5ECF6",
                      "radialaxis": {
                        "gridcolor": "white",
                        "linecolor": "white",
                        "ticks": ""
                      }
                    },
                    "scene": {
                      "xaxis": {
                        "backgroundcolor": "#E5ECF6",
                        "gridcolor": "white",
                        "gridwidth": 2,
                        "linecolor": "white",
                        "showbackground": true,
                        "ticks": "",
                        "zerolinecolor": "white"
                      },
                      "yaxis": {
                        "backgroundcolor": "#E5ECF6",
                        "gridcolor": "white",
                        "gridwidth": 2,
                        "linecolor": "white",
                        "showbackground": true,
                        "ticks": "",
                        "zerolinecolor": "white"
                      },
                      "zaxis": {
                        "backgroundcolor": "#E5ECF6",
                        "gridcolor": "white",
                        "gridwidth": 2,
                        "linecolor": "white",
                        "showbackground": true,
                        "ticks": "",
                        "zerolinecolor": "white"
                      }
                    },
                    "shapedefaults": {
                      "line": {
                        "color": "#2a3f5f"
                      }
                    },
                    "ternary": {
                      "aaxis": {
                        "gridcolor": "white",
                        "linecolor": "white",
                        "ticks": ""
                      },
                      "baxis": {
                        "gridcolor": "white",
                        "linecolor": "white",
                        "ticks": ""
                      },
                      "bgcolor": "#E5ECF6",
                      "caxis": {
                        "gridcolor": "white",
                        "linecolor": "white",
                        "ticks": ""
                      }
                    },
                    "title": {
                      "x": 0.05
                    },
                    "xaxis": {
                      "automargin": true,
                      "gridcolor": "white",
                      "linecolor": "white",
                      "ticks": "",
                      "title": {
                        "standoff": 15
                      },
                      "zerolinecolor": "white",
                      "zerolinewidth": 2
                    },
                    "yaxis": {
                      "automargin": true,
                      "gridcolor": "white",
                      "linecolor": "white",
                      "ticks": "",
                      "title": {
                        "standoff": 15
                      },
                      "zerolinecolor": "white",
                      "zerolinewidth": 2
                    }
                  }
                },
                "title": {
                  "text": "Circ. Market Cap(2022)"
                },
                "width": 500
              }
            }
          },
          "metadata": {},
          "output_type": "display_data"
        },
        {
          "data": {
            "application/vnd.plotly.v1+json": {
              "config": {
                "plotlyServerURL": "https://plot.ly"
              },
              "data": [
                {
                  "domain": {
                    "x": [
                      0,
                      1
                    ],
                    "y": [
                      0,
                      1
                    ]
                  },
                  "hovertemplate": "asset=%{label}<br>circulating_marketcap=%{value}<extra></extra>",
                  "labels": [
                    "bitcoin",
                    "cardano",
                    "ethereum",
                    "polkadot",
                    "solana"
                  ],
                  "legendgroup": "",
                  "name": "",
                  "showlegend": true,
                  "textfont": {
                    "size": 12
                  },
                  "textinfo": "value",
                  "textposition": "inside",
                  "type": "pie",
                  "values": [
                    548322237109.24945,
                    13548908024.789566,
                    224040826539.442,
                    7587513340.100155,
                    7881989654.357586
                  ]
                }
              ],
              "layout": {
                "height": 500,
                "legend": {
                  "tracegroupgap": 0
                },
                "margin": {
                  "t": 60
                },
                "template": {
                  "data": {
                    "bar": [
                      {
                        "error_x": {
                          "color": "#2a3f5f"
                        },
                        "error_y": {
                          "color": "#2a3f5f"
                        },
                        "marker": {
                          "line": {
                            "color": "#E5ECF6",
                            "width": 0.5
                          },
                          "pattern": {
                            "fillmode": "overlay",
                            "size": 10,
                            "solidity": 0.2
                          }
                        },
                        "type": "bar"
                      }
                    ],
                    "barpolar": [
                      {
                        "marker": {
                          "line": {
                            "color": "#E5ECF6",
                            "width": 0.5
                          },
                          "pattern": {
                            "fillmode": "overlay",
                            "size": 10,
                            "solidity": 0.2
                          }
                        },
                        "type": "barpolar"
                      }
                    ],
                    "carpet": [
                      {
                        "aaxis": {
                          "endlinecolor": "#2a3f5f",
                          "gridcolor": "white",
                          "linecolor": "white",
                          "minorgridcolor": "white",
                          "startlinecolor": "#2a3f5f"
                        },
                        "baxis": {
                          "endlinecolor": "#2a3f5f",
                          "gridcolor": "white",
                          "linecolor": "white",
                          "minorgridcolor": "white",
                          "startlinecolor": "#2a3f5f"
                        },
                        "type": "carpet"
                      }
                    ],
                    "choropleth": [
                      {
                        "colorbar": {
                          "outlinewidth": 0,
                          "ticks": ""
                        },
                        "type": "choropleth"
                      }
                    ],
                    "contour": [
                      {
                        "colorbar": {
                          "outlinewidth": 0,
                          "ticks": ""
                        },
                        "colorscale": [
                          [
                            0,
                            "#0d0887"
                          ],
                          [
                            0.1111111111111111,
                            "#46039f"
                          ],
                          [
                            0.2222222222222222,
                            "#7201a8"
                          ],
                          [
                            0.3333333333333333,
                            "#9c179e"
                          ],
                          [
                            0.4444444444444444,
                            "#bd3786"
                          ],
                          [
                            0.5555555555555556,
                            "#d8576b"
                          ],
                          [
                            0.6666666666666666,
                            "#ed7953"
                          ],
                          [
                            0.7777777777777778,
                            "#fb9f3a"
                          ],
                          [
                            0.8888888888888888,
                            "#fdca26"
                          ],
                          [
                            1,
                            "#f0f921"
                          ]
                        ],
                        "type": "contour"
                      }
                    ],
                    "contourcarpet": [
                      {
                        "colorbar": {
                          "outlinewidth": 0,
                          "ticks": ""
                        },
                        "type": "contourcarpet"
                      }
                    ],
                    "heatmap": [
                      {
                        "colorbar": {
                          "outlinewidth": 0,
                          "ticks": ""
                        },
                        "colorscale": [
                          [
                            0,
                            "#0d0887"
                          ],
                          [
                            0.1111111111111111,
                            "#46039f"
                          ],
                          [
                            0.2222222222222222,
                            "#7201a8"
                          ],
                          [
                            0.3333333333333333,
                            "#9c179e"
                          ],
                          [
                            0.4444444444444444,
                            "#bd3786"
                          ],
                          [
                            0.5555555555555556,
                            "#d8576b"
                          ],
                          [
                            0.6666666666666666,
                            "#ed7953"
                          ],
                          [
                            0.7777777777777778,
                            "#fb9f3a"
                          ],
                          [
                            0.8888888888888888,
                            "#fdca26"
                          ],
                          [
                            1,
                            "#f0f921"
                          ]
                        ],
                        "type": "heatmap"
                      }
                    ],
                    "heatmapgl": [
                      {
                        "colorbar": {
                          "outlinewidth": 0,
                          "ticks": ""
                        },
                        "colorscale": [
                          [
                            0,
                            "#0d0887"
                          ],
                          [
                            0.1111111111111111,
                            "#46039f"
                          ],
                          [
                            0.2222222222222222,
                            "#7201a8"
                          ],
                          [
                            0.3333333333333333,
                            "#9c179e"
                          ],
                          [
                            0.4444444444444444,
                            "#bd3786"
                          ],
                          [
                            0.5555555555555556,
                            "#d8576b"
                          ],
                          [
                            0.6666666666666666,
                            "#ed7953"
                          ],
                          [
                            0.7777777777777778,
                            "#fb9f3a"
                          ],
                          [
                            0.8888888888888888,
                            "#fdca26"
                          ],
                          [
                            1,
                            "#f0f921"
                          ]
                        ],
                        "type": "heatmapgl"
                      }
                    ],
                    "histogram": [
                      {
                        "marker": {
                          "pattern": {
                            "fillmode": "overlay",
                            "size": 10,
                            "solidity": 0.2
                          }
                        },
                        "type": "histogram"
                      }
                    ],
                    "histogram2d": [
                      {
                        "colorbar": {
                          "outlinewidth": 0,
                          "ticks": ""
                        },
                        "colorscale": [
                          [
                            0,
                            "#0d0887"
                          ],
                          [
                            0.1111111111111111,
                            "#46039f"
                          ],
                          [
                            0.2222222222222222,
                            "#7201a8"
                          ],
                          [
                            0.3333333333333333,
                            "#9c179e"
                          ],
                          [
                            0.4444444444444444,
                            "#bd3786"
                          ],
                          [
                            0.5555555555555556,
                            "#d8576b"
                          ],
                          [
                            0.6666666666666666,
                            "#ed7953"
                          ],
                          [
                            0.7777777777777778,
                            "#fb9f3a"
                          ],
                          [
                            0.8888888888888888,
                            "#fdca26"
                          ],
                          [
                            1,
                            "#f0f921"
                          ]
                        ],
                        "type": "histogram2d"
                      }
                    ],
                    "histogram2dcontour": [
                      {
                        "colorbar": {
                          "outlinewidth": 0,
                          "ticks": ""
                        },
                        "colorscale": [
                          [
                            0,
                            "#0d0887"
                          ],
                          [
                            0.1111111111111111,
                            "#46039f"
                          ],
                          [
                            0.2222222222222222,
                            "#7201a8"
                          ],
                          [
                            0.3333333333333333,
                            "#9c179e"
                          ],
                          [
                            0.4444444444444444,
                            "#bd3786"
                          ],
                          [
                            0.5555555555555556,
                            "#d8576b"
                          ],
                          [
                            0.6666666666666666,
                            "#ed7953"
                          ],
                          [
                            0.7777777777777778,
                            "#fb9f3a"
                          ],
                          [
                            0.8888888888888888,
                            "#fdca26"
                          ],
                          [
                            1,
                            "#f0f921"
                          ]
                        ],
                        "type": "histogram2dcontour"
                      }
                    ],
                    "mesh3d": [
                      {
                        "colorbar": {
                          "outlinewidth": 0,
                          "ticks": ""
                        },
                        "type": "mesh3d"
                      }
                    ],
                    "parcoords": [
                      {
                        "line": {
                          "colorbar": {
                            "outlinewidth": 0,
                            "ticks": ""
                          }
                        },
                        "type": "parcoords"
                      }
                    ],
                    "pie": [
                      {
                        "automargin": true,
                        "type": "pie"
                      }
                    ],
                    "scatter": [
                      {
                        "fillpattern": {
                          "fillmode": "overlay",
                          "size": 10,
                          "solidity": 0.2
                        },
                        "type": "scatter"
                      }
                    ],
                    "scatter3d": [
                      {
                        "line": {
                          "colorbar": {
                            "outlinewidth": 0,
                            "ticks": ""
                          }
                        },
                        "marker": {
                          "colorbar": {
                            "outlinewidth": 0,
                            "ticks": ""
                          }
                        },
                        "type": "scatter3d"
                      }
                    ],
                    "scattercarpet": [
                      {
                        "marker": {
                          "colorbar": {
                            "outlinewidth": 0,
                            "ticks": ""
                          }
                        },
                        "type": "scattercarpet"
                      }
                    ],
                    "scattergeo": [
                      {
                        "marker": {
                          "colorbar": {
                            "outlinewidth": 0,
                            "ticks": ""
                          }
                        },
                        "type": "scattergeo"
                      }
                    ],
                    "scattergl": [
                      {
                        "marker": {
                          "colorbar": {
                            "outlinewidth": 0,
                            "ticks": ""
                          }
                        },
                        "type": "scattergl"
                      }
                    ],
                    "scattermapbox": [
                      {
                        "marker": {
                          "colorbar": {
                            "outlinewidth": 0,
                            "ticks": ""
                          }
                        },
                        "type": "scattermapbox"
                      }
                    ],
                    "scatterpolar": [
                      {
                        "marker": {
                          "colorbar": {
                            "outlinewidth": 0,
                            "ticks": ""
                          }
                        },
                        "type": "scatterpolar"
                      }
                    ],
                    "scatterpolargl": [
                      {
                        "marker": {
                          "colorbar": {
                            "outlinewidth": 0,
                            "ticks": ""
                          }
                        },
                        "type": "scatterpolargl"
                      }
                    ],
                    "scatterternary": [
                      {
                        "marker": {
                          "colorbar": {
                            "outlinewidth": 0,
                            "ticks": ""
                          }
                        },
                        "type": "scatterternary"
                      }
                    ],
                    "surface": [
                      {
                        "colorbar": {
                          "outlinewidth": 0,
                          "ticks": ""
                        },
                        "colorscale": [
                          [
                            0,
                            "#0d0887"
                          ],
                          [
                            0.1111111111111111,
                            "#46039f"
                          ],
                          [
                            0.2222222222222222,
                            "#7201a8"
                          ],
                          [
                            0.3333333333333333,
                            "#9c179e"
                          ],
                          [
                            0.4444444444444444,
                            "#bd3786"
                          ],
                          [
                            0.5555555555555556,
                            "#d8576b"
                          ],
                          [
                            0.6666666666666666,
                            "#ed7953"
                          ],
                          [
                            0.7777777777777778,
                            "#fb9f3a"
                          ],
                          [
                            0.8888888888888888,
                            "#fdca26"
                          ],
                          [
                            1,
                            "#f0f921"
                          ]
                        ],
                        "type": "surface"
                      }
                    ],
                    "table": [
                      {
                        "cells": {
                          "fill": {
                            "color": "#EBF0F8"
                          },
                          "line": {
                            "color": "white"
                          }
                        },
                        "header": {
                          "fill": {
                            "color": "#C8D4E3"
                          },
                          "line": {
                            "color": "white"
                          }
                        },
                        "type": "table"
                      }
                    ]
                  },
                  "layout": {
                    "annotationdefaults": {
                      "arrowcolor": "#2a3f5f",
                      "arrowhead": 0,
                      "arrowwidth": 1
                    },
                    "autotypenumbers": "strict",
                    "coloraxis": {
                      "colorbar": {
                        "outlinewidth": 0,
                        "ticks": ""
                      }
                    },
                    "colorscale": {
                      "diverging": [
                        [
                          0,
                          "#8e0152"
                        ],
                        [
                          0.1,
                          "#c51b7d"
                        ],
                        [
                          0.2,
                          "#de77ae"
                        ],
                        [
                          0.3,
                          "#f1b6da"
                        ],
                        [
                          0.4,
                          "#fde0ef"
                        ],
                        [
                          0.5,
                          "#f7f7f7"
                        ],
                        [
                          0.6,
                          "#e6f5d0"
                        ],
                        [
                          0.7,
                          "#b8e186"
                        ],
                        [
                          0.8,
                          "#7fbc41"
                        ],
                        [
                          0.9,
                          "#4d9221"
                        ],
                        [
                          1,
                          "#276419"
                        ]
                      ],
                      "sequential": [
                        [
                          0,
                          "#0d0887"
                        ],
                        [
                          0.1111111111111111,
                          "#46039f"
                        ],
                        [
                          0.2222222222222222,
                          "#7201a8"
                        ],
                        [
                          0.3333333333333333,
                          "#9c179e"
                        ],
                        [
                          0.4444444444444444,
                          "#bd3786"
                        ],
                        [
                          0.5555555555555556,
                          "#d8576b"
                        ],
                        [
                          0.6666666666666666,
                          "#ed7953"
                        ],
                        [
                          0.7777777777777778,
                          "#fb9f3a"
                        ],
                        [
                          0.8888888888888888,
                          "#fdca26"
                        ],
                        [
                          1,
                          "#f0f921"
                        ]
                      ],
                      "sequentialminus": [
                        [
                          0,
                          "#0d0887"
                        ],
                        [
                          0.1111111111111111,
                          "#46039f"
                        ],
                        [
                          0.2222222222222222,
                          "#7201a8"
                        ],
                        [
                          0.3333333333333333,
                          "#9c179e"
                        ],
                        [
                          0.4444444444444444,
                          "#bd3786"
                        ],
                        [
                          0.5555555555555556,
                          "#d8576b"
                        ],
                        [
                          0.6666666666666666,
                          "#ed7953"
                        ],
                        [
                          0.7777777777777778,
                          "#fb9f3a"
                        ],
                        [
                          0.8888888888888888,
                          "#fdca26"
                        ],
                        [
                          1,
                          "#f0f921"
                        ]
                      ]
                    },
                    "colorway": [
                      "#636efa",
                      "#EF553B",
                      "#00cc96",
                      "#ab63fa",
                      "#FFA15A",
                      "#19d3f3",
                      "#FF6692",
                      "#B6E880",
                      "#FF97FF",
                      "#FECB52"
                    ],
                    "font": {
                      "color": "#2a3f5f"
                    },
                    "geo": {
                      "bgcolor": "white",
                      "lakecolor": "white",
                      "landcolor": "#E5ECF6",
                      "showlakes": true,
                      "showland": true,
                      "subunitcolor": "white"
                    },
                    "hoverlabel": {
                      "align": "left"
                    },
                    "hovermode": "closest",
                    "mapbox": {
                      "style": "light"
                    },
                    "paper_bgcolor": "white",
                    "plot_bgcolor": "#E5ECF6",
                    "polar": {
                      "angularaxis": {
                        "gridcolor": "white",
                        "linecolor": "white",
                        "ticks": ""
                      },
                      "bgcolor": "#E5ECF6",
                      "radialaxis": {
                        "gridcolor": "white",
                        "linecolor": "white",
                        "ticks": ""
                      }
                    },
                    "scene": {
                      "xaxis": {
                        "backgroundcolor": "#E5ECF6",
                        "gridcolor": "white",
                        "gridwidth": 2,
                        "linecolor": "white",
                        "showbackground": true,
                        "ticks": "",
                        "zerolinecolor": "white"
                      },
                      "yaxis": {
                        "backgroundcolor": "#E5ECF6",
                        "gridcolor": "white",
                        "gridwidth": 2,
                        "linecolor": "white",
                        "showbackground": true,
                        "ticks": "",
                        "zerolinecolor": "white"
                      },
                      "zaxis": {
                        "backgroundcolor": "#E5ECF6",
                        "gridcolor": "white",
                        "gridwidth": 2,
                        "linecolor": "white",
                        "showbackground": true,
                        "ticks": "",
                        "zerolinecolor": "white"
                      }
                    },
                    "shapedefaults": {
                      "line": {
                        "color": "#2a3f5f"
                      }
                    },
                    "ternary": {
                      "aaxis": {
                        "gridcolor": "white",
                        "linecolor": "white",
                        "ticks": ""
                      },
                      "baxis": {
                        "gridcolor": "white",
                        "linecolor": "white",
                        "ticks": ""
                      },
                      "bgcolor": "#E5ECF6",
                      "caxis": {
                        "gridcolor": "white",
                        "linecolor": "white",
                        "ticks": ""
                      }
                    },
                    "title": {
                      "x": 0.05
                    },
                    "xaxis": {
                      "automargin": true,
                      "gridcolor": "white",
                      "linecolor": "white",
                      "ticks": "",
                      "title": {
                        "standoff": 15
                      },
                      "zerolinecolor": "white",
                      "zerolinewidth": 2
                    },
                    "yaxis": {
                      "automargin": true,
                      "gridcolor": "white",
                      "linecolor": "white",
                      "ticks": "",
                      "title": {
                        "standoff": 15
                      },
                      "zerolinecolor": "white",
                      "zerolinewidth": 2
                    }
                  }
                },
                "title": {
                  "text": "Circ. Market Cap(2023)"
                },
                "width": 500
              }
            }
          },
          "metadata": {},
          "output_type": "display_data"
        }
      ],
      "source": [
        "# filter out Bitcoin rows\n",
        "#df_year_without_btc = df_year[df_year['asset'] != 'bitcoin']\n",
        "#df_plot = df_year_without_btc\n",
        "\n",
        "df_plot = df_year\n",
        "\n",
        "# Get unique years in df_year\n",
        "years = df_year['year'].unique()\n",
        "\n",
        "# Loop through years and create a pie chart for each one\n",
        "for year in years:\n",
        "    # Filter data for current year\n",
        "    df_yearly = df_plot[df_plot['year'] == year]\n",
        "    \n",
        "    # Create pie chart\n",
        "    fig = px.pie(df_yearly, values='circulating_marketcap', names='asset')\n",
        "    fig.update_layout(height=500, width=500, title_text=f\"Circ. Market Cap({year})\")\n",
        "    fig.update_traces(textinfo='value', textfont_size=12, textposition='inside')\n",
        "    fig.show()"
      ]
    },
    {
      "cell_type": "code",
      "execution_count": 214,
      "metadata": {},
      "outputs": [
        {
          "data": {
            "application/vnd.plotly.v1+json": {
              "config": {
                "plotlyServerURL": "https://plot.ly"
              },
              "data": [
                {
                  "domain": {
                    "x": [
                      0,
                      1
                    ],
                    "y": [
                      0,
                      1
                    ]
                  },
                  "hovertemplate": "asset=%{label}<br>addresses=%{value}<extra></extra>",
                  "labels": [
                    "bitcoin",
                    "cardano",
                    "ethereum",
                    "polkadot",
                    "solana"
                  ],
                  "legendgroup": "",
                  "name": "",
                  "showlegend": true,
                  "textfont": {
                    "size": 12
                  },
                  "textinfo": "value",
                  "textposition": "inside",
                  "type": "pie",
                  "values": [
                    20699759,
                    446609,
                    10661396,
                    0,
                    null
                  ]
                }
              ],
              "layout": {
                "height": 500,
                "legend": {
                  "tracegroupgap": 0
                },
                "margin": {
                  "t": 60
                },
                "template": {
                  "data": {
                    "bar": [
                      {
                        "error_x": {
                          "color": "#2a3f5f"
                        },
                        "error_y": {
                          "color": "#2a3f5f"
                        },
                        "marker": {
                          "line": {
                            "color": "#E5ECF6",
                            "width": 0.5
                          },
                          "pattern": {
                            "fillmode": "overlay",
                            "size": 10,
                            "solidity": 0.2
                          }
                        },
                        "type": "bar"
                      }
                    ],
                    "barpolar": [
                      {
                        "marker": {
                          "line": {
                            "color": "#E5ECF6",
                            "width": 0.5
                          },
                          "pattern": {
                            "fillmode": "overlay",
                            "size": 10,
                            "solidity": 0.2
                          }
                        },
                        "type": "barpolar"
                      }
                    ],
                    "carpet": [
                      {
                        "aaxis": {
                          "endlinecolor": "#2a3f5f",
                          "gridcolor": "white",
                          "linecolor": "white",
                          "minorgridcolor": "white",
                          "startlinecolor": "#2a3f5f"
                        },
                        "baxis": {
                          "endlinecolor": "#2a3f5f",
                          "gridcolor": "white",
                          "linecolor": "white",
                          "minorgridcolor": "white",
                          "startlinecolor": "#2a3f5f"
                        },
                        "type": "carpet"
                      }
                    ],
                    "choropleth": [
                      {
                        "colorbar": {
                          "outlinewidth": 0,
                          "ticks": ""
                        },
                        "type": "choropleth"
                      }
                    ],
                    "contour": [
                      {
                        "colorbar": {
                          "outlinewidth": 0,
                          "ticks": ""
                        },
                        "colorscale": [
                          [
                            0,
                            "#0d0887"
                          ],
                          [
                            0.1111111111111111,
                            "#46039f"
                          ],
                          [
                            0.2222222222222222,
                            "#7201a8"
                          ],
                          [
                            0.3333333333333333,
                            "#9c179e"
                          ],
                          [
                            0.4444444444444444,
                            "#bd3786"
                          ],
                          [
                            0.5555555555555556,
                            "#d8576b"
                          ],
                          [
                            0.6666666666666666,
                            "#ed7953"
                          ],
                          [
                            0.7777777777777778,
                            "#fb9f3a"
                          ],
                          [
                            0.8888888888888888,
                            "#fdca26"
                          ],
                          [
                            1,
                            "#f0f921"
                          ]
                        ],
                        "type": "contour"
                      }
                    ],
                    "contourcarpet": [
                      {
                        "colorbar": {
                          "outlinewidth": 0,
                          "ticks": ""
                        },
                        "type": "contourcarpet"
                      }
                    ],
                    "heatmap": [
                      {
                        "colorbar": {
                          "outlinewidth": 0,
                          "ticks": ""
                        },
                        "colorscale": [
                          [
                            0,
                            "#0d0887"
                          ],
                          [
                            0.1111111111111111,
                            "#46039f"
                          ],
                          [
                            0.2222222222222222,
                            "#7201a8"
                          ],
                          [
                            0.3333333333333333,
                            "#9c179e"
                          ],
                          [
                            0.4444444444444444,
                            "#bd3786"
                          ],
                          [
                            0.5555555555555556,
                            "#d8576b"
                          ],
                          [
                            0.6666666666666666,
                            "#ed7953"
                          ],
                          [
                            0.7777777777777778,
                            "#fb9f3a"
                          ],
                          [
                            0.8888888888888888,
                            "#fdca26"
                          ],
                          [
                            1,
                            "#f0f921"
                          ]
                        ],
                        "type": "heatmap"
                      }
                    ],
                    "heatmapgl": [
                      {
                        "colorbar": {
                          "outlinewidth": 0,
                          "ticks": ""
                        },
                        "colorscale": [
                          [
                            0,
                            "#0d0887"
                          ],
                          [
                            0.1111111111111111,
                            "#46039f"
                          ],
                          [
                            0.2222222222222222,
                            "#7201a8"
                          ],
                          [
                            0.3333333333333333,
                            "#9c179e"
                          ],
                          [
                            0.4444444444444444,
                            "#bd3786"
                          ],
                          [
                            0.5555555555555556,
                            "#d8576b"
                          ],
                          [
                            0.6666666666666666,
                            "#ed7953"
                          ],
                          [
                            0.7777777777777778,
                            "#fb9f3a"
                          ],
                          [
                            0.8888888888888888,
                            "#fdca26"
                          ],
                          [
                            1,
                            "#f0f921"
                          ]
                        ],
                        "type": "heatmapgl"
                      }
                    ],
                    "histogram": [
                      {
                        "marker": {
                          "pattern": {
                            "fillmode": "overlay",
                            "size": 10,
                            "solidity": 0.2
                          }
                        },
                        "type": "histogram"
                      }
                    ],
                    "histogram2d": [
                      {
                        "colorbar": {
                          "outlinewidth": 0,
                          "ticks": ""
                        },
                        "colorscale": [
                          [
                            0,
                            "#0d0887"
                          ],
                          [
                            0.1111111111111111,
                            "#46039f"
                          ],
                          [
                            0.2222222222222222,
                            "#7201a8"
                          ],
                          [
                            0.3333333333333333,
                            "#9c179e"
                          ],
                          [
                            0.4444444444444444,
                            "#bd3786"
                          ],
                          [
                            0.5555555555555556,
                            "#d8576b"
                          ],
                          [
                            0.6666666666666666,
                            "#ed7953"
                          ],
                          [
                            0.7777777777777778,
                            "#fb9f3a"
                          ],
                          [
                            0.8888888888888888,
                            "#fdca26"
                          ],
                          [
                            1,
                            "#f0f921"
                          ]
                        ],
                        "type": "histogram2d"
                      }
                    ],
                    "histogram2dcontour": [
                      {
                        "colorbar": {
                          "outlinewidth": 0,
                          "ticks": ""
                        },
                        "colorscale": [
                          [
                            0,
                            "#0d0887"
                          ],
                          [
                            0.1111111111111111,
                            "#46039f"
                          ],
                          [
                            0.2222222222222222,
                            "#7201a8"
                          ],
                          [
                            0.3333333333333333,
                            "#9c179e"
                          ],
                          [
                            0.4444444444444444,
                            "#bd3786"
                          ],
                          [
                            0.5555555555555556,
                            "#d8576b"
                          ],
                          [
                            0.6666666666666666,
                            "#ed7953"
                          ],
                          [
                            0.7777777777777778,
                            "#fb9f3a"
                          ],
                          [
                            0.8888888888888888,
                            "#fdca26"
                          ],
                          [
                            1,
                            "#f0f921"
                          ]
                        ],
                        "type": "histogram2dcontour"
                      }
                    ],
                    "mesh3d": [
                      {
                        "colorbar": {
                          "outlinewidth": 0,
                          "ticks": ""
                        },
                        "type": "mesh3d"
                      }
                    ],
                    "parcoords": [
                      {
                        "line": {
                          "colorbar": {
                            "outlinewidth": 0,
                            "ticks": ""
                          }
                        },
                        "type": "parcoords"
                      }
                    ],
                    "pie": [
                      {
                        "automargin": true,
                        "type": "pie"
                      }
                    ],
                    "scatter": [
                      {
                        "fillpattern": {
                          "fillmode": "overlay",
                          "size": 10,
                          "solidity": 0.2
                        },
                        "type": "scatter"
                      }
                    ],
                    "scatter3d": [
                      {
                        "line": {
                          "colorbar": {
                            "outlinewidth": 0,
                            "ticks": ""
                          }
                        },
                        "marker": {
                          "colorbar": {
                            "outlinewidth": 0,
                            "ticks": ""
                          }
                        },
                        "type": "scatter3d"
                      }
                    ],
                    "scattercarpet": [
                      {
                        "marker": {
                          "colorbar": {
                            "outlinewidth": 0,
                            "ticks": ""
                          }
                        },
                        "type": "scattercarpet"
                      }
                    ],
                    "scattergeo": [
                      {
                        "marker": {
                          "colorbar": {
                            "outlinewidth": 0,
                            "ticks": ""
                          }
                        },
                        "type": "scattergeo"
                      }
                    ],
                    "scattergl": [
                      {
                        "marker": {
                          "colorbar": {
                            "outlinewidth": 0,
                            "ticks": ""
                          }
                        },
                        "type": "scattergl"
                      }
                    ],
                    "scattermapbox": [
                      {
                        "marker": {
                          "colorbar": {
                            "outlinewidth": 0,
                            "ticks": ""
                          }
                        },
                        "type": "scattermapbox"
                      }
                    ],
                    "scatterpolar": [
                      {
                        "marker": {
                          "colorbar": {
                            "outlinewidth": 0,
                            "ticks": ""
                          }
                        },
                        "type": "scatterpolar"
                      }
                    ],
                    "scatterpolargl": [
                      {
                        "marker": {
                          "colorbar": {
                            "outlinewidth": 0,
                            "ticks": ""
                          }
                        },
                        "type": "scatterpolargl"
                      }
                    ],
                    "scatterternary": [
                      {
                        "marker": {
                          "colorbar": {
                            "outlinewidth": 0,
                            "ticks": ""
                          }
                        },
                        "type": "scatterternary"
                      }
                    ],
                    "surface": [
                      {
                        "colorbar": {
                          "outlinewidth": 0,
                          "ticks": ""
                        },
                        "colorscale": [
                          [
                            0,
                            "#0d0887"
                          ],
                          [
                            0.1111111111111111,
                            "#46039f"
                          ],
                          [
                            0.2222222222222222,
                            "#7201a8"
                          ],
                          [
                            0.3333333333333333,
                            "#9c179e"
                          ],
                          [
                            0.4444444444444444,
                            "#bd3786"
                          ],
                          [
                            0.5555555555555556,
                            "#d8576b"
                          ],
                          [
                            0.6666666666666666,
                            "#ed7953"
                          ],
                          [
                            0.7777777777777778,
                            "#fb9f3a"
                          ],
                          [
                            0.8888888888888888,
                            "#fdca26"
                          ],
                          [
                            1,
                            "#f0f921"
                          ]
                        ],
                        "type": "surface"
                      }
                    ],
                    "table": [
                      {
                        "cells": {
                          "fill": {
                            "color": "#EBF0F8"
                          },
                          "line": {
                            "color": "white"
                          }
                        },
                        "header": {
                          "fill": {
                            "color": "#C8D4E3"
                          },
                          "line": {
                            "color": "white"
                          }
                        },
                        "type": "table"
                      }
                    ]
                  },
                  "layout": {
                    "annotationdefaults": {
                      "arrowcolor": "#2a3f5f",
                      "arrowhead": 0,
                      "arrowwidth": 1
                    },
                    "autotypenumbers": "strict",
                    "coloraxis": {
                      "colorbar": {
                        "outlinewidth": 0,
                        "ticks": ""
                      }
                    },
                    "colorscale": {
                      "diverging": [
                        [
                          0,
                          "#8e0152"
                        ],
                        [
                          0.1,
                          "#c51b7d"
                        ],
                        [
                          0.2,
                          "#de77ae"
                        ],
                        [
                          0.3,
                          "#f1b6da"
                        ],
                        [
                          0.4,
                          "#fde0ef"
                        ],
                        [
                          0.5,
                          "#f7f7f7"
                        ],
                        [
                          0.6,
                          "#e6f5d0"
                        ],
                        [
                          0.7,
                          "#b8e186"
                        ],
                        [
                          0.8,
                          "#7fbc41"
                        ],
                        [
                          0.9,
                          "#4d9221"
                        ],
                        [
                          1,
                          "#276419"
                        ]
                      ],
                      "sequential": [
                        [
                          0,
                          "#0d0887"
                        ],
                        [
                          0.1111111111111111,
                          "#46039f"
                        ],
                        [
                          0.2222222222222222,
                          "#7201a8"
                        ],
                        [
                          0.3333333333333333,
                          "#9c179e"
                        ],
                        [
                          0.4444444444444444,
                          "#bd3786"
                        ],
                        [
                          0.5555555555555556,
                          "#d8576b"
                        ],
                        [
                          0.6666666666666666,
                          "#ed7953"
                        ],
                        [
                          0.7777777777777778,
                          "#fb9f3a"
                        ],
                        [
                          0.8888888888888888,
                          "#fdca26"
                        ],
                        [
                          1,
                          "#f0f921"
                        ]
                      ],
                      "sequentialminus": [
                        [
                          0,
                          "#0d0887"
                        ],
                        [
                          0.1111111111111111,
                          "#46039f"
                        ],
                        [
                          0.2222222222222222,
                          "#7201a8"
                        ],
                        [
                          0.3333333333333333,
                          "#9c179e"
                        ],
                        [
                          0.4444444444444444,
                          "#bd3786"
                        ],
                        [
                          0.5555555555555556,
                          "#d8576b"
                        ],
                        [
                          0.6666666666666666,
                          "#ed7953"
                        ],
                        [
                          0.7777777777777778,
                          "#fb9f3a"
                        ],
                        [
                          0.8888888888888888,
                          "#fdca26"
                        ],
                        [
                          1,
                          "#f0f921"
                        ]
                      ]
                    },
                    "colorway": [
                      "#636efa",
                      "#EF553B",
                      "#00cc96",
                      "#ab63fa",
                      "#FFA15A",
                      "#19d3f3",
                      "#FF6692",
                      "#B6E880",
                      "#FF97FF",
                      "#FECB52"
                    ],
                    "font": {
                      "color": "#2a3f5f"
                    },
                    "geo": {
                      "bgcolor": "white",
                      "lakecolor": "white",
                      "landcolor": "#E5ECF6",
                      "showlakes": true,
                      "showland": true,
                      "subunitcolor": "white"
                    },
                    "hoverlabel": {
                      "align": "left"
                    },
                    "hovermode": "closest",
                    "mapbox": {
                      "style": "light"
                    },
                    "paper_bgcolor": "white",
                    "plot_bgcolor": "#E5ECF6",
                    "polar": {
                      "angularaxis": {
                        "gridcolor": "white",
                        "linecolor": "white",
                        "ticks": ""
                      },
                      "bgcolor": "#E5ECF6",
                      "radialaxis": {
                        "gridcolor": "white",
                        "linecolor": "white",
                        "ticks": ""
                      }
                    },
                    "scene": {
                      "xaxis": {
                        "backgroundcolor": "#E5ECF6",
                        "gridcolor": "white",
                        "gridwidth": 2,
                        "linecolor": "white",
                        "showbackground": true,
                        "ticks": "",
                        "zerolinecolor": "white"
                      },
                      "yaxis": {
                        "backgroundcolor": "#E5ECF6",
                        "gridcolor": "white",
                        "gridwidth": 2,
                        "linecolor": "white",
                        "showbackground": true,
                        "ticks": "",
                        "zerolinecolor": "white"
                      },
                      "zaxis": {
                        "backgroundcolor": "#E5ECF6",
                        "gridcolor": "white",
                        "gridwidth": 2,
                        "linecolor": "white",
                        "showbackground": true,
                        "ticks": "",
                        "zerolinecolor": "white"
                      }
                    },
                    "shapedefaults": {
                      "line": {
                        "color": "#2a3f5f"
                      }
                    },
                    "ternary": {
                      "aaxis": {
                        "gridcolor": "white",
                        "linecolor": "white",
                        "ticks": ""
                      },
                      "baxis": {
                        "gridcolor": "white",
                        "linecolor": "white",
                        "ticks": ""
                      },
                      "bgcolor": "#E5ECF6",
                      "caxis": {
                        "gridcolor": "white",
                        "linecolor": "white",
                        "ticks": ""
                      }
                    },
                    "title": {
                      "x": 0.05
                    },
                    "xaxis": {
                      "automargin": true,
                      "gridcolor": "white",
                      "linecolor": "white",
                      "ticks": "",
                      "title": {
                        "standoff": 15
                      },
                      "zerolinecolor": "white",
                      "zerolinewidth": 2
                    },
                    "yaxis": {
                      "automargin": true,
                      "gridcolor": "white",
                      "linecolor": "white",
                      "ticks": "",
                      "title": {
                        "standoff": 15
                      },
                      "zerolinecolor": "white",
                      "zerolinewidth": 2
                    }
                  }
                },
                "title": {
                  "text": "Adresses (min 10$) (2020)"
                },
                "width": 500
              }
            }
          },
          "metadata": {},
          "output_type": "display_data"
        },
        {
          "data": {
            "application/vnd.plotly.v1+json": {
              "config": {
                "plotlyServerURL": "https://plot.ly"
              },
              "data": [
                {
                  "domain": {
                    "x": [
                      0,
                      1
                    ],
                    "y": [
                      0,
                      1
                    ]
                  },
                  "hovertemplate": "asset=%{label}<br>addresses=%{value}<extra></extra>",
                  "labels": [
                    "bitcoin",
                    "cardano",
                    "ethereum",
                    "polkadot",
                    "solana"
                  ],
                  "legendgroup": "",
                  "name": "",
                  "showlegend": true,
                  "textfont": {
                    "size": 12
                  },
                  "textinfo": "value",
                  "textposition": "inside",
                  "type": "pie",
                  "values": [
                    25836091,
                    2299905,
                    34287615,
                    833716,
                    null
                  ]
                }
              ],
              "layout": {
                "height": 500,
                "legend": {
                  "tracegroupgap": 0
                },
                "margin": {
                  "t": 60
                },
                "template": {
                  "data": {
                    "bar": [
                      {
                        "error_x": {
                          "color": "#2a3f5f"
                        },
                        "error_y": {
                          "color": "#2a3f5f"
                        },
                        "marker": {
                          "line": {
                            "color": "#E5ECF6",
                            "width": 0.5
                          },
                          "pattern": {
                            "fillmode": "overlay",
                            "size": 10,
                            "solidity": 0.2
                          }
                        },
                        "type": "bar"
                      }
                    ],
                    "barpolar": [
                      {
                        "marker": {
                          "line": {
                            "color": "#E5ECF6",
                            "width": 0.5
                          },
                          "pattern": {
                            "fillmode": "overlay",
                            "size": 10,
                            "solidity": 0.2
                          }
                        },
                        "type": "barpolar"
                      }
                    ],
                    "carpet": [
                      {
                        "aaxis": {
                          "endlinecolor": "#2a3f5f",
                          "gridcolor": "white",
                          "linecolor": "white",
                          "minorgridcolor": "white",
                          "startlinecolor": "#2a3f5f"
                        },
                        "baxis": {
                          "endlinecolor": "#2a3f5f",
                          "gridcolor": "white",
                          "linecolor": "white",
                          "minorgridcolor": "white",
                          "startlinecolor": "#2a3f5f"
                        },
                        "type": "carpet"
                      }
                    ],
                    "choropleth": [
                      {
                        "colorbar": {
                          "outlinewidth": 0,
                          "ticks": ""
                        },
                        "type": "choropleth"
                      }
                    ],
                    "contour": [
                      {
                        "colorbar": {
                          "outlinewidth": 0,
                          "ticks": ""
                        },
                        "colorscale": [
                          [
                            0,
                            "#0d0887"
                          ],
                          [
                            0.1111111111111111,
                            "#46039f"
                          ],
                          [
                            0.2222222222222222,
                            "#7201a8"
                          ],
                          [
                            0.3333333333333333,
                            "#9c179e"
                          ],
                          [
                            0.4444444444444444,
                            "#bd3786"
                          ],
                          [
                            0.5555555555555556,
                            "#d8576b"
                          ],
                          [
                            0.6666666666666666,
                            "#ed7953"
                          ],
                          [
                            0.7777777777777778,
                            "#fb9f3a"
                          ],
                          [
                            0.8888888888888888,
                            "#fdca26"
                          ],
                          [
                            1,
                            "#f0f921"
                          ]
                        ],
                        "type": "contour"
                      }
                    ],
                    "contourcarpet": [
                      {
                        "colorbar": {
                          "outlinewidth": 0,
                          "ticks": ""
                        },
                        "type": "contourcarpet"
                      }
                    ],
                    "heatmap": [
                      {
                        "colorbar": {
                          "outlinewidth": 0,
                          "ticks": ""
                        },
                        "colorscale": [
                          [
                            0,
                            "#0d0887"
                          ],
                          [
                            0.1111111111111111,
                            "#46039f"
                          ],
                          [
                            0.2222222222222222,
                            "#7201a8"
                          ],
                          [
                            0.3333333333333333,
                            "#9c179e"
                          ],
                          [
                            0.4444444444444444,
                            "#bd3786"
                          ],
                          [
                            0.5555555555555556,
                            "#d8576b"
                          ],
                          [
                            0.6666666666666666,
                            "#ed7953"
                          ],
                          [
                            0.7777777777777778,
                            "#fb9f3a"
                          ],
                          [
                            0.8888888888888888,
                            "#fdca26"
                          ],
                          [
                            1,
                            "#f0f921"
                          ]
                        ],
                        "type": "heatmap"
                      }
                    ],
                    "heatmapgl": [
                      {
                        "colorbar": {
                          "outlinewidth": 0,
                          "ticks": ""
                        },
                        "colorscale": [
                          [
                            0,
                            "#0d0887"
                          ],
                          [
                            0.1111111111111111,
                            "#46039f"
                          ],
                          [
                            0.2222222222222222,
                            "#7201a8"
                          ],
                          [
                            0.3333333333333333,
                            "#9c179e"
                          ],
                          [
                            0.4444444444444444,
                            "#bd3786"
                          ],
                          [
                            0.5555555555555556,
                            "#d8576b"
                          ],
                          [
                            0.6666666666666666,
                            "#ed7953"
                          ],
                          [
                            0.7777777777777778,
                            "#fb9f3a"
                          ],
                          [
                            0.8888888888888888,
                            "#fdca26"
                          ],
                          [
                            1,
                            "#f0f921"
                          ]
                        ],
                        "type": "heatmapgl"
                      }
                    ],
                    "histogram": [
                      {
                        "marker": {
                          "pattern": {
                            "fillmode": "overlay",
                            "size": 10,
                            "solidity": 0.2
                          }
                        },
                        "type": "histogram"
                      }
                    ],
                    "histogram2d": [
                      {
                        "colorbar": {
                          "outlinewidth": 0,
                          "ticks": ""
                        },
                        "colorscale": [
                          [
                            0,
                            "#0d0887"
                          ],
                          [
                            0.1111111111111111,
                            "#46039f"
                          ],
                          [
                            0.2222222222222222,
                            "#7201a8"
                          ],
                          [
                            0.3333333333333333,
                            "#9c179e"
                          ],
                          [
                            0.4444444444444444,
                            "#bd3786"
                          ],
                          [
                            0.5555555555555556,
                            "#d8576b"
                          ],
                          [
                            0.6666666666666666,
                            "#ed7953"
                          ],
                          [
                            0.7777777777777778,
                            "#fb9f3a"
                          ],
                          [
                            0.8888888888888888,
                            "#fdca26"
                          ],
                          [
                            1,
                            "#f0f921"
                          ]
                        ],
                        "type": "histogram2d"
                      }
                    ],
                    "histogram2dcontour": [
                      {
                        "colorbar": {
                          "outlinewidth": 0,
                          "ticks": ""
                        },
                        "colorscale": [
                          [
                            0,
                            "#0d0887"
                          ],
                          [
                            0.1111111111111111,
                            "#46039f"
                          ],
                          [
                            0.2222222222222222,
                            "#7201a8"
                          ],
                          [
                            0.3333333333333333,
                            "#9c179e"
                          ],
                          [
                            0.4444444444444444,
                            "#bd3786"
                          ],
                          [
                            0.5555555555555556,
                            "#d8576b"
                          ],
                          [
                            0.6666666666666666,
                            "#ed7953"
                          ],
                          [
                            0.7777777777777778,
                            "#fb9f3a"
                          ],
                          [
                            0.8888888888888888,
                            "#fdca26"
                          ],
                          [
                            1,
                            "#f0f921"
                          ]
                        ],
                        "type": "histogram2dcontour"
                      }
                    ],
                    "mesh3d": [
                      {
                        "colorbar": {
                          "outlinewidth": 0,
                          "ticks": ""
                        },
                        "type": "mesh3d"
                      }
                    ],
                    "parcoords": [
                      {
                        "line": {
                          "colorbar": {
                            "outlinewidth": 0,
                            "ticks": ""
                          }
                        },
                        "type": "parcoords"
                      }
                    ],
                    "pie": [
                      {
                        "automargin": true,
                        "type": "pie"
                      }
                    ],
                    "scatter": [
                      {
                        "fillpattern": {
                          "fillmode": "overlay",
                          "size": 10,
                          "solidity": 0.2
                        },
                        "type": "scatter"
                      }
                    ],
                    "scatter3d": [
                      {
                        "line": {
                          "colorbar": {
                            "outlinewidth": 0,
                            "ticks": ""
                          }
                        },
                        "marker": {
                          "colorbar": {
                            "outlinewidth": 0,
                            "ticks": ""
                          }
                        },
                        "type": "scatter3d"
                      }
                    ],
                    "scattercarpet": [
                      {
                        "marker": {
                          "colorbar": {
                            "outlinewidth": 0,
                            "ticks": ""
                          }
                        },
                        "type": "scattercarpet"
                      }
                    ],
                    "scattergeo": [
                      {
                        "marker": {
                          "colorbar": {
                            "outlinewidth": 0,
                            "ticks": ""
                          }
                        },
                        "type": "scattergeo"
                      }
                    ],
                    "scattergl": [
                      {
                        "marker": {
                          "colorbar": {
                            "outlinewidth": 0,
                            "ticks": ""
                          }
                        },
                        "type": "scattergl"
                      }
                    ],
                    "scattermapbox": [
                      {
                        "marker": {
                          "colorbar": {
                            "outlinewidth": 0,
                            "ticks": ""
                          }
                        },
                        "type": "scattermapbox"
                      }
                    ],
                    "scatterpolar": [
                      {
                        "marker": {
                          "colorbar": {
                            "outlinewidth": 0,
                            "ticks": ""
                          }
                        },
                        "type": "scatterpolar"
                      }
                    ],
                    "scatterpolargl": [
                      {
                        "marker": {
                          "colorbar": {
                            "outlinewidth": 0,
                            "ticks": ""
                          }
                        },
                        "type": "scatterpolargl"
                      }
                    ],
                    "scatterternary": [
                      {
                        "marker": {
                          "colorbar": {
                            "outlinewidth": 0,
                            "ticks": ""
                          }
                        },
                        "type": "scatterternary"
                      }
                    ],
                    "surface": [
                      {
                        "colorbar": {
                          "outlinewidth": 0,
                          "ticks": ""
                        },
                        "colorscale": [
                          [
                            0,
                            "#0d0887"
                          ],
                          [
                            0.1111111111111111,
                            "#46039f"
                          ],
                          [
                            0.2222222222222222,
                            "#7201a8"
                          ],
                          [
                            0.3333333333333333,
                            "#9c179e"
                          ],
                          [
                            0.4444444444444444,
                            "#bd3786"
                          ],
                          [
                            0.5555555555555556,
                            "#d8576b"
                          ],
                          [
                            0.6666666666666666,
                            "#ed7953"
                          ],
                          [
                            0.7777777777777778,
                            "#fb9f3a"
                          ],
                          [
                            0.8888888888888888,
                            "#fdca26"
                          ],
                          [
                            1,
                            "#f0f921"
                          ]
                        ],
                        "type": "surface"
                      }
                    ],
                    "table": [
                      {
                        "cells": {
                          "fill": {
                            "color": "#EBF0F8"
                          },
                          "line": {
                            "color": "white"
                          }
                        },
                        "header": {
                          "fill": {
                            "color": "#C8D4E3"
                          },
                          "line": {
                            "color": "white"
                          }
                        },
                        "type": "table"
                      }
                    ]
                  },
                  "layout": {
                    "annotationdefaults": {
                      "arrowcolor": "#2a3f5f",
                      "arrowhead": 0,
                      "arrowwidth": 1
                    },
                    "autotypenumbers": "strict",
                    "coloraxis": {
                      "colorbar": {
                        "outlinewidth": 0,
                        "ticks": ""
                      }
                    },
                    "colorscale": {
                      "diverging": [
                        [
                          0,
                          "#8e0152"
                        ],
                        [
                          0.1,
                          "#c51b7d"
                        ],
                        [
                          0.2,
                          "#de77ae"
                        ],
                        [
                          0.3,
                          "#f1b6da"
                        ],
                        [
                          0.4,
                          "#fde0ef"
                        ],
                        [
                          0.5,
                          "#f7f7f7"
                        ],
                        [
                          0.6,
                          "#e6f5d0"
                        ],
                        [
                          0.7,
                          "#b8e186"
                        ],
                        [
                          0.8,
                          "#7fbc41"
                        ],
                        [
                          0.9,
                          "#4d9221"
                        ],
                        [
                          1,
                          "#276419"
                        ]
                      ],
                      "sequential": [
                        [
                          0,
                          "#0d0887"
                        ],
                        [
                          0.1111111111111111,
                          "#46039f"
                        ],
                        [
                          0.2222222222222222,
                          "#7201a8"
                        ],
                        [
                          0.3333333333333333,
                          "#9c179e"
                        ],
                        [
                          0.4444444444444444,
                          "#bd3786"
                        ],
                        [
                          0.5555555555555556,
                          "#d8576b"
                        ],
                        [
                          0.6666666666666666,
                          "#ed7953"
                        ],
                        [
                          0.7777777777777778,
                          "#fb9f3a"
                        ],
                        [
                          0.8888888888888888,
                          "#fdca26"
                        ],
                        [
                          1,
                          "#f0f921"
                        ]
                      ],
                      "sequentialminus": [
                        [
                          0,
                          "#0d0887"
                        ],
                        [
                          0.1111111111111111,
                          "#46039f"
                        ],
                        [
                          0.2222222222222222,
                          "#7201a8"
                        ],
                        [
                          0.3333333333333333,
                          "#9c179e"
                        ],
                        [
                          0.4444444444444444,
                          "#bd3786"
                        ],
                        [
                          0.5555555555555556,
                          "#d8576b"
                        ],
                        [
                          0.6666666666666666,
                          "#ed7953"
                        ],
                        [
                          0.7777777777777778,
                          "#fb9f3a"
                        ],
                        [
                          0.8888888888888888,
                          "#fdca26"
                        ],
                        [
                          1,
                          "#f0f921"
                        ]
                      ]
                    },
                    "colorway": [
                      "#636efa",
                      "#EF553B",
                      "#00cc96",
                      "#ab63fa",
                      "#FFA15A",
                      "#19d3f3",
                      "#FF6692",
                      "#B6E880",
                      "#FF97FF",
                      "#FECB52"
                    ],
                    "font": {
                      "color": "#2a3f5f"
                    },
                    "geo": {
                      "bgcolor": "white",
                      "lakecolor": "white",
                      "landcolor": "#E5ECF6",
                      "showlakes": true,
                      "showland": true,
                      "subunitcolor": "white"
                    },
                    "hoverlabel": {
                      "align": "left"
                    },
                    "hovermode": "closest",
                    "mapbox": {
                      "style": "light"
                    },
                    "paper_bgcolor": "white",
                    "plot_bgcolor": "#E5ECF6",
                    "polar": {
                      "angularaxis": {
                        "gridcolor": "white",
                        "linecolor": "white",
                        "ticks": ""
                      },
                      "bgcolor": "#E5ECF6",
                      "radialaxis": {
                        "gridcolor": "white",
                        "linecolor": "white",
                        "ticks": ""
                      }
                    },
                    "scene": {
                      "xaxis": {
                        "backgroundcolor": "#E5ECF6",
                        "gridcolor": "white",
                        "gridwidth": 2,
                        "linecolor": "white",
                        "showbackground": true,
                        "ticks": "",
                        "zerolinecolor": "white"
                      },
                      "yaxis": {
                        "backgroundcolor": "#E5ECF6",
                        "gridcolor": "white",
                        "gridwidth": 2,
                        "linecolor": "white",
                        "showbackground": true,
                        "ticks": "",
                        "zerolinecolor": "white"
                      },
                      "zaxis": {
                        "backgroundcolor": "#E5ECF6",
                        "gridcolor": "white",
                        "gridwidth": 2,
                        "linecolor": "white",
                        "showbackground": true,
                        "ticks": "",
                        "zerolinecolor": "white"
                      }
                    },
                    "shapedefaults": {
                      "line": {
                        "color": "#2a3f5f"
                      }
                    },
                    "ternary": {
                      "aaxis": {
                        "gridcolor": "white",
                        "linecolor": "white",
                        "ticks": ""
                      },
                      "baxis": {
                        "gridcolor": "white",
                        "linecolor": "white",
                        "ticks": ""
                      },
                      "bgcolor": "#E5ECF6",
                      "caxis": {
                        "gridcolor": "white",
                        "linecolor": "white",
                        "ticks": ""
                      }
                    },
                    "title": {
                      "x": 0.05
                    },
                    "xaxis": {
                      "automargin": true,
                      "gridcolor": "white",
                      "linecolor": "white",
                      "ticks": "",
                      "title": {
                        "standoff": 15
                      },
                      "zerolinecolor": "white",
                      "zerolinewidth": 2
                    },
                    "yaxis": {
                      "automargin": true,
                      "gridcolor": "white",
                      "linecolor": "white",
                      "ticks": "",
                      "title": {
                        "standoff": 15
                      },
                      "zerolinecolor": "white",
                      "zerolinewidth": 2
                    }
                  }
                },
                "title": {
                  "text": "Adresses (min 10$) (2021)"
                },
                "width": 500
              }
            }
          },
          "metadata": {},
          "output_type": "display_data"
        },
        {
          "data": {
            "application/vnd.plotly.v1+json": {
              "config": {
                "plotlyServerURL": "https://plot.ly"
              },
              "data": [
                {
                  "domain": {
                    "x": [
                      0,
                      1
                    ],
                    "y": [
                      0,
                      1
                    ]
                  },
                  "hovertemplate": "asset=%{label}<br>addresses=%{value}<extra></extra>",
                  "labels": [
                    "bitcoin",
                    "cardano",
                    "ethereum",
                    "polkadot",
                    "solana"
                  ],
                  "legendgroup": "",
                  "name": "",
                  "showlegend": true,
                  "textfont": {
                    "size": 12
                  },
                  "textinfo": "value",
                  "textposition": "inside",
                  "type": "pie",
                  "values": [
                    24085339,
                    2473810,
                    24824483,
                    972979,
                    null
                  ]
                }
              ],
              "layout": {
                "height": 500,
                "legend": {
                  "tracegroupgap": 0
                },
                "margin": {
                  "t": 60
                },
                "template": {
                  "data": {
                    "bar": [
                      {
                        "error_x": {
                          "color": "#2a3f5f"
                        },
                        "error_y": {
                          "color": "#2a3f5f"
                        },
                        "marker": {
                          "line": {
                            "color": "#E5ECF6",
                            "width": 0.5
                          },
                          "pattern": {
                            "fillmode": "overlay",
                            "size": 10,
                            "solidity": 0.2
                          }
                        },
                        "type": "bar"
                      }
                    ],
                    "barpolar": [
                      {
                        "marker": {
                          "line": {
                            "color": "#E5ECF6",
                            "width": 0.5
                          },
                          "pattern": {
                            "fillmode": "overlay",
                            "size": 10,
                            "solidity": 0.2
                          }
                        },
                        "type": "barpolar"
                      }
                    ],
                    "carpet": [
                      {
                        "aaxis": {
                          "endlinecolor": "#2a3f5f",
                          "gridcolor": "white",
                          "linecolor": "white",
                          "minorgridcolor": "white",
                          "startlinecolor": "#2a3f5f"
                        },
                        "baxis": {
                          "endlinecolor": "#2a3f5f",
                          "gridcolor": "white",
                          "linecolor": "white",
                          "minorgridcolor": "white",
                          "startlinecolor": "#2a3f5f"
                        },
                        "type": "carpet"
                      }
                    ],
                    "choropleth": [
                      {
                        "colorbar": {
                          "outlinewidth": 0,
                          "ticks": ""
                        },
                        "type": "choropleth"
                      }
                    ],
                    "contour": [
                      {
                        "colorbar": {
                          "outlinewidth": 0,
                          "ticks": ""
                        },
                        "colorscale": [
                          [
                            0,
                            "#0d0887"
                          ],
                          [
                            0.1111111111111111,
                            "#46039f"
                          ],
                          [
                            0.2222222222222222,
                            "#7201a8"
                          ],
                          [
                            0.3333333333333333,
                            "#9c179e"
                          ],
                          [
                            0.4444444444444444,
                            "#bd3786"
                          ],
                          [
                            0.5555555555555556,
                            "#d8576b"
                          ],
                          [
                            0.6666666666666666,
                            "#ed7953"
                          ],
                          [
                            0.7777777777777778,
                            "#fb9f3a"
                          ],
                          [
                            0.8888888888888888,
                            "#fdca26"
                          ],
                          [
                            1,
                            "#f0f921"
                          ]
                        ],
                        "type": "contour"
                      }
                    ],
                    "contourcarpet": [
                      {
                        "colorbar": {
                          "outlinewidth": 0,
                          "ticks": ""
                        },
                        "type": "contourcarpet"
                      }
                    ],
                    "heatmap": [
                      {
                        "colorbar": {
                          "outlinewidth": 0,
                          "ticks": ""
                        },
                        "colorscale": [
                          [
                            0,
                            "#0d0887"
                          ],
                          [
                            0.1111111111111111,
                            "#46039f"
                          ],
                          [
                            0.2222222222222222,
                            "#7201a8"
                          ],
                          [
                            0.3333333333333333,
                            "#9c179e"
                          ],
                          [
                            0.4444444444444444,
                            "#bd3786"
                          ],
                          [
                            0.5555555555555556,
                            "#d8576b"
                          ],
                          [
                            0.6666666666666666,
                            "#ed7953"
                          ],
                          [
                            0.7777777777777778,
                            "#fb9f3a"
                          ],
                          [
                            0.8888888888888888,
                            "#fdca26"
                          ],
                          [
                            1,
                            "#f0f921"
                          ]
                        ],
                        "type": "heatmap"
                      }
                    ],
                    "heatmapgl": [
                      {
                        "colorbar": {
                          "outlinewidth": 0,
                          "ticks": ""
                        },
                        "colorscale": [
                          [
                            0,
                            "#0d0887"
                          ],
                          [
                            0.1111111111111111,
                            "#46039f"
                          ],
                          [
                            0.2222222222222222,
                            "#7201a8"
                          ],
                          [
                            0.3333333333333333,
                            "#9c179e"
                          ],
                          [
                            0.4444444444444444,
                            "#bd3786"
                          ],
                          [
                            0.5555555555555556,
                            "#d8576b"
                          ],
                          [
                            0.6666666666666666,
                            "#ed7953"
                          ],
                          [
                            0.7777777777777778,
                            "#fb9f3a"
                          ],
                          [
                            0.8888888888888888,
                            "#fdca26"
                          ],
                          [
                            1,
                            "#f0f921"
                          ]
                        ],
                        "type": "heatmapgl"
                      }
                    ],
                    "histogram": [
                      {
                        "marker": {
                          "pattern": {
                            "fillmode": "overlay",
                            "size": 10,
                            "solidity": 0.2
                          }
                        },
                        "type": "histogram"
                      }
                    ],
                    "histogram2d": [
                      {
                        "colorbar": {
                          "outlinewidth": 0,
                          "ticks": ""
                        },
                        "colorscale": [
                          [
                            0,
                            "#0d0887"
                          ],
                          [
                            0.1111111111111111,
                            "#46039f"
                          ],
                          [
                            0.2222222222222222,
                            "#7201a8"
                          ],
                          [
                            0.3333333333333333,
                            "#9c179e"
                          ],
                          [
                            0.4444444444444444,
                            "#bd3786"
                          ],
                          [
                            0.5555555555555556,
                            "#d8576b"
                          ],
                          [
                            0.6666666666666666,
                            "#ed7953"
                          ],
                          [
                            0.7777777777777778,
                            "#fb9f3a"
                          ],
                          [
                            0.8888888888888888,
                            "#fdca26"
                          ],
                          [
                            1,
                            "#f0f921"
                          ]
                        ],
                        "type": "histogram2d"
                      }
                    ],
                    "histogram2dcontour": [
                      {
                        "colorbar": {
                          "outlinewidth": 0,
                          "ticks": ""
                        },
                        "colorscale": [
                          [
                            0,
                            "#0d0887"
                          ],
                          [
                            0.1111111111111111,
                            "#46039f"
                          ],
                          [
                            0.2222222222222222,
                            "#7201a8"
                          ],
                          [
                            0.3333333333333333,
                            "#9c179e"
                          ],
                          [
                            0.4444444444444444,
                            "#bd3786"
                          ],
                          [
                            0.5555555555555556,
                            "#d8576b"
                          ],
                          [
                            0.6666666666666666,
                            "#ed7953"
                          ],
                          [
                            0.7777777777777778,
                            "#fb9f3a"
                          ],
                          [
                            0.8888888888888888,
                            "#fdca26"
                          ],
                          [
                            1,
                            "#f0f921"
                          ]
                        ],
                        "type": "histogram2dcontour"
                      }
                    ],
                    "mesh3d": [
                      {
                        "colorbar": {
                          "outlinewidth": 0,
                          "ticks": ""
                        },
                        "type": "mesh3d"
                      }
                    ],
                    "parcoords": [
                      {
                        "line": {
                          "colorbar": {
                            "outlinewidth": 0,
                            "ticks": ""
                          }
                        },
                        "type": "parcoords"
                      }
                    ],
                    "pie": [
                      {
                        "automargin": true,
                        "type": "pie"
                      }
                    ],
                    "scatter": [
                      {
                        "fillpattern": {
                          "fillmode": "overlay",
                          "size": 10,
                          "solidity": 0.2
                        },
                        "type": "scatter"
                      }
                    ],
                    "scatter3d": [
                      {
                        "line": {
                          "colorbar": {
                            "outlinewidth": 0,
                            "ticks": ""
                          }
                        },
                        "marker": {
                          "colorbar": {
                            "outlinewidth": 0,
                            "ticks": ""
                          }
                        },
                        "type": "scatter3d"
                      }
                    ],
                    "scattercarpet": [
                      {
                        "marker": {
                          "colorbar": {
                            "outlinewidth": 0,
                            "ticks": ""
                          }
                        },
                        "type": "scattercarpet"
                      }
                    ],
                    "scattergeo": [
                      {
                        "marker": {
                          "colorbar": {
                            "outlinewidth": 0,
                            "ticks": ""
                          }
                        },
                        "type": "scattergeo"
                      }
                    ],
                    "scattergl": [
                      {
                        "marker": {
                          "colorbar": {
                            "outlinewidth": 0,
                            "ticks": ""
                          }
                        },
                        "type": "scattergl"
                      }
                    ],
                    "scattermapbox": [
                      {
                        "marker": {
                          "colorbar": {
                            "outlinewidth": 0,
                            "ticks": ""
                          }
                        },
                        "type": "scattermapbox"
                      }
                    ],
                    "scatterpolar": [
                      {
                        "marker": {
                          "colorbar": {
                            "outlinewidth": 0,
                            "ticks": ""
                          }
                        },
                        "type": "scatterpolar"
                      }
                    ],
                    "scatterpolargl": [
                      {
                        "marker": {
                          "colorbar": {
                            "outlinewidth": 0,
                            "ticks": ""
                          }
                        },
                        "type": "scatterpolargl"
                      }
                    ],
                    "scatterternary": [
                      {
                        "marker": {
                          "colorbar": {
                            "outlinewidth": 0,
                            "ticks": ""
                          }
                        },
                        "type": "scatterternary"
                      }
                    ],
                    "surface": [
                      {
                        "colorbar": {
                          "outlinewidth": 0,
                          "ticks": ""
                        },
                        "colorscale": [
                          [
                            0,
                            "#0d0887"
                          ],
                          [
                            0.1111111111111111,
                            "#46039f"
                          ],
                          [
                            0.2222222222222222,
                            "#7201a8"
                          ],
                          [
                            0.3333333333333333,
                            "#9c179e"
                          ],
                          [
                            0.4444444444444444,
                            "#bd3786"
                          ],
                          [
                            0.5555555555555556,
                            "#d8576b"
                          ],
                          [
                            0.6666666666666666,
                            "#ed7953"
                          ],
                          [
                            0.7777777777777778,
                            "#fb9f3a"
                          ],
                          [
                            0.8888888888888888,
                            "#fdca26"
                          ],
                          [
                            1,
                            "#f0f921"
                          ]
                        ],
                        "type": "surface"
                      }
                    ],
                    "table": [
                      {
                        "cells": {
                          "fill": {
                            "color": "#EBF0F8"
                          },
                          "line": {
                            "color": "white"
                          }
                        },
                        "header": {
                          "fill": {
                            "color": "#C8D4E3"
                          },
                          "line": {
                            "color": "white"
                          }
                        },
                        "type": "table"
                      }
                    ]
                  },
                  "layout": {
                    "annotationdefaults": {
                      "arrowcolor": "#2a3f5f",
                      "arrowhead": 0,
                      "arrowwidth": 1
                    },
                    "autotypenumbers": "strict",
                    "coloraxis": {
                      "colorbar": {
                        "outlinewidth": 0,
                        "ticks": ""
                      }
                    },
                    "colorscale": {
                      "diverging": [
                        [
                          0,
                          "#8e0152"
                        ],
                        [
                          0.1,
                          "#c51b7d"
                        ],
                        [
                          0.2,
                          "#de77ae"
                        ],
                        [
                          0.3,
                          "#f1b6da"
                        ],
                        [
                          0.4,
                          "#fde0ef"
                        ],
                        [
                          0.5,
                          "#f7f7f7"
                        ],
                        [
                          0.6,
                          "#e6f5d0"
                        ],
                        [
                          0.7,
                          "#b8e186"
                        ],
                        [
                          0.8,
                          "#7fbc41"
                        ],
                        [
                          0.9,
                          "#4d9221"
                        ],
                        [
                          1,
                          "#276419"
                        ]
                      ],
                      "sequential": [
                        [
                          0,
                          "#0d0887"
                        ],
                        [
                          0.1111111111111111,
                          "#46039f"
                        ],
                        [
                          0.2222222222222222,
                          "#7201a8"
                        ],
                        [
                          0.3333333333333333,
                          "#9c179e"
                        ],
                        [
                          0.4444444444444444,
                          "#bd3786"
                        ],
                        [
                          0.5555555555555556,
                          "#d8576b"
                        ],
                        [
                          0.6666666666666666,
                          "#ed7953"
                        ],
                        [
                          0.7777777777777778,
                          "#fb9f3a"
                        ],
                        [
                          0.8888888888888888,
                          "#fdca26"
                        ],
                        [
                          1,
                          "#f0f921"
                        ]
                      ],
                      "sequentialminus": [
                        [
                          0,
                          "#0d0887"
                        ],
                        [
                          0.1111111111111111,
                          "#46039f"
                        ],
                        [
                          0.2222222222222222,
                          "#7201a8"
                        ],
                        [
                          0.3333333333333333,
                          "#9c179e"
                        ],
                        [
                          0.4444444444444444,
                          "#bd3786"
                        ],
                        [
                          0.5555555555555556,
                          "#d8576b"
                        ],
                        [
                          0.6666666666666666,
                          "#ed7953"
                        ],
                        [
                          0.7777777777777778,
                          "#fb9f3a"
                        ],
                        [
                          0.8888888888888888,
                          "#fdca26"
                        ],
                        [
                          1,
                          "#f0f921"
                        ]
                      ]
                    },
                    "colorway": [
                      "#636efa",
                      "#EF553B",
                      "#00cc96",
                      "#ab63fa",
                      "#FFA15A",
                      "#19d3f3",
                      "#FF6692",
                      "#B6E880",
                      "#FF97FF",
                      "#FECB52"
                    ],
                    "font": {
                      "color": "#2a3f5f"
                    },
                    "geo": {
                      "bgcolor": "white",
                      "lakecolor": "white",
                      "landcolor": "#E5ECF6",
                      "showlakes": true,
                      "showland": true,
                      "subunitcolor": "white"
                    },
                    "hoverlabel": {
                      "align": "left"
                    },
                    "hovermode": "closest",
                    "mapbox": {
                      "style": "light"
                    },
                    "paper_bgcolor": "white",
                    "plot_bgcolor": "#E5ECF6",
                    "polar": {
                      "angularaxis": {
                        "gridcolor": "white",
                        "linecolor": "white",
                        "ticks": ""
                      },
                      "bgcolor": "#E5ECF6",
                      "radialaxis": {
                        "gridcolor": "white",
                        "linecolor": "white",
                        "ticks": ""
                      }
                    },
                    "scene": {
                      "xaxis": {
                        "backgroundcolor": "#E5ECF6",
                        "gridcolor": "white",
                        "gridwidth": 2,
                        "linecolor": "white",
                        "showbackground": true,
                        "ticks": "",
                        "zerolinecolor": "white"
                      },
                      "yaxis": {
                        "backgroundcolor": "#E5ECF6",
                        "gridcolor": "white",
                        "gridwidth": 2,
                        "linecolor": "white",
                        "showbackground": true,
                        "ticks": "",
                        "zerolinecolor": "white"
                      },
                      "zaxis": {
                        "backgroundcolor": "#E5ECF6",
                        "gridcolor": "white",
                        "gridwidth": 2,
                        "linecolor": "white",
                        "showbackground": true,
                        "ticks": "",
                        "zerolinecolor": "white"
                      }
                    },
                    "shapedefaults": {
                      "line": {
                        "color": "#2a3f5f"
                      }
                    },
                    "ternary": {
                      "aaxis": {
                        "gridcolor": "white",
                        "linecolor": "white",
                        "ticks": ""
                      },
                      "baxis": {
                        "gridcolor": "white",
                        "linecolor": "white",
                        "ticks": ""
                      },
                      "bgcolor": "#E5ECF6",
                      "caxis": {
                        "gridcolor": "white",
                        "linecolor": "white",
                        "ticks": ""
                      }
                    },
                    "title": {
                      "x": 0.05
                    },
                    "xaxis": {
                      "automargin": true,
                      "gridcolor": "white",
                      "linecolor": "white",
                      "ticks": "",
                      "title": {
                        "standoff": 15
                      },
                      "zerolinecolor": "white",
                      "zerolinewidth": 2
                    },
                    "yaxis": {
                      "automargin": true,
                      "gridcolor": "white",
                      "linecolor": "white",
                      "ticks": "",
                      "title": {
                        "standoff": 15
                      },
                      "zerolinecolor": "white",
                      "zerolinewidth": 2
                    }
                  }
                },
                "title": {
                  "text": "Adresses (min 10$) (2022)"
                },
                "width": 500
              }
            }
          },
          "metadata": {},
          "output_type": "display_data"
        },
        {
          "data": {
            "application/vnd.plotly.v1+json": {
              "config": {
                "plotlyServerURL": "https://plot.ly"
              },
              "data": [
                {
                  "domain": {
                    "x": [
                      0,
                      1
                    ],
                    "y": [
                      0,
                      1
                    ]
                  },
                  "hovertemplate": "asset=%{label}<br>addresses=%{value}<extra></extra>",
                  "labels": [
                    "bitcoin",
                    "cardano",
                    "ethereum",
                    "polkadot",
                    "solana"
                  ],
                  "legendgroup": "",
                  "name": "",
                  "showlegend": true,
                  "textfont": {
                    "size": 12
                  },
                  "textinfo": "value",
                  "textposition": "inside",
                  "type": "pie",
                  "values": [
                    27750451,
                    2731254,
                    31623918,
                    null,
                    null
                  ]
                }
              ],
              "layout": {
                "height": 500,
                "legend": {
                  "tracegroupgap": 0
                },
                "margin": {
                  "t": 60
                },
                "template": {
                  "data": {
                    "bar": [
                      {
                        "error_x": {
                          "color": "#2a3f5f"
                        },
                        "error_y": {
                          "color": "#2a3f5f"
                        },
                        "marker": {
                          "line": {
                            "color": "#E5ECF6",
                            "width": 0.5
                          },
                          "pattern": {
                            "fillmode": "overlay",
                            "size": 10,
                            "solidity": 0.2
                          }
                        },
                        "type": "bar"
                      }
                    ],
                    "barpolar": [
                      {
                        "marker": {
                          "line": {
                            "color": "#E5ECF6",
                            "width": 0.5
                          },
                          "pattern": {
                            "fillmode": "overlay",
                            "size": 10,
                            "solidity": 0.2
                          }
                        },
                        "type": "barpolar"
                      }
                    ],
                    "carpet": [
                      {
                        "aaxis": {
                          "endlinecolor": "#2a3f5f",
                          "gridcolor": "white",
                          "linecolor": "white",
                          "minorgridcolor": "white",
                          "startlinecolor": "#2a3f5f"
                        },
                        "baxis": {
                          "endlinecolor": "#2a3f5f",
                          "gridcolor": "white",
                          "linecolor": "white",
                          "minorgridcolor": "white",
                          "startlinecolor": "#2a3f5f"
                        },
                        "type": "carpet"
                      }
                    ],
                    "choropleth": [
                      {
                        "colorbar": {
                          "outlinewidth": 0,
                          "ticks": ""
                        },
                        "type": "choropleth"
                      }
                    ],
                    "contour": [
                      {
                        "colorbar": {
                          "outlinewidth": 0,
                          "ticks": ""
                        },
                        "colorscale": [
                          [
                            0,
                            "#0d0887"
                          ],
                          [
                            0.1111111111111111,
                            "#46039f"
                          ],
                          [
                            0.2222222222222222,
                            "#7201a8"
                          ],
                          [
                            0.3333333333333333,
                            "#9c179e"
                          ],
                          [
                            0.4444444444444444,
                            "#bd3786"
                          ],
                          [
                            0.5555555555555556,
                            "#d8576b"
                          ],
                          [
                            0.6666666666666666,
                            "#ed7953"
                          ],
                          [
                            0.7777777777777778,
                            "#fb9f3a"
                          ],
                          [
                            0.8888888888888888,
                            "#fdca26"
                          ],
                          [
                            1,
                            "#f0f921"
                          ]
                        ],
                        "type": "contour"
                      }
                    ],
                    "contourcarpet": [
                      {
                        "colorbar": {
                          "outlinewidth": 0,
                          "ticks": ""
                        },
                        "type": "contourcarpet"
                      }
                    ],
                    "heatmap": [
                      {
                        "colorbar": {
                          "outlinewidth": 0,
                          "ticks": ""
                        },
                        "colorscale": [
                          [
                            0,
                            "#0d0887"
                          ],
                          [
                            0.1111111111111111,
                            "#46039f"
                          ],
                          [
                            0.2222222222222222,
                            "#7201a8"
                          ],
                          [
                            0.3333333333333333,
                            "#9c179e"
                          ],
                          [
                            0.4444444444444444,
                            "#bd3786"
                          ],
                          [
                            0.5555555555555556,
                            "#d8576b"
                          ],
                          [
                            0.6666666666666666,
                            "#ed7953"
                          ],
                          [
                            0.7777777777777778,
                            "#fb9f3a"
                          ],
                          [
                            0.8888888888888888,
                            "#fdca26"
                          ],
                          [
                            1,
                            "#f0f921"
                          ]
                        ],
                        "type": "heatmap"
                      }
                    ],
                    "heatmapgl": [
                      {
                        "colorbar": {
                          "outlinewidth": 0,
                          "ticks": ""
                        },
                        "colorscale": [
                          [
                            0,
                            "#0d0887"
                          ],
                          [
                            0.1111111111111111,
                            "#46039f"
                          ],
                          [
                            0.2222222222222222,
                            "#7201a8"
                          ],
                          [
                            0.3333333333333333,
                            "#9c179e"
                          ],
                          [
                            0.4444444444444444,
                            "#bd3786"
                          ],
                          [
                            0.5555555555555556,
                            "#d8576b"
                          ],
                          [
                            0.6666666666666666,
                            "#ed7953"
                          ],
                          [
                            0.7777777777777778,
                            "#fb9f3a"
                          ],
                          [
                            0.8888888888888888,
                            "#fdca26"
                          ],
                          [
                            1,
                            "#f0f921"
                          ]
                        ],
                        "type": "heatmapgl"
                      }
                    ],
                    "histogram": [
                      {
                        "marker": {
                          "pattern": {
                            "fillmode": "overlay",
                            "size": 10,
                            "solidity": 0.2
                          }
                        },
                        "type": "histogram"
                      }
                    ],
                    "histogram2d": [
                      {
                        "colorbar": {
                          "outlinewidth": 0,
                          "ticks": ""
                        },
                        "colorscale": [
                          [
                            0,
                            "#0d0887"
                          ],
                          [
                            0.1111111111111111,
                            "#46039f"
                          ],
                          [
                            0.2222222222222222,
                            "#7201a8"
                          ],
                          [
                            0.3333333333333333,
                            "#9c179e"
                          ],
                          [
                            0.4444444444444444,
                            "#bd3786"
                          ],
                          [
                            0.5555555555555556,
                            "#d8576b"
                          ],
                          [
                            0.6666666666666666,
                            "#ed7953"
                          ],
                          [
                            0.7777777777777778,
                            "#fb9f3a"
                          ],
                          [
                            0.8888888888888888,
                            "#fdca26"
                          ],
                          [
                            1,
                            "#f0f921"
                          ]
                        ],
                        "type": "histogram2d"
                      }
                    ],
                    "histogram2dcontour": [
                      {
                        "colorbar": {
                          "outlinewidth": 0,
                          "ticks": ""
                        },
                        "colorscale": [
                          [
                            0,
                            "#0d0887"
                          ],
                          [
                            0.1111111111111111,
                            "#46039f"
                          ],
                          [
                            0.2222222222222222,
                            "#7201a8"
                          ],
                          [
                            0.3333333333333333,
                            "#9c179e"
                          ],
                          [
                            0.4444444444444444,
                            "#bd3786"
                          ],
                          [
                            0.5555555555555556,
                            "#d8576b"
                          ],
                          [
                            0.6666666666666666,
                            "#ed7953"
                          ],
                          [
                            0.7777777777777778,
                            "#fb9f3a"
                          ],
                          [
                            0.8888888888888888,
                            "#fdca26"
                          ],
                          [
                            1,
                            "#f0f921"
                          ]
                        ],
                        "type": "histogram2dcontour"
                      }
                    ],
                    "mesh3d": [
                      {
                        "colorbar": {
                          "outlinewidth": 0,
                          "ticks": ""
                        },
                        "type": "mesh3d"
                      }
                    ],
                    "parcoords": [
                      {
                        "line": {
                          "colorbar": {
                            "outlinewidth": 0,
                            "ticks": ""
                          }
                        },
                        "type": "parcoords"
                      }
                    ],
                    "pie": [
                      {
                        "automargin": true,
                        "type": "pie"
                      }
                    ],
                    "scatter": [
                      {
                        "fillpattern": {
                          "fillmode": "overlay",
                          "size": 10,
                          "solidity": 0.2
                        },
                        "type": "scatter"
                      }
                    ],
                    "scatter3d": [
                      {
                        "line": {
                          "colorbar": {
                            "outlinewidth": 0,
                            "ticks": ""
                          }
                        },
                        "marker": {
                          "colorbar": {
                            "outlinewidth": 0,
                            "ticks": ""
                          }
                        },
                        "type": "scatter3d"
                      }
                    ],
                    "scattercarpet": [
                      {
                        "marker": {
                          "colorbar": {
                            "outlinewidth": 0,
                            "ticks": ""
                          }
                        },
                        "type": "scattercarpet"
                      }
                    ],
                    "scattergeo": [
                      {
                        "marker": {
                          "colorbar": {
                            "outlinewidth": 0,
                            "ticks": ""
                          }
                        },
                        "type": "scattergeo"
                      }
                    ],
                    "scattergl": [
                      {
                        "marker": {
                          "colorbar": {
                            "outlinewidth": 0,
                            "ticks": ""
                          }
                        },
                        "type": "scattergl"
                      }
                    ],
                    "scattermapbox": [
                      {
                        "marker": {
                          "colorbar": {
                            "outlinewidth": 0,
                            "ticks": ""
                          }
                        },
                        "type": "scattermapbox"
                      }
                    ],
                    "scatterpolar": [
                      {
                        "marker": {
                          "colorbar": {
                            "outlinewidth": 0,
                            "ticks": ""
                          }
                        },
                        "type": "scatterpolar"
                      }
                    ],
                    "scatterpolargl": [
                      {
                        "marker": {
                          "colorbar": {
                            "outlinewidth": 0,
                            "ticks": ""
                          }
                        },
                        "type": "scatterpolargl"
                      }
                    ],
                    "scatterternary": [
                      {
                        "marker": {
                          "colorbar": {
                            "outlinewidth": 0,
                            "ticks": ""
                          }
                        },
                        "type": "scatterternary"
                      }
                    ],
                    "surface": [
                      {
                        "colorbar": {
                          "outlinewidth": 0,
                          "ticks": ""
                        },
                        "colorscale": [
                          [
                            0,
                            "#0d0887"
                          ],
                          [
                            0.1111111111111111,
                            "#46039f"
                          ],
                          [
                            0.2222222222222222,
                            "#7201a8"
                          ],
                          [
                            0.3333333333333333,
                            "#9c179e"
                          ],
                          [
                            0.4444444444444444,
                            "#bd3786"
                          ],
                          [
                            0.5555555555555556,
                            "#d8576b"
                          ],
                          [
                            0.6666666666666666,
                            "#ed7953"
                          ],
                          [
                            0.7777777777777778,
                            "#fb9f3a"
                          ],
                          [
                            0.8888888888888888,
                            "#fdca26"
                          ],
                          [
                            1,
                            "#f0f921"
                          ]
                        ],
                        "type": "surface"
                      }
                    ],
                    "table": [
                      {
                        "cells": {
                          "fill": {
                            "color": "#EBF0F8"
                          },
                          "line": {
                            "color": "white"
                          }
                        },
                        "header": {
                          "fill": {
                            "color": "#C8D4E3"
                          },
                          "line": {
                            "color": "white"
                          }
                        },
                        "type": "table"
                      }
                    ]
                  },
                  "layout": {
                    "annotationdefaults": {
                      "arrowcolor": "#2a3f5f",
                      "arrowhead": 0,
                      "arrowwidth": 1
                    },
                    "autotypenumbers": "strict",
                    "coloraxis": {
                      "colorbar": {
                        "outlinewidth": 0,
                        "ticks": ""
                      }
                    },
                    "colorscale": {
                      "diverging": [
                        [
                          0,
                          "#8e0152"
                        ],
                        [
                          0.1,
                          "#c51b7d"
                        ],
                        [
                          0.2,
                          "#de77ae"
                        ],
                        [
                          0.3,
                          "#f1b6da"
                        ],
                        [
                          0.4,
                          "#fde0ef"
                        ],
                        [
                          0.5,
                          "#f7f7f7"
                        ],
                        [
                          0.6,
                          "#e6f5d0"
                        ],
                        [
                          0.7,
                          "#b8e186"
                        ],
                        [
                          0.8,
                          "#7fbc41"
                        ],
                        [
                          0.9,
                          "#4d9221"
                        ],
                        [
                          1,
                          "#276419"
                        ]
                      ],
                      "sequential": [
                        [
                          0,
                          "#0d0887"
                        ],
                        [
                          0.1111111111111111,
                          "#46039f"
                        ],
                        [
                          0.2222222222222222,
                          "#7201a8"
                        ],
                        [
                          0.3333333333333333,
                          "#9c179e"
                        ],
                        [
                          0.4444444444444444,
                          "#bd3786"
                        ],
                        [
                          0.5555555555555556,
                          "#d8576b"
                        ],
                        [
                          0.6666666666666666,
                          "#ed7953"
                        ],
                        [
                          0.7777777777777778,
                          "#fb9f3a"
                        ],
                        [
                          0.8888888888888888,
                          "#fdca26"
                        ],
                        [
                          1,
                          "#f0f921"
                        ]
                      ],
                      "sequentialminus": [
                        [
                          0,
                          "#0d0887"
                        ],
                        [
                          0.1111111111111111,
                          "#46039f"
                        ],
                        [
                          0.2222222222222222,
                          "#7201a8"
                        ],
                        [
                          0.3333333333333333,
                          "#9c179e"
                        ],
                        [
                          0.4444444444444444,
                          "#bd3786"
                        ],
                        [
                          0.5555555555555556,
                          "#d8576b"
                        ],
                        [
                          0.6666666666666666,
                          "#ed7953"
                        ],
                        [
                          0.7777777777777778,
                          "#fb9f3a"
                        ],
                        [
                          0.8888888888888888,
                          "#fdca26"
                        ],
                        [
                          1,
                          "#f0f921"
                        ]
                      ]
                    },
                    "colorway": [
                      "#636efa",
                      "#EF553B",
                      "#00cc96",
                      "#ab63fa",
                      "#FFA15A",
                      "#19d3f3",
                      "#FF6692",
                      "#B6E880",
                      "#FF97FF",
                      "#FECB52"
                    ],
                    "font": {
                      "color": "#2a3f5f"
                    },
                    "geo": {
                      "bgcolor": "white",
                      "lakecolor": "white",
                      "landcolor": "#E5ECF6",
                      "showlakes": true,
                      "showland": true,
                      "subunitcolor": "white"
                    },
                    "hoverlabel": {
                      "align": "left"
                    },
                    "hovermode": "closest",
                    "mapbox": {
                      "style": "light"
                    },
                    "paper_bgcolor": "white",
                    "plot_bgcolor": "#E5ECF6",
                    "polar": {
                      "angularaxis": {
                        "gridcolor": "white",
                        "linecolor": "white",
                        "ticks": ""
                      },
                      "bgcolor": "#E5ECF6",
                      "radialaxis": {
                        "gridcolor": "white",
                        "linecolor": "white",
                        "ticks": ""
                      }
                    },
                    "scene": {
                      "xaxis": {
                        "backgroundcolor": "#E5ECF6",
                        "gridcolor": "white",
                        "gridwidth": 2,
                        "linecolor": "white",
                        "showbackground": true,
                        "ticks": "",
                        "zerolinecolor": "white"
                      },
                      "yaxis": {
                        "backgroundcolor": "#E5ECF6",
                        "gridcolor": "white",
                        "gridwidth": 2,
                        "linecolor": "white",
                        "showbackground": true,
                        "ticks": "",
                        "zerolinecolor": "white"
                      },
                      "zaxis": {
                        "backgroundcolor": "#E5ECF6",
                        "gridcolor": "white",
                        "gridwidth": 2,
                        "linecolor": "white",
                        "showbackground": true,
                        "ticks": "",
                        "zerolinecolor": "white"
                      }
                    },
                    "shapedefaults": {
                      "line": {
                        "color": "#2a3f5f"
                      }
                    },
                    "ternary": {
                      "aaxis": {
                        "gridcolor": "white",
                        "linecolor": "white",
                        "ticks": ""
                      },
                      "baxis": {
                        "gridcolor": "white",
                        "linecolor": "white",
                        "ticks": ""
                      },
                      "bgcolor": "#E5ECF6",
                      "caxis": {
                        "gridcolor": "white",
                        "linecolor": "white",
                        "ticks": ""
                      }
                    },
                    "title": {
                      "x": 0.05
                    },
                    "xaxis": {
                      "automargin": true,
                      "gridcolor": "white",
                      "linecolor": "white",
                      "ticks": "",
                      "title": {
                        "standoff": 15
                      },
                      "zerolinecolor": "white",
                      "zerolinewidth": 2
                    },
                    "yaxis": {
                      "automargin": true,
                      "gridcolor": "white",
                      "linecolor": "white",
                      "ticks": "",
                      "title": {
                        "standoff": 15
                      },
                      "zerolinecolor": "white",
                      "zerolinewidth": 2
                    }
                  }
                },
                "title": {
                  "text": "Adresses (min 10$) (2023)"
                },
                "width": 500
              }
            }
          },
          "metadata": {},
          "output_type": "display_data"
        }
      ],
      "source": [
        "df_plot = df_year\n",
        "\n",
        "# Get unique years in df_year\n",
        "years = df_year['year'].unique()\n",
        "\n",
        "# Loop through years and create a pie chart for each one\n",
        "for year in years:\n",
        "    # Filter data for current year\n",
        "    df_yearly = df_plot[df_plot['year'] == year]\n",
        "    \n",
        "    # Create pie chart\n",
        "    fig = px.pie(df_yearly, values='addresses', names='asset')\n",
        "    fig.update_traces(textinfo='value', textfont_size=12, textposition='inside')\n",
        "\n",
        "    fig.update_layout(height=500, width=500, title_text=f\"Adresses (min 10$) ({year})\")\n",
        "    fig.show()"
      ]
    }
  ],
  "metadata": {
    "colab": {
      "authorship_tag": "ABX9TyPHf/lo1CwqFwGul/29d0Jy",
      "include_colab_link": true,
      "provenance": []
    },
    "kernelspec": {
      "display_name": "Python 3",
      "name": "python3"
    },
    "language_info": {
      "codemirror_mode": {
        "name": "ipython",
        "version": 3
      },
      "file_extension": ".py",
      "mimetype": "text/x-python",
      "name": "python",
      "nbconvert_exporter": "python",
      "pygments_lexer": "ipython3",
      "version": "3.8.10"
    }
  },
  "nbformat": 4,
  "nbformat_minor": 0
}
