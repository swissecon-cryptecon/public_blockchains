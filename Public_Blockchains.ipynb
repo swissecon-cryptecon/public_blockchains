{
  "nbformat": 4,
  "nbformat_minor": 0,
  "metadata": {
    "colab": {
      "provenance": [],
      "authorship_tag": "ABX9TyPHf/lo1CwqFwGul/29d0Jy",
      "include_colab_link": true
    },
    "kernelspec": {
      "name": "python3",
      "display_name": "Python 3"
    },
    "language_info": {
      "name": "python"
    }
  },
  "cells": [
    {
      "cell_type": "markdown",
      "metadata": {
        "id": "view-in-github",
        "colab_type": "text"
      },
      "source": [
        "<a href=\"https://colab.research.google.com/github/swissecon-cryptecon/public_blockchains/blob/main/Public_Blockchains.ipynb\" target=\"_parent\"><img src=\"https://colab.research.google.com/assets/colab-badge.svg\" alt=\"Open In Colab\"/></a>"
      ]
    },
    {
      "cell_type": "code",
      "execution_count": null,
      "metadata": {
        "id": "5OnO8euF6HTI"
      },
      "outputs": [],
      "source": [
        "from messari.messari import Messari\n",
        "import pandas as pd"
      ]
    },
    {
      "cell_type": "code",
      "source": [
        "messari = Messari('OwwZ+mQ92hTCnYuzB-Gx9+927B2h-PNBIiyihjsVMmnF3to4')"
      ],
      "metadata": {
        "id": "EkWJLxCD6MOu"
      },
      "execution_count": null,
      "outputs": []
    },
    {
      "cell_type": "code",
      "source": [
        "#list of variables, see also documentation: https://messari.io/api/docs#tag/News/operation/Get%20News%20for%20Asset\n",
        "print(dir(messari)) \n",
        "list_messari_metrics = messari.list_asset_timeseries_metric_ids()\n",
        "data = list_messari_metrics[\"data\"][\"metrics\"]  \n",
        "df = pd.DataFrame(data)"
      ],
      "metadata": {
        "id": "XlglEpdC6O4_"
      },
      "execution_count": null,
      "outputs": []
    },
    {
      "cell_type": "code",
      "source": [
        "assets = 'bitcoin'\n",
        "metric = 'price'\n",
        "start = '2020-06-01'\n",
        "end = '2021-01-01'\n",
        "timeseries_df = messari.get_asset_timeseries(asset_slugs=assets, asset_metric=metric, start=start, end=end)\n",
        "timeseries_df"
      ],
      "metadata": {
        "id": "BIe9_uNf6SMM"
      },
      "execution_count": null,
      "outputs": []
    },
    {
      "cell_type": "code",
      "source": [
        "print(dir(messari)) ### see documentation: https://messari.io/api/docs#tag/News/operation/Get%20News%20for%20Asset\n",
        "list_messari_metrics = messari.list_asset_timeseries_metric_ids()\n",
        "data = list_messari_metrics[\"data\"][\"metrics\"]\n",
        "df = pd.DataFrame(data)"
      ],
      "metadata": {
        "id": "cFI_trrC6WxT"
      },
      "execution_count": null,
      "outputs": []
    },
    {
      "cell_type": "code",
      "source": [
        "sply.circ"
      ],
      "metadata": {
        "id": "_SL8NOhI6XLs"
      },
      "execution_count": null,
      "outputs": []
    }
  ]
}